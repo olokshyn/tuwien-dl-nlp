{
 "cells": [
  {
   "cell_type": "code",
   "execution_count": 1,
   "metadata": {
    "metadata": {}
   },
   "outputs": [],
   "source": [
    "import math\n",
    "import torch\n",
    "import transformers\n",
    "from datasets import load_dataset, concatenate_datasets"
   ]
  },
  {
   "cell_type": "code",
   "execution_count": 2,
   "metadata": {},
   "outputs": [],
   "source": [
    "# https://huggingface.co/distilbert/distilgpt2\n",
    "# https://huggingface.co/openai-community/gpt2/tree/main\n",
    "model_id = \"distilbert/distilgpt2\"\n",
    "tokenizer_id = model_id\n",
    "\n",
    "# https://huggingface.co/datasets/salgara/Grimes_tales\n",
    "dataset_id = \"salgara/Grimes_tales\""
   ]
  },
  {
   "cell_type": "code",
   "execution_count": 3,
   "metadata": {},
   "outputs": [
    {
     "data": {
      "text/plain": [
       "Dataset({\n",
       "    features: ['Title', 'Story', 'Rating', 'Voters'],\n",
       "    num_rows: 216\n",
       "})"
      ]
     },
     "execution_count": 3,
     "metadata": {},
     "output_type": "execute_result"
    }
   ],
   "source": [
    "dataset = load_dataset(dataset_id)[\"train\"]\n",
    "dataset"
   ]
  },
  {
   "cell_type": "markdown",
   "metadata": {},
   "source": [
    "[HuggingFace Course: Tokenizers](https://huggingface.co/learn/nlp-course/en/chapter2/4)"
   ]
  },
  {
   "cell_type": "code",
   "execution_count": 4,
   "metadata": {},
   "outputs": [
    {
     "data": {
      "text/plain": [
       "{'bos_token': '<|endoftext|>',\n",
       " 'eos_token': '<|endoftext|>',\n",
       " 'unk_token': '<|endoftext|>',\n",
       " 'pad_token': '<|endoftext|>'}"
      ]
     },
     "execution_count": 4,
     "metadata": {},
     "output_type": "execute_result"
    }
   ],
   "source": [
    "tokenizer = transformers.AutoTokenizer.from_pretrained(tokenizer_id)\n",
    "if tokenizer.pad_token is None:\n",
    "    tokenizer.pad_token = tokenizer.eos_token\n",
    "\n",
    "tokenizer.special_tokens_map"
   ]
  },
  {
   "cell_type": "code",
   "execution_count": 5,
   "metadata": {},
   "outputs": [
    {
     "data": {
      "text/plain": [
       "220"
      ]
     },
     "execution_count": 5,
     "metadata": {},
     "output_type": "execute_result"
    }
   ],
   "source": [
    "# A whitespace-before-the-word and a whitespace symbol\n",
    "tokenizer.vocab[\"Ġ\"]"
   ]
  },
  {
   "cell_type": "code",
   "execution_count": 6,
   "metadata": {},
   "outputs": [
    {
     "data": {
      "text/plain": [
       "{'input_ids': [220], 'attention_mask': [1]}"
      ]
     },
     "execution_count": 6,
     "metadata": {},
     "output_type": "execute_result"
    }
   ],
   "source": [
    "tokenizer(\" \")"
   ]
  },
  {
   "cell_type": "code",
   "execution_count": 7,
   "metadata": {},
   "outputs": [
    {
     "data": {
      "text/plain": [
       "198"
      ]
     },
     "execution_count": 7,
     "metadata": {},
     "output_type": "execute_result"
    }
   ],
   "source": [
    "# A newline symbol\n",
    "tokenizer.vocab[\"Ċ\"]"
   ]
  },
  {
   "cell_type": "code",
   "execution_count": 8,
   "metadata": {},
   "outputs": [
    {
     "data": {
      "text/plain": [
       "{'input_ids': [198], 'attention_mask': [1]}"
      ]
     },
     "execution_count": 8,
     "metadata": {},
     "output_type": "execute_result"
    }
   ],
   "source": [
    "tokenizer(\"\\n\")"
   ]
  },
  {
   "cell_type": "code",
   "execution_count": 9,
   "metadata": {},
   "outputs": [
    {
     "data": {
      "text/plain": [
       "{'ĠSunny': 32241,\n",
       " 'Ġregarded': 11987,\n",
       " 'Ġundermined': 31256,\n",
       " 'ĠDAV': 42274,\n",
       " 'Vi': 38432,\n",
       " 'Ġchamp': 24092,\n",
       " 'SM': 12310,\n",
       " 'hops': 21936,\n",
       " 'ĠVermont': 16033,\n",
       " 'ĠBuy': 11763,\n",
       " 'ctl': 34168,\n",
       " 'ĠBoh': 44366,\n",
       " 'Effective': 44831,\n",
       " 'Ġcut': 2005,\n",
       " 'dom': 3438,\n",
       " 'Ġgoat': 26917,\n",
       " 'Ġovers': 10753,\n",
       " 'ĠOl': 6544,\n",
       " 'oping': 15816,\n",
       " '302': 22709,\n",
       " 'ĠP': 350,\n",
       " 'rans': 26084,\n",
       " 'Ġcongr': 19030,\n",
       " 'Ġreinstated': 40685,\n",
       " 'Medical': 37158,\n",
       " 'Ġreversal': 27138,\n",
       " 'Ġspecifying': 31577,\n",
       " 'Ġlitres': 49622,\n",
       " 'ĠSimple': 17427,\n",
       " 'Ġstud': 941,\n",
       " 'Ġmodules': 13103,\n",
       " '0000000000000000': 25645,\n",
       " 'inated': 3898,\n",
       " 'Ġsynd': 11150,\n",
       " 'Ġ116': 18693,\n",
       " 'liness': 26061,\n",
       " 'pour': 48681,\n",
       " 'Ġnausea': 32122,\n",
       " 'Wow': 22017,\n",
       " 'ayette': 27067,\n",
       " 'laughter': 27815,\n",
       " 'ĠTend': 48664,\n",
       " 'Ġclub': 3430,\n",
       " 'Ġframework': 9355,\n",
       " 'ĠYork': 1971,\n",
       " 'ĠGor': 19097,\n",
       " 'Ġpressured': 32098,\n",
       " 'Ġpick': 2298,\n",
       " 'Ġoffer': 2897,\n",
       " 'APP': 24805,\n",
       " 'SAY': 27358,\n",
       " 'icker': 15799,\n",
       " 'UTERS': 14974,\n",
       " 'Ġ122': 19409,\n",
       " 'Ġcreatine': 49346,\n",
       " 'ĠVariant': 38215,\n",
       " 'isal': 28456,\n",
       " 'Ġlit': 6578,\n",
       " 'ators': 2024,\n",
       " 'ĠFrank': 5278,\n",
       " 'Capt': 19209,\n",
       " 'Ġdonate': 16565,\n",
       " 'Ġmerch': 12487,\n",
       " 'Ġcoy': 34003,\n",
       " 'Ġremembers': 18140,\n",
       " 'Ġheavens': 27636,\n",
       " 'Ġsegreg': 32301,\n",
       " 'Ġ........': 20004,\n",
       " 'ĠAriel': 33364,\n",
       " 'Ġdescent': 18598,\n",
       " 'ĠBorders': 40934,\n",
       " 'quez': 22281,\n",
       " 'atchewan': 29736,\n",
       " 'ĠDill': 44322,\n",
       " 'Download': 10002,\n",
       " 'Ġcompatibility': 17764,\n",
       " 'Ġstartled': 36249,\n",
       " 'ĠAdmiral': 24646,\n",
       " 'ĠBills': 20209,\n",
       " 'ĠGhost': 9897,\n",
       " 'ĠLeaving': 38068,\n",
       " 'Ġadjoining': 48106,\n",
       " 'ĠHouses': 34336,\n",
       " 'ĠGET': 17151,\n",
       " 'Ġquarters': 13620,\n",
       " 'Ġwand': 11569,\n",
       " 'ament': 3263,\n",
       " 'ĠTaste': 29633,\n",
       " 'Around': 24472,\n",
       " 'ĠFinding': 27063,\n",
       " 'orf': 24263,\n",
       " 'orge': 3643,\n",
       " 'ĠCorinth': 31268,\n",
       " 'hawks': 27221,\n",
       " 'ĠProtesters': 46574,\n",
       " 'belt': 37976,\n",
       " 'ĠBry': 9092,\n",
       " 'ĠGermany': 4486,\n",
       " 'ĠSmash': 18214,\n",
       " 'ĠWem': 45300,\n",
       " 'Ġgy': 21486,\n",
       " 'Ġcompost': 36541,\n",
       " 'ĠTweet': 18752,\n",
       " 'EVA': 27881,\n",
       " 'ĠZoro': 42840,\n",
       " 'hog': 31897,\n",
       " 'Ġlocker': 17355,\n",
       " 'Ġmigrants': 12783,\n",
       " 'Ġnode': 10139,\n",
       " 'Ġhallmark': 44995,\n",
       " 'Broad': 30507,\n",
       " 'Ġtether': 49477,\n",
       " 'sylv': 9163,\n",
       " 'Ġseparation': 14139,\n",
       " 'episode': 38668,\n",
       " 'hop': 8548,\n",
       " 'wana': 49484,\n",
       " 'ĠResurrection': 30688,\n",
       " 'ĠSequ': 24604,\n",
       " 'atellite': 26493,\n",
       " 'ĠPruitt': 39637,\n",
       " 'Ġbicycles': 35426,\n",
       " 'ĠCrimes': 32655,\n",
       " 'ĠPis': 42021,\n",
       " 'Ġ32': 3933,\n",
       " 'outh': 1536,\n",
       " 'ĠKnights': 15188,\n",
       " 'Ġbubble': 14310,\n",
       " 'ĠEnjoy': 18179,\n",
       " 'Ġhamb': 41478,\n",
       " 'Ġheavenly': 32271,\n",
       " 'Ġadject': 31129,\n",
       " 'Evil': 48477,\n",
       " 'Ġbruising': 45468,\n",
       " 'Ġcorrelation': 16096,\n",
       " 'Ġimpacts': 12751,\n",
       " 'Ġmang': 45663,\n",
       " 'ĠDes': 2935,\n",
       " 'ids': 2340,\n",
       " 'Ġphotons': 44378,\n",
       " 'Ġdemon': 3222,\n",
       " 'Ġranch': 28752,\n",
       " 'Charge': 50044,\n",
       " 'uitive': 33740,\n",
       " 'Ġarousal': 36894,\n",
       " 'Ġcherry': 23612,\n",
       " 'init': 15003,\n",
       " 'ring': 1806,\n",
       " 'oft': 11205,\n",
       " 'ĠPhillips': 17630,\n",
       " 'full': 12853,\n",
       " '\":': 1298,\n",
       " 'legraph': 16606,\n",
       " 'orio': 40974,\n",
       " 'ĠGenocide': 48721,\n",
       " 'ĠFior': 40040,\n",
       " 'topia': 46575,\n",
       " 'ence': 594,\n",
       " 'ĠIndra': 49886,\n",
       " 'oulos': 19537,\n",
       " 'sche': 15952,\n",
       " 'oppers': 37186,\n",
       " 'ĠSOFTWARE': 47466,\n",
       " 'Ġinch': 11111,\n",
       " 'Ġmaritime': 30017,\n",
       " 'ĠMai': 36709,\n",
       " 'LOAD': 35613,\n",
       " 'ĠComb': 14336,\n",
       " 'Ġard': 33848,\n",
       " 'Ġhydrogen': 17669,\n",
       " 'Ġapprentices': 38523,\n",
       " 'Ġchaos': 11918,\n",
       " 'ĠNaz': 12819,\n",
       " 'Ġdiced': 48898,\n",
       " 'Ġoutdated': 23572,\n",
       " 'overty': 24085,\n",
       " 'Ġammon': 34946,\n",
       " 'Ġquests': 21359,\n",
       " 'Ġtilted': 37229,\n",
       " '259': 25191,\n",
       " 'voc': 18893,\n",
       " 'Ġsneakers': 42649,\n",
       " 'Ġtranslator': 33417,\n",
       " 'atl': 25864,\n",
       " 'ĠCooking': 33774,\n",
       " 'ĠEv': 4319,\n",
       " 'Ġtestifying': 47952,\n",
       " 'Ġscrut': 12054,\n",
       " 'Ġtargeting': 10822,\n",
       " 'Hit': 17889,\n",
       " 'Ġpreached': 38737,\n",
       " 'Ġtraced': 23246,\n",
       " 'ĠChap': 15954,\n",
       " 'Ġcollectors': 26668,\n",
       " 'eva': 48855,\n",
       " 'ĠAccounting': 40964,\n",
       " 'earance': 23435,\n",
       " 'ĠCounty': 3418,\n",
       " 'ĠNewsletter': 35798,\n",
       " 'Ġschema': 32815,\n",
       " 'ĠReturns': 16409,\n",
       " 'Ġuncontrolled': 47913,\n",
       " 'Ġwonder': 4240,\n",
       " 'ĠXuan': 37746,\n",
       " 'Ġassertions': 29965,\n",
       " 'Ġfamilies': 4172,\n",
       " 'ĠRuns': 44743,\n",
       " 'Ġfavourable': 37742,\n",
       " 'Ġgol': 43791,\n",
       " 'processor': 41341,\n",
       " 'ĠHighest': 41864,\n",
       " 'Ġembryo': 39880,\n",
       " 'Ġmortg': 28465,\n",
       " 'Ġomn': 22284,\n",
       " 'zzle': 26413,\n",
       " 'ĠKaufman': 46991,\n",
       " 'idal': 11624,\n",
       " 'Ġcookie': 19751,\n",
       " 'wcsstore': 12781,\n",
       " 'Port': 13924,\n",
       " 'Ġtrademarks': 27346,\n",
       " 'DIT': 49828,\n",
       " 'rt': 17034,\n",
       " 'Ġspecializes': 29786,\n",
       " 'job': 21858,\n",
       " 'Ġ504': 41612,\n",
       " 'ĠEnh': 15860,\n",
       " 'ĠCannon': 20585,\n",
       " 'igen': 9324,\n",
       " 'blocking': 41938,\n",
       " 'Gam': 34777,\n",
       " 'esta': 18059,\n",
       " 'ĠCitizenship': 47002,\n",
       " 'Ġslips': 33841,\n",
       " 'ĠRio': 15338,\n",
       " 'itzerland': 13947,\n",
       " 'ps': 862,\n",
       " 'Ġ\"': 366,\n",
       " 'Ġmoral': 6573,\n",
       " 'ĠTorment': 47195,\n",
       " 'Ġunanimously': 28355,\n",
       " 'ĠJones': 5437,\n",
       " 'Ġintolerable': 49469,\n",
       " 'elle': 13485,\n",
       " 'Ġmur': 4636,\n",
       " 'Narr': 45750,\n",
       " 'Ġcontain': 3994,\n",
       " 'Ġcriminals': 12954,\n",
       " 'ĠHuckabee': 38253,\n",
       " 'Ġrunning': 2491,\n",
       " 'lining': 21310,\n",
       " 'F': 37,\n",
       " 'ks': 591,\n",
       " 'Nazis': 44527,\n",
       " 'ĠKuh': 46035,\n",
       " 'ę': 213,\n",
       " '×Ĳ': 42973,\n",
       " 'Ġcorrid': 16080,\n",
       " 'asaki': 33846,\n",
       " 'Ġchloride': 44921,\n",
       " 'ĠJonah': 45447,\n",
       " 'IVER': 38757,\n",
       " 'urnal': 35735,\n",
       " 'Ġsexism': 24953,\n",
       " 'Reg': 8081,\n",
       " 'ymes': 22009,\n",
       " 'ĠMiner': 29295,\n",
       " 'Ext': 11627,\n",
       " 'Richard': 22245,\n",
       " 'Pres': 25460,\n",
       " 'forcing': 18766,\n",
       " 'mop': 35244,\n",
       " 'Ġ601': 49231,\n",
       " 'Ġpitched': 21730,\n",
       " 'Ġsoutheast': 26015,\n",
       " 'ĠFull': 6462,\n",
       " 'ĠGeneva': 20552,\n",
       " 'Ġcausation': 46850,\n",
       " 'Ġrecycling': 25914,\n",
       " 'Ġult': 3789,\n",
       " 'ĠÂł': 5624,\n",
       " 'Trans': 8291,\n",
       " 'Ġward': 15305,\n",
       " 'illian': 37896,\n",
       " 'icons': 34280,\n",
       " 'Ġuniquely': 24139,\n",
       " 'oked': 6545,\n",
       " '340': 23601,\n",
       " 'Ġhouses': 7777,\n",
       " 'Ġdoomed': 24312,\n",
       " 'create': 17953,\n",
       " 'hetti': 33392,\n",
       " 'ĠSiberian': 47965,\n",
       " 'Ġarticle': 2708,\n",
       " 'Ġmapped': 27661,\n",
       " 'Ġcasualties': 18499,\n",
       " 'Ġpolygamy': 43111,\n",
       " 'Ġriff': 36738,\n",
       " 'Ġlively': 29696,\n",
       " 'ĠRecre': 30009,\n",
       " 'éĹĺ': 42234,\n",
       " 'ĠOdd': 20664,\n",
       " 'erve': 3760,\n",
       " 'Lower': 31426,\n",
       " 'urances': 31741,\n",
       " 'âĸĪâĸĪâĸĪâĸĪâĸĪâĸĪâĸĪâĸĪ': 49527,\n",
       " 'Ġcontrast': 6273,\n",
       " 'artney': 41709,\n",
       " 'Ġpercussion': 48388,\n",
       " 'Ġ283': 42032,\n",
       " 'inis': 16661,\n",
       " 'established': 27718,\n",
       " 'ĠUtah': 10202,\n",
       " 'Ġdynamically': 32366,\n",
       " 'Ġprinc': 5144,\n",
       " 'Sure': 19457,\n",
       " 'Business': 24749,\n",
       " 'umbo': 29309,\n",
       " 'ĠDS': 17400,\n",
       " '\\\\\\\\\\\\\\\\\\\\\\\\\\\\\\\\\\\\\\\\\\\\\\\\\\\\\\\\\\\\\\\\': 34604,\n",
       " 'Ġblunt': 19861,\n",
       " 'ZA': 34892,\n",
       " 'æĺ¯': 42468,\n",
       " 'Ġ436': 50038,\n",
       " 'ĠArmour': 23752,\n",
       " 'ĠFixes': 34258,\n",
       " 'Ġcogn': 8866,\n",
       " 'Poll': 39176,\n",
       " 'Kate': 45087,\n",
       " 'severe': 43070,\n",
       " 'auntlet': 32633,\n",
       " 'ick': 624,\n",
       " 'ĠNam': 17871,\n",
       " 'Ġextracting': 37895,\n",
       " '?!': 12248,\n",
       " 'ĠSubcommittee': 42187,\n",
       " 'uph': 25689,\n",
       " 'ursions': 42394,\n",
       " 'Easy': 28406,\n",
       " 'IRC': 49060,\n",
       " 'SU': 12564,\n",
       " 'ĠAdding': 18247,\n",
       " 'Ġabide': 27851,\n",
       " 'ĠMatte': 38789,\n",
       " 'Ġignoring': 15482,\n",
       " 'Ġfitted': 18235,\n",
       " 'Ġmatured': 48491,\n",
       " 'Ġunsafe': 21596,\n",
       " 'fa': 13331,\n",
       " 'ĠIBM': 19764,\n",
       " 'cookie': 44453,\n",
       " 'ensity': 6377,\n",
       " 'ĠMount': 5628,\n",
       " 'Ġcannabin': 30716,\n",
       " 'Against': 39276,\n",
       " 'Ġforeclosure': 41400,\n",
       " '.>>': 32756,\n",
       " 'us': 385,\n",
       " 'ĠCornel': 48214,\n",
       " 'ĠEmer': 10320,\n",
       " 'Ġ117': 19048,\n",
       " 'ĠPlum': 43178,\n",
       " 'Ġk': 479,\n",
       " 'Ġscoreboard': 50198,\n",
       " 'ĠCardiff': 34910,\n",
       " 'align': 31494,\n",
       " 'Ġpelvic': 43510,\n",
       " 'rene': 25924,\n",
       " 'ĠAlbuquerque': 38633,\n",
       " 'raw': 1831,\n",
       " 'Ġinjust': 19019,\n",
       " 'vironment': 2468,\n",
       " 'ĠEarlier': 20635,\n",
       " 'Ġbarr': 29069,\n",
       " 'Ġchain': 6333,\n",
       " 'Ġcoherent': 24870,\n",
       " 'Ġrecreational': 18136,\n",
       " 'slice': 48369,\n",
       " 'ainers': 50221,\n",
       " 'ĠDrugs': 26722,\n",
       " 'Ġannouncing': 16428,\n",
       " 'Ġspacing': 31050,\n",
       " 'Com': 5377,\n",
       " 'lig': 4604,\n",
       " 'Ġencountering': 42398,\n",
       " 'Ġfraud': 7394,\n",
       " 'putable': 48840,\n",
       " 'Iran': 23798,\n",
       " 'Ġseeded': 48453,\n",
       " 'hes': 956,\n",
       " 'Î¼': 34703,\n",
       " 'Ġcog': 43072,\n",
       " 'endor': 18738,\n",
       " 'ĠSYSTEM': 36230,\n",
       " 'Ġpromot': 4256,\n",
       " 'ween': 975,\n",
       " 'ĠMayhem': 35450,\n",
       " 'Player': 14140,\n",
       " 'affles': 48501,\n",
       " 'aquin': 48734,\n",
       " 'form': 687,\n",
       " '[': 58,\n",
       " 'rers': 27736,\n",
       " 'see': 3826,\n",
       " 'ĠAmendment': 8441,\n",
       " 'ĠMelee': 21058,\n",
       " 'ĠWorlds': 19946,\n",
       " 'Ġangels': 21981,\n",
       " 'Ġburied': 11694,\n",
       " 'Ġconquering': 49977,\n",
       " 'Ġenigmatic': 48584,\n",
       " 'Ġfederal': 2717,\n",
       " 'iana': 7484,\n",
       " 'ogy': 9868,\n",
       " 'Sa': 33890,\n",
       " 'An': 2025,\n",
       " 'Ġ1902': 45611,\n",
       " 'Ġaesthetics': 35431,\n",
       " 'ĠEvans': 13922,\n",
       " 'Ġintentional': 21391,\n",
       " 'ĠDeVos': 39503,\n",
       " 'ĠSchultz': 26530,\n",
       " '============': 25609,\n",
       " 'Ġissuance': 30145,\n",
       " 'Ġissued': 4884,\n",
       " 'Ġprescribing': 39973,\n",
       " 'hemy': 36598,\n",
       " 'Ġproceedings': 13106,\n",
       " 'Ġrecognized': 8018,\n",
       " 'Ġreserved': 10395,\n",
       " 'Ġtasks': 8861,\n",
       " '222': 23148,\n",
       " 'amiya': 38241,\n",
       " 'ĠStage': 15371,\n",
       " 'Ġexhausting': 39663,\n",
       " 'cific': 7790,\n",
       " 'otions': 36083,\n",
       " 'umbai': 21645,\n",
       " 'ĠBudapest': 40959,\n",
       " 'ĠOpinion': 29525,\n",
       " 'ĠTosh': 47922,\n",
       " 'Ġinhuman': 40190,\n",
       " 'Ġkissing': 25847,\n",
       " 'whatever': 39664,\n",
       " 'Ġbomb': 5194,\n",
       " 'Ġbusiness': 1597,\n",
       " 'ĠEleanor': 45566,\n",
       " 'ĠFisheries': 49179,\n",
       " 'ô': 176,\n",
       " 'Ġguidelines': 9949,\n",
       " 'Tuesday': 26133,\n",
       " 'Ġanguish': 41210,\n",
       " 'Ġtuning': 24549,\n",
       " 'Ġattending': 11969,\n",
       " 'ocolate': 9140,\n",
       " 'Ġaspect': 4843,\n",
       " 'Ġlogistical': 41088,\n",
       " 'Cache': 30562,\n",
       " 'JSON': 40386,\n",
       " 'Ġnavigate': 16500,\n",
       " 'Rog': 30417,\n",
       " 'ĠSPORTS': 47515,\n",
       " 'ergus': 13607,\n",
       " 'iously': 6819,\n",
       " 'psey': 39070,\n",
       " 'ĠMatters': 30587,\n",
       " 'page': 7700,\n",
       " 'urd': 2799,\n",
       " 'ĠWilliams': 6484,\n",
       " 'Ġdiscl': 5862,\n",
       " 'Ġface': 1986,\n",
       " 'Ġsinister': 26592,\n",
       " ').\"': 21387,\n",
       " 'ĠDamage': 8995,\n",
       " 'ĠBennett': 17468,\n",
       " 'ĠFernandez': 39692,\n",
       " 'Ġsouth': 5366,\n",
       " 'ĠHound': 44900,\n",
       " 'ĠInternational': 4037,\n",
       " 'heny': 47413,\n",
       " 'ĠAer': 15781,\n",
       " 'Ġalarmed': 32064,\n",
       " 'Ġenh': 5881,\n",
       " 'Reader': 33634,\n",
       " 'ĠStatistical': 34931,\n",
       " 'ĠRandomRedditor': 36173,\n",
       " 'Ġgritty': 39679,\n",
       " 'Ġsynthes': 24983,\n",
       " 'Ġtre': 2054,\n",
       " 'Ġreplication': 30330,\n",
       " 'Ġgenetically': 20807,\n",
       " 'ĠRoz': 41334,\n",
       " 'Ġgears': 28713,\n",
       " '696': 38205,\n",
       " 'Read': 5569,\n",
       " 'ĠNietzsche': 40258,\n",
       " 'Ġrendition': 40570,\n",
       " 'Ġcaricature': 47346,\n",
       " 'Ġdisappointed': 11679,\n",
       " 'Ġutilization': 32121,\n",
       " 'Ġcorrecting': 39038,\n",
       " 'ĠOsw': 30317,\n",
       " 'Ġdebates': 15389,\n",
       " 'Ġeffic': 4396,\n",
       " 'ĠFeedback': 37774,\n",
       " 'afort': 24515,\n",
       " 'ĠVolcano': 48380,\n",
       " 'Ġhorm': 12241,\n",
       " '213': 26427,\n",
       " 'VM': 15996,\n",
       " 'Armor': 31512,\n",
       " 'oso': 28213,\n",
       " 'Ġrupt': 31580,\n",
       " 'ĠMcL': 18365,\n",
       " 'ĠRodrig': 16114,\n",
       " 'Ġgates': 17435,\n",
       " 'antle': 16941,\n",
       " 'Ġopponents': 7691,\n",
       " 'acted': 23800,\n",
       " 'Ġengagements': 40588,\n",
       " 'Desktop': 36881,\n",
       " 'Ġdiseases': 10040,\n",
       " 'gage': 10502,\n",
       " 'Ġbol': 11572,\n",
       " 'Socket': 39105,\n",
       " 'Ġjam': 16853,\n",
       " 'Ġprohibited': 12244,\n",
       " 'NF': 21870,\n",
       " 'Ġuniform': 8187,\n",
       " 'rav': 4108,\n",
       " 'Ġbenefited': 25050,\n",
       " 'mx': 36802,\n",
       " 'Ġseized': 12000,\n",
       " 'Ġkittens': 45584,\n",
       " 'emy': 3065,\n",
       " 'where': 3003,\n",
       " 'Ġimprovement': 9025,\n",
       " 'ĠAim': 36223,\n",
       " 'item': 9186,\n",
       " '204': 18638,\n",
       " 'ond': 623,\n",
       " 'Ġcolleg': 13303,\n",
       " 'MP': 7378,\n",
       " 'leep': 8892,\n",
       " 'Cube': 29071,\n",
       " 'Tour': 39152,\n",
       " 'Untitled': 46332,\n",
       " 'ĠBuildings': 49308,\n",
       " 'ĠCPS': 32084,\n",
       " 'ĠFT': 19446,\n",
       " 'Ġdeg': 3396,\n",
       " 'College': 38951,\n",
       " 'Ġgraphic': 13028,\n",
       " 'Ġmaximal': 40708,\n",
       " 'seller': 32932,\n",
       " 'Ġmerchandise': 20813,\n",
       " 'Ġoptical': 18480,\n",
       " 'ĠWoman': 14381,\n",
       " 'Ġdie': 4656,\n",
       " 'Ġoverest': 41850,\n",
       " 'Ġpercent': 1411,\n",
       " 'ĠPrescott': 42555,\n",
       " 'Ġplaintiffs': 21880,\n",
       " 'Ġpots': 32195,\n",
       " 'Ġspokeswoman': 12262,\n",
       " 'insert': 28463,\n",
       " 'blance': 42757,\n",
       " 'ĠBridge': 10290,\n",
       " 'ĠDiss': 35305,\n",
       " 'Ġantennas': 43813,\n",
       " 'Ġcuisine': 33072,\n",
       " 'Ġmixing': 17090,\n",
       " 'Ġstock': 4283,\n",
       " 'Ġtake': 1011,\n",
       " 'matically': 49454,\n",
       " 'ĠWit': 40648,\n",
       " 'Xbox': 43377,\n",
       " 'ĠKafka': 46906,\n",
       " 'Ġbail': 12274,\n",
       " 'Ġspan': 11506,\n",
       " 'ĠSession': 23575,\n",
       " 'lon': 14995,\n",
       " 'Ġagility': 33546,\n",
       " 'lo': 5439,\n",
       " 'Ġcontrovers': 5467,\n",
       " 'Tree': 27660,\n",
       " 'idently': 46046,\n",
       " 'Ġdetector': 31029,\n",
       " 'Ġthree': 1115,\n",
       " 'Reviewed': 40266,\n",
       " 'ĠEven': 3412,\n",
       " 'Ġboiler': 36741,\n",
       " 'ablished': 22555,\n",
       " 'Ġconvenience': 15607,\n",
       " 'Ġcrammed': 48384,\n",
       " 'culosis': 38767,\n",
       " 'ĠOracle': 18650,\n",
       " 'fox': 12792,\n",
       " 'Ġdisplay': 3359,\n",
       " 'heon': 37060,\n",
       " 'itures': 20686,\n",
       " 'Ġapplied': 5625,\n",
       " 'ĠSUN': 35329,\n",
       " 'Ġclashed': 37003,\n",
       " 'Ġtabloid': 43968,\n",
       " 'ĠCoh': 47222,\n",
       " 'Ġslightly': 4622,\n",
       " 'Rush': 49942,\n",
       " 'ĠNH': 24451,\n",
       " 'Ġpressing': 12273,\n",
       " 'Ġvib': 16081,\n",
       " 'ĠContinent': 45778,\n",
       " 'Ġsocket': 17802,\n",
       " 'ammu': 49487,\n",
       " 'arden': 5872,\n",
       " 'atomic': 47116,\n",
       " 'Ġcontinents': 33431,\n",
       " 'compl': 23855,\n",
       " 'ĠAZ': 26253,\n",
       " 'ĠDAC': 45793,\n",
       " 'Ġfinances': 20903,\n",
       " 'Ġimprovised': 36146,\n",
       " 'Ġinflated': 32387,\n",
       " 'ĠProvided': 29750,\n",
       " 'Ġpercentile': 37894,\n",
       " 'ril': 22379,\n",
       " 'Meat': 35620,\n",
       " 'Ġrem': 816,\n",
       " 'ĠCOMP': 24301,\n",
       " 'seekers': 47971,\n",
       " '088': 46556,\n",
       " 'Develop': 19246,\n",
       " 'mosp': 6384,\n",
       " 'achment': 15520,\n",
       " 'ĠRefugees': 38550,\n",
       " 'Ġlasts': 20374,\n",
       " 'existing': 25687,\n",
       " 'ĠGest': 44641,\n",
       " 'Ġbec': 639,\n",
       " 'Ġprodu': 990,\n",
       " 'Ġrubble': 29632,\n",
       " 'ĠTobias': 46675,\n",
       " 'ĠMasquerade': 38038,\n",
       " 'Ġscrewed': 27527,\n",
       " 'Ġvariance': 24198,\n",
       " 'Ġcustomized': 27658,\n",
       " 'Ġlaun': 2698,\n",
       " 'ĠCob': 14828,\n",
       " '30': 1270,\n",
       " 'ĠBarton': 32342,\n",
       " 'lat': 15460,\n",
       " 'Ġjurors': 28792,\n",
       " 'Ste': 7447,\n",
       " 'retty': 16100,\n",
       " 'BUG': 12953,\n",
       " 'ĠPen': 7507,\n",
       " 'erences': 4972,\n",
       " 'Ġfrankly': 17813,\n",
       " 'Ġnormative': 46219,\n",
       " 'Ġenlightened': 34964,\n",
       " 'Kevin': 23865,\n",
       " 'ĠAppropri': 29857,\n",
       " 'Ġnotification': 14483,\n",
       " 'Ġproud': 6613,\n",
       " 'ĠDarth': 31152,\n",
       " 'Ġrapp': 29106,\n",
       " 'ancing': 5077,\n",
       " 'iciency': 19777,\n",
       " 'Ġadvisor': 20685,\n",
       " 'atories': 19854,\n",
       " 'ĠInquisition': 41162,\n",
       " 'Ġfollowers': 10569,\n",
       " 'Ġimpover': 30956,\n",
       " 'Ġrebounds': 18841,\n",
       " 'Ġtang': 13875,\n",
       " 'ĠShields': 30512,\n",
       " 'ello': 11109,\n",
       " 'fact': 22584,\n",
       " 'ĠERA': 18802,\n",
       " 'aques': 46806,\n",
       " 'Ġestablished': 4920,\n",
       " 'Ġinterfering': 32874,\n",
       " 'olicy': 21424,\n",
       " 'ĠHarmony': 35088,\n",
       " 'ĠTill': 17888,\n",
       " 'Ġsuburban': 20154,\n",
       " 'Ġcommemorate': 40243,\n",
       " 'Ġenclosure': 30685,\n",
       " 'Great': 13681,\n",
       " 'Ġsolitary': 25565,\n",
       " 'Ref': 8134,\n",
       " 'Yo': 38101,\n",
       " 'Ġnobility': 41748,\n",
       " 'ĠCharacters': 26813,\n",
       " '×Ļ': 25529,\n",
       " 'Print': 18557,\n",
       " 'token': 30001,\n",
       " 'oys': 19417,\n",
       " 'ĠParticip': 13928,\n",
       " 'Ġparach': 31852,\n",
       " 'Ġregistrations': 47997,\n",
       " 'Smith': 17919,\n",
       " 'Ġrevolt': 27360,\n",
       " 'enaries': 30216,\n",
       " 'letter': 9291,\n",
       " 'ĠItal': 33857,\n",
       " 'Ġdivorced': 25107,\n",
       " 'Ġescalating': 32206,\n",
       " 'Ġinternationally': 19765,\n",
       " 'Ġprofits': 10177,\n",
       " '];': 11208,\n",
       " 'Ġsite': 2524,\n",
       " 'Ġtechnological': 14614,\n",
       " 'Ptr': 46745,\n",
       " 'estyles': 42530,\n",
       " 'Ġtook': 1718,\n",
       " 'ĠIndustries': 20171,\n",
       " 'ĠInvestment': 20877,\n",
       " 'an': 272,\n",
       " 'Ġchildbirth': 43886,\n",
       " 'Ġdescribed': 3417,\n",
       " 'Ġretrospect': 23583,\n",
       " 'engers': 9302,\n",
       " 'Ġte': 573,\n",
       " 'ĠUnleashed': 44747,\n",
       " 'Keys': 40729,\n",
       " 'Ġbeast': 13824,\n",
       " 'ĠBrenda': 49495,\n",
       " 'Ġgenerator': 17301,\n",
       " 'ĠShards': 46464,\n",
       " 'Ġtranquil': 46944,\n",
       " 'ĠGrab': 25339,\n",
       " 'Thor': 46765,\n",
       " 'ĠHole': 24478,\n",
       " 'Ġdinosaur': 28257,\n",
       " 'Ġchoice': 3572,\n",
       " 'Ġprecision': 15440,\n",
       " 'Ġinsect': 12833,\n",
       " 'ĸļ': 31204,\n",
       " 'ĠRahul': 48543,\n",
       " 'Ġfuckin': 46733,\n",
       " 'Ġ1': 352,\n",
       " 'ĠJulio': 48273,\n",
       " 'ĠTsu': 23459,\n",
       " 'ĠLars': 31239,\n",
       " 'Ġsimulate': 29308,\n",
       " 'Ġtreats': 18432,\n",
       " 'Ġepoch': 36835,\n",
       " 'ophysical': 41789,\n",
       " 'oti': 5092,\n",
       " 'ĠSpy': 23688,\n",
       " 'nen': 38572,\n",
       " 'åŃ': 27764,\n",
       " 'ĠNik': 11271,\n",
       " 'inas': 24252,\n",
       " 'Ġhomebrew': 45729,\n",
       " 'Ġliving': 2877,\n",
       " 'ĠShane': 24379,\n",
       " 'ĠTR': 7579,\n",
       " 'Ġlife': 1204,\n",
       " '370': 20167,\n",
       " 'Ġexplained': 4893,\n",
       " 'ogan': 9632,\n",
       " 'Ġladies': 17308,\n",
       " 'ãĤ¸': 21091,\n",
       " 'ĠReleases': 48691,\n",
       " 'ĠValve': 22479,\n",
       " 'Ġbrick': 17214,\n",
       " 'Ġpossession': 7797,\n",
       " 'Ġclothed': 45361,\n",
       " 'Ġpilgr': 23177,\n",
       " 'Ġleveling': 34661,\n",
       " 'Side': 24819,\n",
       " 'ĠThreat': 25238,\n",
       " 'Ġ+/-': 29694,\n",
       " 'Ġinertia': 48482,\n",
       " 'ire': 557,\n",
       " 'Ġseven': 3598,\n",
       " 'Ġslashed': 34930,\n",
       " 'ĠParaly': 47552,\n",
       " '414': 37309,\n",
       " 'versions': 47178,\n",
       " 'iv': 452,\n",
       " 'ĠShadow': 8843,\n",
       " 'comp': 5589,\n",
       " 'Ġcompleted': 5668,\n",
       " 'Ġcorrespondent': 21076,\n",
       " 'Ġconnectivity': 19843,\n",
       " 'Ġcrow': 37593,\n",
       " 'Ġgunshot': 29444,\n",
       " 'once': 27078,\n",
       " 'Ġtriggers': 20022,\n",
       " '1920': 40454,\n",
       " 'Ġencourages': 18656,\n",
       " 'ĠVas': 23663,\n",
       " 'Ġ000000': 41853,\n",
       " 'Ġsag': 45229,\n",
       " 'rament': 15141,\n",
       " 'Ġheight': 6001,\n",
       " 'Ġmultimedia': 40162,\n",
       " 'gressive': 19741,\n",
       " 'ĠDefeat': 41397,\n",
       " 'ilde': 44725,\n",
       " 'Ġaspiring': 31483,\n",
       " 'Doug': 42297,\n",
       " 'Ġoxygen': 11863,\n",
       " 'ItemTracker': 47198,\n",
       " 'Ġpacket': 19638,\n",
       " 'Ġstagnation': 45834,\n",
       " 'Ġunheard': 36511,\n",
       " 'Ġfaced': 7452,\n",
       " 'tip': 22504,\n",
       " 'utation': 7094,\n",
       " 'Ġjourneys': 35724,\n",
       " 'Ġcapitalism': 12129,\n",
       " 'argon': 37920,\n",
       " 'ĠAval': 23587,\n",
       " 'ĠAirport': 12690,\n",
       " 'righteous': 49955,\n",
       " 'rows': 8516,\n",
       " '114': 16562,\n",
       " '430': 31794,\n",
       " 'sequ': 3107,\n",
       " 'Ġdism': 18099,\n",
       " '012': 30206,\n",
       " 'ĠRender': 46722,\n",
       " 'Ġimplementing': 15427,\n",
       " 'Ġsnippet': 39442,\n",
       " 'usage': 26060,\n",
       " 'ĠSERVICES': 49254,\n",
       " 'ĠSiem': 45196,\n",
       " 'setting': 33990,\n",
       " 'pler': 20053,\n",
       " 'Ġjumps': 18045,\n",
       " 'iaries': 18361,\n",
       " 'Ġmood': 10038,\n",
       " 'Ġworlds': 11621,\n",
       " 'ĭ': 233,\n",
       " 'ĠBox': 8315,\n",
       " 'Ġiron': 6953,\n",
       " 'ĠMarg': 11899,\n",
       " 'ĠViolet': 37111,\n",
       " 'lia': 24660,\n",
       " 'ĠReviews': 20871,\n",
       " 'medium': 24132,\n",
       " 'adow': 4584,\n",
       " 'slow': 38246,\n",
       " 'Ġdeterioration': 38495,\n",
       " 'Ġgravity': 13522,\n",
       " 'ĠMakes': 27433,\n",
       " 'Ġeval': 5418,\n",
       " 'Ġ24': 1987,\n",
       " 'Ġpredominant': 45718,\n",
       " 'ien': 2013,\n",
       " 'ĠMaterials': 24310,\n",
       " 'ution': 1009,\n",
       " 'ĠJanet': 28111,\n",
       " 'ĠRou': 13876,\n",
       " 'monkey': 49572,\n",
       " 'ĠArrows': 43946,\n",
       " 'Ġheter': 14445,\n",
       " 'sav': 39308,\n",
       " 'Ġironic': 25304,\n",
       " 'Ġreflects': 12497,\n",
       " 'Ġsocioeconomic': 34406,\n",
       " 'opsy': 44522,\n",
       " 'ĠNoct': 32809,\n",
       " 'Ġeth': 4555,\n",
       " 'Ġdisappearing': 28867,\n",
       " 'Ġinduces': 43614,\n",
       " 'ĠLeave': 17446,\n",
       " 'Ġ1954': 24718,\n",
       " 'ÃĹ': 12906,\n",
       " 'clad': 29853,\n",
       " 'cells': 46342,\n",
       " 'Ġ319': 40385,\n",
       " '?': 30,\n",
       " 'Ġmetadata': 20150,\n",
       " 'Ġpseudo': 24543,\n",
       " 'better': 27903,\n",
       " 'Ġteach': 4545,\n",
       " 'ĠSchne': 23343,\n",
       " 'osition': 3507,\n",
       " 'ĠClayton': 32108,\n",
       " 'wire': 21809,\n",
       " 'ĠUndead': 31326,\n",
       " 'unction': 4575,\n",
       " 'phy': 6883,\n",
       " 'Nat': 47849,\n",
       " 'Ġskiing': 41348,\n",
       " 'Ay': 42012,\n",
       " 'Jessica': 45572,\n",
       " '001': 8298,\n",
       " 'ensional': 37176,\n",
       " 'ĠCCP': 37963,\n",
       " 'actions': 4658,\n",
       " 'Ġgene': 9779,\n",
       " 'ĠPARK': 42358,\n",
       " 'oren': 29578,\n",
       " 'ĠCould': 10347,\n",
       " 'Ġproficiency': 32102,\n",
       " 'ĠÂ£': 4248,\n",
       " '383': 34741,\n",
       " 'resist': 35119,\n",
       " 'Ġaggravated': 25890,\n",
       " 'Ġcolumns': 15180,\n",
       " 'etheus': 36916,\n",
       " 'ĠSaban': 41618,\n",
       " 'Ġboiled': 29939,\n",
       " 'Ġstrang': 36666,\n",
       " 'ĠAugustus': 48339,\n",
       " 'Ġcultivation': 23089,\n",
       " 'Ġreproduced': 31759,\n",
       " 'Ġstudent': 3710,\n",
       " 'Ġwired': 28217,\n",
       " 'ĠCursed': 29492,\n",
       " 'Ġtransgress': 44780,\n",
       " 'Brother': 39461,\n",
       " 'Ġannihil': 36572,\n",
       " 'ctic': 11048,\n",
       " 'Ġobservations': 13050,\n",
       " 'ayers': 6962,\n",
       " 'Ġroar': 34532,\n",
       " 'ĠÂ»': 13355,\n",
       " 'Ġqueries': 20743,\n",
       " 'ĠCop': 6955,\n",
       " 'ĠTad': 50077,\n",
       " 'Ġabsolutely': 5543,\n",
       " 'Ġblight': 42514,\n",
       " 'ĠENG': 36924,\n",
       " 'Ġembarked': 36385,\n",
       " 'ĠÃĹ': 13958,\n",
       " 'Ġdisconnect': 22837,\n",
       " 'Ġdisplayed': 9066,\n",
       " 'ĠJohnson': 5030,\n",
       " 'Ġfeder': 28062,\n",
       " 'Ġensured': 30169,\n",
       " 'went': 19963,\n",
       " 'ĠMarkets': 30251,\n",
       " 'Ġmeth': 11248,\n",
       " 'inance': 14149,\n",
       " 'Ġunnoticed': 33755,\n",
       " 'ĠFaust': 47411,\n",
       " 'ĠGO': 10351,\n",
       " 'ĠTimothy': 22283,\n",
       " 'det': 15255,\n",
       " 'arya': 43898,\n",
       " 'ulators': 24325,\n",
       " 'Ġsingular': 18032,\n",
       " 'ĠTrans': 3602,\n",
       " 'blast': 39806,\n",
       " 'ĠFinished': 42931,\n",
       " 'ĠRic': 15868,\n",
       " 'Ġexternal': 7097,\n",
       " 'Ġtreat': 2190,\n",
       " 'Ġoverdue': 38079,\n",
       " 'ĠDuffy': 35829,\n",
       " 'Ġclerics': 47964,\n",
       " 'icult': 2249,\n",
       " 'Ġfortun': 16648,\n",
       " 'Advertisement': 4723,\n",
       " 'Ġstruggles': 12766,\n",
       " 'Ġdrawn': 7428,\n",
       " 'Chan': 48407,\n",
       " 'ethyst': 44166,\n",
       " 'ĠMÃ¼': 40790,\n",
       " 'Ġinterim': 19303,\n",
       " 'lish': 1836,\n",
       " 'ĠAfter': 2293,\n",
       " 'Ġperforms': 17706,\n",
       " '¼': 120,\n",
       " 'Ġdisciple': 35567,\n",
       " 'ĠSerie': 41530,\n",
       " 'Ġmentally': 14946,\n",
       " 'ĠMarqu': 28382,\n",
       " 'Ġindependent': 4795,\n",
       " 'Ġphilosophies': 45500,\n",
       " 'Ġinitiating': 40150,\n",
       " 'Roaming': 27352,\n",
       " 'udi': 47928,\n",
       " 'Ġsul': 33154,\n",
       " 'ees': 2841,\n",
       " 'ĠMW': 29961,\n",
       " 'ĠCups': 41611,\n",
       " 'ĠBobby': 17155,\n",
       " 'ĠReceived': 20557,\n",
       " 'Story': 11605,\n",
       " 'math': 11018,\n",
       " 'ly': 306,\n",
       " 'ĠAlb': 17399,\n",
       " 'ĠBound': 30149,\n",
       " 'Post': 6307,\n",
       " 'Ġdeepest': 25420,\n",
       " 'Ġgra': 7933,\n",
       " 'Ġquo': 18658,\n",
       " 'ĠFeminist': 46259,\n",
       " '____': 1427,\n",
       " 'ĠCreative': 17404,\n",
       " 'ĠDive': 39117,\n",
       " 'ĠAbandon': 41105,\n",
       " ...}"
      ]
     },
     "execution_count": 9,
     "metadata": {},
     "output_type": "execute_result"
    }
   ],
   "source": [
    "tokenizer.vocab"
   ]
  },
  {
   "cell_type": "code",
   "execution_count": 10,
   "metadata": {},
   "outputs": [
    {
     "name": "stdout",
     "output_type": "stream",
     "text": [
      "Token, Token ID\n",
      "Study      39841\n",
      "Ġor        393\n",
      "Ġnot       407\n",
      "Ġto        284\n",
      "Ġstudy     2050\n",
      "Ġyour      534\n",
      "Ġstudies   3640\n",
      "?          30\n",
      "ĠStud      3604\n",
      "ying       1112\n",
      "Ġis        318\n",
      "Ġlight     1657\n",
      ",          11\n",
      "Ġbut       475\n",
      "Ġnot       407\n",
      "Ġstudying  11065\n",
      "Ġis        318\n",
      "Ġdarkness  11854\n",
      ".          13\n"
     ]
    }
   ],
   "source": [
    "# How many different tokens will the word \"study\" and derived get?\n",
    "nonsense = \"Study or not to study your studies? Studying is light, but not studying is darkness.\"\n",
    "tokens = tokenizer.tokenize(nonsense)\n",
    "token_ids = tokenizer.convert_tokens_to_ids(tokens)\n",
    "print(\"Token, Token ID\")\n",
    "for token, token_id in zip(tokens, token_ids):\n",
    "    print(f\"{token:<10} {token_id}\")\n",
    "\n",
    "# Read some more: https://discuss.huggingface.co/t/bpe-tokenizers-and-spaces-before-words/475/2"
   ]
  },
  {
   "cell_type": "code",
   "execution_count": 11,
   "metadata": {},
   "outputs": [
    {
     "data": {
      "text/plain": [
       "'Study or not to study your studies? Studying is light, but not studying is darkness.'"
      ]
     },
     "execution_count": 11,
     "metadata": {},
     "output_type": "execute_result"
    }
   ],
   "source": [
    "token_ids = tokenizer(nonsense)[\"input_ids\"]\n",
    "tokenizer.decode(token_ids)"
   ]
  },
  {
   "cell_type": "code",
   "execution_count": 12,
   "metadata": {},
   "outputs": [
    {
     "data": {
      "text/plain": [
       "['In the old times, when it was still of some use to wish for the thing one wanted, there lived a King whose daughters were all handsome, but the youngest was so beautiful that the sun himself, who has seen so much, wondered each time he shone over her because of her beauty. Near the royal castle there was a great dark wood, and in the wood under an old linden-tree was a well; and when the day was hot, the King\\'s daughter used to go forth into the wood and sit by the brink of the cool well, and if the time seemed long, she would take out a golden ball, and throw it up and catch it again, and this was her favourite pastime.\\n\\nNow it happened one day that the golden ball, instead of falling back into the maiden\\'s little hand which had sent it aloft, dropped to the ground near the edge of the well and rolled in. The king\\'s daughter followed it with her eyes as it sank, but the well was deep, so deep that the bottom could not be seen. Then she began to weep, and she wept and wept as if she could never be comforted. And in the midst of her weeping she heard a voice saying to her: \"What ails thee, king\\'s daughter? Thy tears would melt a heart of stone.\" And when she looked to see where the voice came from, there was nothing but a frog stretching his thick ugly head out of the water. \"Oh, is it you, old waddler?\" said she, \"I weep because my golden ball has fallen into the well.\" - \"Never mind, do not weep,\" answered the frog, \"I can help you; but what will you give me if I fetch up your ball again?\" - \"Whatever you like, dear frog,\" said she, \"any of my clothes, my pearls and jewels, or even the golden crown that I wear.\" - \"Thy clothes, thy pearls and jewels, and thy golden crown are not for me,\" answered the frog, \"but if thou wouldst love me, and have me for thy companion and play-fellow, and let me sit by thee at table, and eat from thy plate, and drink from thy cup, and sleep in thy little bed, if thou wouldst promise all this, then would I dive below the water and fetch thee thy golden ball again.\" - \"Oh yes,\" she answered, \"I will promise it all, whatever you want, if you will only get me my ball again.\" But she thought to herself: What nonsense he talks! As if he could do anything but sit in the water and croak with the other frogs, or could possibly be any one\\'s companion.\\n\\nBut the frog, as soon as he heard her promise, drew his head under the water and sank down out of sight, but after a while he came to the surface again with the ball in his mouth, and he threw it on the grass. The King\\'s daughter was overjoyed to see her pretty plaything again, and she caught it up and ran off with it. \"Stop, stop!\" cried the frog, \"take me up too. I cannot run as fast as you!\" But it was of no use, for croak, croak after her as he might, she would not listen to him, but made haste home, and very soon forgot all about the poor frog, who had to betake himself to his well again.\\n\\nThe next day, when the King\\'s daughter was sitting at table with the King and all the court, and eating from her golden plate, there came something pitter patter up the marble stairs, and then there came a knocking at the door, and a voice crying: \"Youngest King\\'s daughter, let me in!\" And she got up and ran to see who it could be, but when she opened the door, there was the frog sitting outside. Then she shut the door hastily and went back to her seat, feeling very uneasy. The King noticed how quickly her heart was beating, and said: \"My child, what are you afraid of? Is there a giant standing at the door ready to carry you away?\" - \"Oh no,\" answered she, \"no giant, but a horrid frog.\" - \"And what does the frog want?\" asked the King. \"O dear father,\" answered she, \"when I was sitting by the well yesterday, and playing with my golden ball, it fell into the water, and while I was crying for the loss of it, the frog came and got it again for me on condition I would let him be my companion, but I never thought that he could leave the water and come after me; but now there he is outside the door, and he wants to come in to me.\" And then they all heard him knocking the second time and crying:\\n\"Youngest King\\'s daughter,\\nOpen to me!\\nBy the well water\\nWhat promised\\nyou me?\\nYoungest King\\'s daughter\\nNow open to me!\"\\n\"That which thou hast promised must thou perform,\" said the King, \"so go now and let him in.\" So she went and opened the door, and the frog hopped in, following at her heels, till she reached her chair. Then he stopped and cried: \"Lift me up to sit by you.\" But she delayed doing so until the King ordered her. When once the frog was on the chair, he wanted to get on the table, and there he sat and said: \"Now push your golden plate a little nearer, so that we may eat together.\" And so she did, but everybody might see how unwilling she was, and the frog feasted heartily, but every morsel seemed to stick in her throat. \"I have had enough now,\" said the frog at last, \"and as I am tired, you must carry me to your room, and make ready your silken bed, and we will lie down and go to sleep.\" Then the King\\'s daughter began to weep, and was afraid of the cold frog, that nothing would satisfy him but he must sleep in her pretty clean bed. Now the King grew angry with her, saying: \"That which thou hast promised in thy time of necessity, must thou now perform.\" So she picked up the frog with her finger and thumb, carried him upstairs and put him in a corner, and when she had lain down to sleep, he came creeping up, saying: \"I am tired and want sleep as much as you; take me up, or I will tell your father.\" Then she felt beside herself with rage, and picking him up, she threw him with all her strength against the wall, crying: \"Now will you be quiet, you horrid frog!\"\\n\\nBut as he fell, he ceased to be a frog, and became all at once a prince with beautiful kind eyes. And it came to pass that, with her father\\'s consent, they became bride and bridegroom. And he told her how a wicked witch had bound him by her spells, and how no one but she alone could have released him, and that they two would go together to his father\\'s kingdom. And there came to the door a carriage drawn by eight white horses, with white plumes on their heads, and with golden harness, and behind the carriage was standing faithful Henry, the servant of the young prince. Now, faithful Henry had suffered such care and pain when his master was turned into a frog, that he had been obliged to wear three iron bands over his heart, to keep it from breaking with trouble and anxiety. When the carriage started to take the prince to his kingdom, and faithful Henry had helped them both in, he got up behind, and was full of joy at his master\\'s deliverance.\\n\\nAnd when they had gone a part of the way, the prince heard a sound at the back of the carriage, as if something had broken, and he turned round and cried:\\n\"Henry, the wheel must be breaking!\"\\n\"The wheel does not break,\\n\\'Tis the band round my heart\\nThat, to lessen its ache,\\nWhen I grieved for your sake,\\nI bound round my heart.\"\\nAgain, and yet once again there was the same sound, and the prince thought it must be the wheel breaking, but it was the breaking of the other bands from faithful Henry\\'s heart, because it was now so relieved and happy.',\n",
       " 'A cat had made the acquaintance of a mouse, and had said so much to her about the great love and friendship that he felt for her, that at last the mouse agreed that they should live and keep house together. \"But we must make preparations for winter, or else we shall suffer from hunger,\" said the cat, \"and you, little mouse, cannot venture out everywhere, or in the end you will be caught in a trap.\" This good advice was followed, and they bought a pot of fat, but they did not know where to store it. Finally, after much consideration, the cat said, \"I know of no place where it will be better stored up than in the church. No one dares take anything away from there. We will put it beneath the altar, and not touch it until we are need it.\" So the pot was stored safely away, but it was not long before the cat took a great longing for it, and said to the mouse, \"I wanted to tell you, little mouse, that my cousin has brought a little son into the world, and she has asked me to be his godfather. He is white with brown spots, and I am to hold him over the baptismal font. Let me go out today, and you look after the house by yourself.\" - \"Yes, yes,\" answered the mouse. \"By all means go, and if you get anything good to eat, think of me. I would like to drink a drop of sweet red christening wine myself.\" All this, however, was untrue. The cat had no cousin, and had not been asked to be godfather. He went straight to the church, crept up to the pot of fat, began to lick at it, and licked off the top of the fat. Then he went for a stroll on the roofs of the town, looked out for opportunities, and then stretched out in the sun, licking his whiskers whenever he thought of the pot of fat. He did not return home until it was evening. \"Well, here you are again,\" said the mouse. \"You must have had a happy day.\" - \"Everything went well,\" answered the cat. \"What name did they give the child?\" asked the mouse. \"Top-Off,\" said the cat quite coolly. \"Top-Off?\" cried the mouse. \"That is a very odd and uncommon name. Is it a usual one in your family?\" - \"What does that matter?\" said the cat. \"It is no worse than Crumb-Thief, as your godchildren are called.\"\\n\\nBefore long the cat was seized by another fit of longing. He said to the mouse, \"You must do me a favor, and once more manage the house alone for a day. I have been asked again to be godfather, and since the child has a white ring around its neck, I cannot refuse.\" The good mouse consented. However, the cat crept behind the town wall to the church, and devoured half the pot of fat. \"Nothing tastes as good as that which one eats by oneself,\" he said, and was quite satisfied with his day\\'s work. When he arrived home the mouse asked, \"What name was this child christened with?\" - \"Half-Gone,\" answered the cat. \"Half-Gone? What are you saying? I have never heard that name in all my life. I\\'ll wager it is not in the almanac.\"\\n\\nThe cat\\'s mouth soon again began to water for the delicious goods. \"All good things come in threes,\" he said to the mouse. \"I have been asked to be godfather again. The child is totally black, only it has white paws. Otherwise it has not a single white hair on its whole body. This only happens once every few years. You will let me go, won\\'t you?\" - \"Top-Off. Half-Gone,\" answered the mouse. \"They are such odd names, that they make me stop and think.\" - \"Here you sit at home,\" said the cat, \"with your dark gray fur coat and long braid of hair capturing fantasies. That is because you do not go out in the daytime.\" During the cat\\'s absence the mouse cleaned the house, and put it in order, but the greedy cat devoured all the rest of the fat. \"One has peace only after everything is eaten up,\" he said to himself. Well filled and fat, he did not return home until nighttime. The mouse immediately asked what name had been given to the third child. \"You will not like it either,\" said the cat. \"His name is All-Gone.\" - \"All-Gone!,\" cried the mouse. \"That is the most worrisome name of all. I have never seen it in print. All-Gone! What can that mean?\" Then she shook her head, curled herself up, and lay down to sleep.\\n\\nFrom this time forth no one invited the cat to be godfather, but when winter had come and there was no longer anything to be found outside, the mouse thought of their stored food, and said, \"Come cat, we will go to our pot of fat which we have stored up for ourselves. It will taste good now.\" - \"Yes,\" answered the cat. \"You will enjoy it as much as you would enjoy sticking that dainty tongue of yours out of the window.\" They set out on their way, but when they arrived, the pot of fat, to be sure, was still in its place, but it was empty. \"Alas,\" said the mouse, \"now I see what has happened. Now it comes to light. You are a true friend. You ate everything when you were serving as a godfather. First top off, then half done, then...\" - \"Be quiet!\" cried the cat. \"One more word, and I will eat you too.\"\\n\\n\"All gone,\" was already on the poor mouse\\'s lips. She had scarcely spoken it before the cat sprang on her, seized her, and swallowed her down. You see, that is the way of the world.',\n",
       " 'Hard by a great forest dwelt a wood-cutter with his wife, who had an only child, a little girl three years old. They were so poor, however, that they no longer had daily bread, and did not know how to get food for her. One morning the wood-cutter went out sorrowfully to his work in the forest, and while he was cutting wood, suddenly there stood before him a tall and beautiful woman with a crown of shining stars on her head, who said to him: \"I am the Virgin Mary, mother of the child Jesus. Thou art poor and needy, bring thy child to me, I will take her with me and be her mother, and care for her.\" The wood-cutter obeyed, brought his child, and gave her to the Virgin Mary, who took her up to heaven with her. There the child fared well, ate sugar-cakes, and drank sweet milk, and her clothes were of gold, and the little angels played with her. And when she was fourteen years of age, the Virgin Mary called her one day and said: \"Dear child, I am about to make a long journey, so take into thy keeping the keys of the thirteen doors of heaven. Twelve of these thou mayest open, and behold the glory which is within them, but the thirteenth, to which this little key belongs, is forbidden thee. Beware of opening it, or thou wilt bring misery on thyself.\" The girl promised to be obedient, and when the Virgin Mary was gone, she began to examine the dwellings of the kingdom of heaven. Each day she opened one of them, until she had made the round of the twelve. In each of them sat one of the Apostles in the midst of a great light, and she rejoiced in all the magnificence and splendour, and the little angels who always accompanied her rejoiced with her. Then the forbidden door alone remained, and she felt a great desire to know what could be hidden behind it, and said to the angels: \"I will not quite open it, and I will not go inside it, but I will unlock it so that we can just see a little through the opening.\" - \"Oh no,\" said the little angels, \"that would be a sin. The Virgin Mary has forbidden it, and it might easily cause thy unhappiness.\" Then she was silent, but the desire in her heart was not stilled, but gnawed there and tormented her, and let her have no rest. And once when the angels had all gone out, she thought: \"Now I am quite alone, and I could peep in. If I do it, no one will ever know.\" She sought out the key, and when she had got it in her hand, she put it in the lock, and when she had put it in, she turned it round as well. Then the door sprang open, and she saw there the Trinity sitting in fire and splendour. She stayed there awhile, and looked at everything in amazement; then she touched the light a little with her finger, and her finger became quite golden. Immediately a great fear fell on her. She shut the door violently, and ran away. Her terror too would not quit her, let her do what she might, and her heart beat continually and would not be still; the gold too stayed on her finger, and would not go away, let her rub it and wash it never so much.\\n\\nIt was not long before the Virgin Mary came back from her journey. She called the girl before her, and asked to have the keys of heaven back. When the maiden gave her the bunch, the Virgin looked into her eyes and said: \"Hast thou not opened the thirteenth door also?\" - \"No,\" she replied. Then she laid her hand on the girl\\'s heart, and felt how it beat and beat, and saw right well that she had disobeyed her order and had opened the door. Then she said once again: \"Art thou certain that thou hast not done it?\" - \"Yes,\" said the girl, for the second time. Then she perceived the finger which had become golden from touching the fire of heaven, and saw well that the child had sinned, and said for the third time: \"Hast thou not done it?\" - \"No,\" said the girl for the third time. Then said the Virgin Mary: \"Thou hast not obeyed me, and besides that thou hast lied, thou art no longer worthy to be in heaven.\"\\n\\nThen the girl fell into a deep sleep, and when she awoke she lay on the earth below, and in the midst of a wilderness. She wanted to cry out, but she could bring forth no sound. She sprang up and wanted to run away, but whithersoever she turned herself, she was continually held back by thick hedges of thorns through which she could not break. In the desert, in which she was imprisoned, there stood an old hollow tree, and this had to be her dwelling-place. Into this she crept when night came, and here she slept. Here, too, she found a shelter from storm and rain, but it was a miserable life, and bitterly did she weep when she remembered how happy she had been in heaven, and how the angels had played with her. Roots and wild berries were her only food, and for these she sought as far as she could go. In the autumn she picked up the fallen nuts and leaves, and carried them into the hole. The nuts were her food in winter, and when snow and ice came, she crept amongst the leaves like a poor little animal that she might not freeze. Before long her clothes were all torn, and one bit of them after another fell off her. As soon, however, as the sun shone warm again, she went out and sat in front of the tree, and her long hair covered her on all sides like a mantle. Thus she sat year after year, and felt the pain and the misery of the world.\\n\\nOne day, when the trees were once more clothed in fresh green, the King of the country was hunting in the forest, and followed a roe, and as it had fled into the thicket which shut in this part of the forest, he got off his horse, tore the bushes asunder, and cut himself a path with his sword. When he had at last forced his way through, he saw a wonderfully beautiful maiden sitting under the tree; and she sat there and was entirely covered with her golden hair down to her very feet. He stood still and looked at her full of surprise, then he spoke to her and said: \"Who art thou? Why art thou sitting here in the wilderness?\" But she gave no answer, for she could not open her mouth. The King continued: \"Wilt thou go with me to my castle?\" Then she just nodded her head a little. The King took her in his arms, carried her to his horse, and rode home with her, and when he reached the royal castle he caused her to be dressed in beautiful garments, and gave her all things in abundance. Although she could not speak, she was still so beautiful and charming that he began to love her with all his heart, and it was not long before he married her.\\n\\nAfter a year or so had passed, the Queen brought a son into the world. Thereupon the Virgin Mary appeared to her in the night when she lay in her bed alone, and said: \"If thou wilt tell the truth and confess that thou didst unlock the forbidden door, I will open thy mouth and give thee back thy speech, but if thou perseverest in thy sin, and deniest obstinately, I will take thy new-born child away with me.\" Then the queen was permitted to answer, but she remained hard, and said: \"No, I did not open the forbidden door,\" and the Virgin Mary took the new-born child from her arms, and vanished with it. Next morning when the child was not to be found, it was whispered among the people that the Queen was a man-eater, and had killed her own child. She heard all this and could say nothing to the contrary, but the King would not believe it, for he loved her so much.\\n\\nWhen a year had gone by the Queen again bore a son, and in the night the Virgin Mary again came to her, and said: \"If thou wilt confess that thou openedst the forbidden door, I will give thee thy child back and untie thy tongue; but if you continuest in sin and deniest it, I will take away with me this new child also.\" Then the Queen again said: \"No, I did not open the forbidden door;\" and the Virgin took the child out of her arms, and away with her to heaven. Next morning, when this child also had disappeared, the people declared quite loudly that the Queen had devoured it, and the King\\'s councillors demanded that she should be brought to justice. The King, however, loved her so dearly that he would not believe it, and commanded the councillors under pain of death not to say any more about it.\\n\\nThe following year the Queen gave birth to a beautiful little daughter, and for the third time the Virgin Mary appeared to her in the night and said: \"Follow me.\" She took the Queen by the hand and led her to heaven, and showed her there her two eldest children, who smiled at her, and were playing with the ball of the world. When the Queen rejoiced thereat, the Virgin Mary said: \"Is thy heart not yet softened? If thou wilt own that thou openedst the forbidden door, I will give thee back thy two little sons.\" But for the third time the Queen answered: \"No, I did not open the forbidden door.\" Then the Virgin let her sink down to earth once more, and took from her likewise her third child.\\n\\nNext morning, when the loss was reported abroad, all the people cried loudly: \"The Queen is a man-eater. She must be judged,\" and the King was no longer able to restrain his councillors. Thereupon a trial was held, and as she could not answer, and defend herself, she was condemned to be burnt alive. The wood was got together, and when she was fast bound to the stake, and the fire began to burn round about her, the hard ice of pride melted, her heart was moved by repentance, and she thought: \"If I could but confess before my death that I opened the door.\" Then her voice came back to her, and she cried out loudly: \"Yes, Mary, I did it,\" and straight-way rain fell from the sky and extinguished the flames of fire, and a light broke forth above her, and the Virgin Mary descended with the two little sons by her side, and the new-born daughter in her arms. She spoke kindly to her, and said: \"He who repents his sin and acknowledges it, is forgiven.\" Then she gave her the three children, untied her tongue, and granted her happiness for her whole life.']"
      ]
     },
     "execution_count": 12,
     "metadata": {},
     "output_type": "execute_result"
    }
   ],
   "source": [
    "dataset[\"Story\"][:3]"
   ]
  },
  {
   "cell_type": "markdown",
   "metadata": {},
   "source": [
    "[Training a causal language model from scratch](https://huggingface.co/learn/nlp-course/en/chapter7/6)"
   ]
  },
  {
   "cell_type": "code",
   "execution_count": 13,
   "metadata": {},
   "outputs": [
    {
     "name": "stderr",
     "output_type": "stream",
     "text": [
      "Token indices sequence length is longer than the specified maximum sequence length for this model (1743 > 1024). Running this sequence through the model will result in indexing errors\n"
     ]
    },
    {
     "name": "stdout",
     "output_type": "stream",
     "text": [
      "dict_keys(['input_ids', 'attention_mask'])\n",
      "Length: [1743, 1264, 2298]\n",
      "Total tokens: 5305\n"
     ]
    }
   ],
   "source": [
    "tokenized1 = tokenizer(dataset[\"Story\"][:3])\n",
    "print(tokenized1.keys())\n",
    "print(\"Length:\", [len(x) for x in tokenized1[\"input_ids\"]])\n",
    "print(\"Total tokens:\", sum(len(x) for x in tokenized1[\"input_ids\"]))"
   ]
  },
  {
   "cell_type": "markdown",
   "metadata": {},
   "source": [
    "[tokenizer() parameters](https://huggingface.co/docs/transformers/en/internal/tokenization_utils#transformers.PreTrainedTokenizerBase.__call__)"
   ]
  },
  {
   "cell_type": "markdown",
   "metadata": {},
   "source": [
    "`return_overflowing_tokens=True` will split the long sequences into multiple shorter sequences."
   ]
  },
  {
   "cell_type": "code",
   "execution_count": 14,
   "metadata": {},
   "outputs": [
    {
     "name": "stdout",
     "output_type": "stream",
     "text": [
      "dict_keys(['input_ids', 'attention_mask', 'overflow_to_sample_mapping'])\n",
      "Length: [500, 500, 500, 243, 500, 500, 264, 500, 500, 500, 500, 298]\n",
      "Total tokens: 5305\n",
      "[0, 0, 0, 0, 1, 1, 1, 2, 2, 2, 2, 2]\n"
     ]
    }
   ],
   "source": [
    "tokenized2 = tokenizer(dataset[\"Story\"][:3], truncation=True, max_length=500, return_overflowing_tokens=True)\n",
    "print(tokenized2.keys())\n",
    "print(\"Length:\", [len(x) for x in tokenized2[\"input_ids\"]])\n",
    "print(\"Total tokens:\", sum(len(x) for x in tokenized2[\"input_ids\"]))\n",
    "print(tokenized2[\"overflow_to_sample_mapping\"])"
   ]
  },
  {
   "cell_type": "code",
   "execution_count": 15,
   "metadata": {},
   "outputs": [
    {
     "name": "stdout",
     "output_type": "stream",
     "text": [
      "dict_keys(['input_ids', 'attention_mask', 'overflow_to_sample_mapping'])\n",
      "Length: [500, 500, 500, 500, 500, 500, 500, 500, 500, 500, 500, 500]\n",
      "Total tokens: 6000\n"
     ]
    }
   ],
   "source": [
    "tokenized3 = tokenizer(\n",
    "    dataset[\"Story\"][:3],\n",
    "    truncation=True,\n",
    "    max_length=500,\n",
    "    return_overflowing_tokens=True,\n",
    "    padding=\"max_length\",\n",
    ")\n",
    "print(tokenized3.keys())\n",
    "print(\"Length:\", [len(x) for x in tokenized3[\"input_ids\"]])\n",
    "print(\"Total tokens:\", sum(len(x) for x in tokenized3[\"input_ids\"]))"
   ]
  },
  {
   "cell_type": "code",
   "execution_count": 16,
   "metadata": {},
   "outputs": [
    {
     "data": {
      "text/plain": [
       "True"
      ]
     },
     "execution_count": 16,
     "metadata": {},
     "output_type": "execute_result"
    }
   ],
   "source": [
    "[y for x in tokenized1[\"input_ids\"] for y in x] == [y for x in tokenized2[\"input_ids\"] for y in x]"
   ]
  },
  {
   "cell_type": "code",
   "execution_count": 17,
   "metadata": {},
   "outputs": [
    {
     "data": {
      "text/plain": [
       "True"
      ]
     },
     "execution_count": 17,
     "metadata": {},
     "output_type": "execute_result"
    }
   ],
   "source": [
    "[y for x in tokenized1[\"input_ids\"] for y in x] == [y for x in tokenized3[\"input_ids\"] for y in x if y != tokenizer.pad_token_id]"
   ]
  },
  {
   "cell_type": "code",
   "execution_count": 18,
   "metadata": {},
   "outputs": [
    {
     "data": {
      "text/plain": [
       "{'input_ids': tensor([[  818,   262,  1468,  ...,  2061,  8072,   198],\n",
       "        [ 5832,   502,    30,  ..., 50256, 50256, 50256],\n",
       "        [   32,  3797,   550,  ...,   530,  9392,   262],\n",
       "        ...,\n",
       "        [  401,   395, 14210,  ...,  3244,   262, 10614],\n",
       "        [  373, 26322,  1143,  ..., 50256, 50256, 50256],\n",
       "        [  464,  7540,  1752,  ..., 50256, 50256, 50256]]), 'attention_mask': tensor([[1, 1, 1,  ..., 1, 1, 1],\n",
       "        [1, 1, 1,  ..., 0, 0, 0],\n",
       "        [1, 1, 1,  ..., 1, 1, 1],\n",
       "        ...,\n",
       "        [1, 1, 1,  ..., 1, 1, 1],\n",
       "        [1, 1, 1,  ..., 0, 0, 0],\n",
       "        [1, 1, 1,  ..., 0, 0, 0]]), 'overflow_to_sample_mapping': tensor([0, 0, 1, 1, 2, 2, 2, 3, 3, 3, 3, 3, 4, 4, 5, 5, 5, 5, 6, 6, 6, 7, 7, 8,\n",
       "        8, 8, 9])}"
      ]
     },
     "execution_count": 18,
     "metadata": {},
     "output_type": "execute_result"
    }
   ],
   "source": [
    "res = tokenizer(\n",
    "    dataset[\"Story\"][:10],\n",
    "    truncation=True,\n",
    "    return_overflowing_tokens=True,\n",
    "    padding=\"max_length\",\n",
    "    return_tensors=\"pt\"\n",
    ")\n",
    "res"
   ]
  },
  {
   "cell_type": "code",
   "execution_count": 19,
   "metadata": {},
   "outputs": [
    {
     "data": {
      "text/plain": [
       "tensor([ 5832,   502,    30,  ..., 50256, 50256, 50256])"
      ]
     },
     "execution_count": 19,
     "metadata": {},
     "output_type": "execute_result"
    }
   ],
   "source": [
    "res[\"input_ids\"][1]"
   ]
  },
  {
   "cell_type": "code",
   "execution_count": 20,
   "metadata": {},
   "outputs": [
    {
     "data": {
      "text/plain": [
       "tensor([1, 1, 1,  ..., 0, 0, 0])"
      ]
     },
     "execution_count": 20,
     "metadata": {},
     "output_type": "execute_result"
    }
   ],
   "source": [
    "res[\"attention_mask\"][1]"
   ]
  },
  {
   "cell_type": "code",
   "execution_count": 21,
   "metadata": {},
   "outputs": [],
   "source": [
    "# return_tensors=\"pt\" doesn't work with .map()!\n",
    "# https://discuss.huggingface.co/t/dataset-map-return-only-list-instead-torch-tensors/15767\n",
    "# Use ds.set_format(\"pt\", columns=[\"input_ids\"], output_all_columns=True) after .map()\n",
    "\n",
    "def tokenize_batch(examples):\n",
    "    print(\"Number of examples:\", len(examples[\"Story\"]))\n",
    "\n",
    "    res = tokenizer(\n",
    "        examples[\"Story\"],\n",
    "        truncation=True,\n",
    "        return_overflowing_tokens=True,\n",
    "        padding=\"max_length\",  # Defaults to the max length of the model\n",
    "        return_tensors=\"pt\"\n",
    "    )\n",
    "    print(\"Result shape:\", res[\"input_ids\"].shape)\n",
    "    return res\n"
   ]
  },
  {
   "cell_type": "code",
   "execution_count": 22,
   "metadata": {},
   "outputs": [
    {
     "data": {
      "text/plain": [
       "Dataset({\n",
       "    features: ['Title', 'Story', 'Rating', 'Voters'],\n",
       "    num_rows: 216\n",
       "})"
      ]
     },
     "execution_count": 22,
     "metadata": {},
     "output_type": "execute_result"
    }
   ],
   "source": [
    "dataset"
   ]
  },
  {
   "cell_type": "code",
   "execution_count": 23,
   "metadata": {},
   "outputs": [],
   "source": [
    "# SPOILER ALERT! DO NOT SCROLL FURTHER DOWN! UNCOMMENT THE FOLLOWING LINE AND FIX THE ERROR!\n",
    "# dataset.map(tokenize_batch, batched=True)  # Old columns have fewer rows than the new ones, use `remove_columns=dataset.column_names`"
   ]
  },
  {
   "cell_type": "code",
   "execution_count": 24,
   "metadata": {},
   "outputs": [
    {
     "data": {
      "text/plain": [
       "['In the old times, when it was still of some use to wish for the thing one wanted, there lived a King whose daughters were all handsome, but the youngest was so beautiful that the sun himself, who has seen so much, wondered each time he shone over her because of her beauty. Near the royal castle there was a great dark wood, and in the wood under an old linden-tree was a well; and when the day was hot, the King\\'s daughter used to go forth into the wood and sit by the brink of the cool well, and if the time seemed long, she would take out a golden ball, and throw it up and catch it again, and this was her favourite pastime.\\n\\nNow it happened one day that the golden ball, instead of falling back into the maiden\\'s little hand which had sent it aloft, dropped to the ground near the edge of the well and rolled in. The king\\'s daughter followed it with her eyes as it sank, but the well was deep, so deep that the bottom could not be seen. Then she began to weep, and she wept and wept as if she could never be comforted. And in the midst of her weeping she heard a voice saying to her: \"What ails thee, king\\'s daughter? Thy tears would melt a heart of stone.\" And when she looked to see where the voice came from, there was nothing but a frog stretching his thick ugly head out of the water. \"Oh, is it you, old waddler?\" said she, \"I weep because my golden ball has fallen into the well.\" - \"Never mind, do not weep,\" answered the frog, \"I can help you; but what will you give me if I fetch up your ball again?\" - \"Whatever you like, dear frog,\" said she, \"any of my clothes, my pearls and jewels, or even the golden crown that I wear.\" - \"Thy clothes, thy pearls and jewels, and thy golden crown are not for me,\" answered the frog, \"but if thou wouldst love me, and have me for thy companion and play-fellow, and let me sit by thee at table, and eat from thy plate, and drink from thy cup, and sleep in thy little bed, if thou wouldst promise all this, then would I dive below the water and fetch thee thy golden ball again.\" - \"Oh yes,\" she answered, \"I will promise it all, whatever you want, if you will only get me my ball again.\" But she thought to herself: What nonsense he talks! As if he could do anything but sit in the water and croak with the other frogs, or could possibly be any one\\'s companion.\\n\\nBut the frog, as soon as he heard her promise, drew his head under the water and sank down out of sight, but after a while he came to the surface again with the ball in his mouth, and he threw it on the grass. The King\\'s daughter was overjoyed to see her pretty plaything again, and she caught it up and ran off with it. \"Stop, stop!\" cried the frog, \"take me up too. I cannot run as fast as you!\" But it was of no use, for croak, croak after her as he might, she would not listen to him, but made haste home, and very soon forgot all about the poor frog, who had to betake himself to his well again.\\n\\nThe next day, when the King\\'s daughter was sitting at table with the King and all the court, and eating from her golden plate, there came something pitter patter up the marble stairs, and then there came a knocking at the door, and a voice crying: \"Youngest King\\'s daughter, let me in!\" And she got up and ran to see who it could be, but when she opened the door, there was the frog sitting outside. Then she shut the door hastily and went back to her seat, feeling very uneasy. The King noticed how quickly her heart was beating, and said: \"My child, what are you afraid of? Is there a giant standing at the door ready to carry you away?\" - \"Oh no,\" answered she, \"no giant, but a horrid frog.\" - \"And what does the frog want?\" asked the King. \"O dear father,\" answered she, \"when I was sitting by the well yesterday, and playing with my golden ball, it fell into the water, and while I was crying for the loss of it, the frog came and got it again for me on condition I would let him be my companion, but I never thought that he could leave the water and come after me; but now there he is outside the door, and he wants to come in to me.\" And then they all heard him knocking the second time and crying:\\n\"Youngest King\\'s daughter,\\nOpen to me!\\nBy the well water\\nWhat promised\\nyou me?\\nYoungest King\\'s daughter\\nNow open to me!\"\\n\"That which thou hast promised must thou perform,\" said the King, \"so go now and let him in.\" So she went and opened the door, and the frog hopped in, following at her heels, till she reached her chair. Then he stopped and cried: \"Lift me up to sit by you.\" But she delayed doing so until the King ordered her. When once the frog was on the chair, he wanted to get on the table, and there he sat and said: \"Now push your golden plate a little nearer, so that we may eat together.\" And so she did, but everybody might see how unwilling she was, and the frog feasted heartily, but every morsel seemed to stick in her throat. \"I have had enough now,\" said the frog at last, \"and as I am tired, you must carry me to your room, and make ready your silken bed, and we will lie down and go to sleep.\" Then the King\\'s daughter began to weep, and was afraid of the cold frog, that nothing would satisfy him but he must sleep in her pretty clean bed. Now the King grew angry with her, saying: \"That which thou hast promised in thy time of necessity, must thou now perform.\" So she picked up the frog with her finger and thumb, carried him upstairs and put him in a corner, and when she had lain down to sleep, he came creeping up, saying: \"I am tired and want sleep as much as you; take me up, or I will tell your father.\" Then she felt beside herself with rage, and picking him up, she threw him with all her strength against the wall, crying: \"Now will you be quiet, you horrid frog!\"\\n\\nBut as he fell, he ceased to be a frog, and became all at once a prince with beautiful kind eyes. And it came to pass that, with her father\\'s consent, they became bride and bridegroom. And he told her how a wicked witch had bound him by her spells, and how no one but she alone could have released him, and that they two would go together to his father\\'s kingdom. And there came to the door a carriage drawn by eight white horses, with white plumes on their heads, and with golden harness, and behind the carriage was standing faithful Henry, the servant of the young prince. Now, faithful Henry had suffered such care and pain when his master was turned into a frog, that he had been obliged to wear three iron bands over his heart, to keep it from breaking with trouble and anxiety. When the carriage started to take the prince to his kingdom, and faithful Henry had helped them both in, he got up behind, and was full of joy at his master\\'s deliverance.\\n\\nAnd when they had gone a part of the way, the prince heard a sound at the back of the carriage, as if something had broken, and he turned round and cried:\\n\"Henry, the wheel must be breaking!\"\\n\"The wheel does not break,\\n\\'Tis the band round my heart\\nThat, to lessen its ache,\\nWhen I grieved for your sake,\\nI bound round my heart.\"\\nAgain, and yet once again there was the same sound, and the prince thought it must be the wheel breaking, but it was the breaking of the other bands from faithful Henry\\'s heart, because it was now so relieved and happy.',\n",
       " 'A cat had made the acquaintance of a mouse, and had said so much to her about the great love and friendship that he felt for her, that at last the mouse agreed that they should live and keep house together. \"But we must make preparations for winter, or else we shall suffer from hunger,\" said the cat, \"and you, little mouse, cannot venture out everywhere, or in the end you will be caught in a trap.\" This good advice was followed, and they bought a pot of fat, but they did not know where to store it. Finally, after much consideration, the cat said, \"I know of no place where it will be better stored up than in the church. No one dares take anything away from there. We will put it beneath the altar, and not touch it until we are need it.\" So the pot was stored safely away, but it was not long before the cat took a great longing for it, and said to the mouse, \"I wanted to tell you, little mouse, that my cousin has brought a little son into the world, and she has asked me to be his godfather. He is white with brown spots, and I am to hold him over the baptismal font. Let me go out today, and you look after the house by yourself.\" - \"Yes, yes,\" answered the mouse. \"By all means go, and if you get anything good to eat, think of me. I would like to drink a drop of sweet red christening wine myself.\" All this, however, was untrue. The cat had no cousin, and had not been asked to be godfather. He went straight to the church, crept up to the pot of fat, began to lick at it, and licked off the top of the fat. Then he went for a stroll on the roofs of the town, looked out for opportunities, and then stretched out in the sun, licking his whiskers whenever he thought of the pot of fat. He did not return home until it was evening. \"Well, here you are again,\" said the mouse. \"You must have had a happy day.\" - \"Everything went well,\" answered the cat. \"What name did they give the child?\" asked the mouse. \"Top-Off,\" said the cat quite coolly. \"Top-Off?\" cried the mouse. \"That is a very odd and uncommon name. Is it a usual one in your family?\" - \"What does that matter?\" said the cat. \"It is no worse than Crumb-Thief, as your godchildren are called.\"\\n\\nBefore long the cat was seized by another fit of longing. He said to the mouse, \"You must do me a favor, and once more manage the house alone for a day. I have been asked again to be godfather, and since the child has a white ring around its neck, I cannot refuse.\" The good mouse consented. However, the cat crept behind the town wall to the church, and devoured half the pot of fat. \"Nothing tastes as good as that which one eats by oneself,\" he said, and was quite satisfied with his day\\'s work. When he arrived home the mouse asked, \"What name was this child christened with?\" - \"Half-Gone,\" answered the cat. \"Half-Gone? What are you saying? I have never heard that name in all my life. I\\'ll wager it is not in the almanac.\"\\n\\nThe cat\\'s mouth soon again began to water for the delicious goods. \"All good things come in threes,\" he said to the mouse. \"I have been asked to be godfather again. The child is totally black, only it has white paws. Otherwise it has not a single white hair on its whole body. This only happens once every few years. You will let me go, won\\'t you?\" - \"Top-Off. Half-Gone,\" answered the mouse. \"They are such odd names, that they make me stop and think.\" - \"Here you sit at home,\" said the cat, \"with your dark gray fur coat and long braid of hair capturing fantasies. That is because you do not go out in the daytime.\" During the cat\\'s absence the mouse cleaned the house, and put it in order, but the greedy cat devoured all the rest of the fat. \"One has peace only after everything is eaten up,\" he said to himself. Well filled and fat, he did not return home until nighttime. The mouse immediately asked what name had been given to the third child. \"You will not like it either,\" said the cat. \"His name is All-Gone.\" - \"All-Gone!,\" cried the mouse. \"That is the most worrisome name of all. I have never seen it in print. All-Gone! What can that mean?\" Then she shook her head, curled herself up, and lay down to sleep.\\n\\nFrom this time forth no one invited the cat to be godfather, but when winter had come and there was no longer anything to be found outside, the mouse thought of their stored food, and said, \"Come cat, we will go to our pot of fat which we have stored up for ourselves. It will taste good now.\" - \"Yes,\" answered the cat. \"You will enjoy it as much as you would enjoy sticking that dainty tongue of yours out of the window.\" They set out on their way, but when they arrived, the pot of fat, to be sure, was still in its place, but it was empty. \"Alas,\" said the mouse, \"now I see what has happened. Now it comes to light. You are a true friend. You ate everything when you were serving as a godfather. First top off, then half done, then...\" - \"Be quiet!\" cried the cat. \"One more word, and I will eat you too.\"\\n\\n\"All gone,\" was already on the poor mouse\\'s lips. She had scarcely spoken it before the cat sprang on her, seized her, and swallowed her down. You see, that is the way of the world.',\n",
       " 'Hard by a great forest dwelt a wood-cutter with his wife, who had an only child, a little girl three years old. They were so poor, however, that they no longer had daily bread, and did not know how to get food for her. One morning the wood-cutter went out sorrowfully to his work in the forest, and while he was cutting wood, suddenly there stood before him a tall and beautiful woman with a crown of shining stars on her head, who said to him: \"I am the Virgin Mary, mother of the child Jesus. Thou art poor and needy, bring thy child to me, I will take her with me and be her mother, and care for her.\" The wood-cutter obeyed, brought his child, and gave her to the Virgin Mary, who took her up to heaven with her. There the child fared well, ate sugar-cakes, and drank sweet milk, and her clothes were of gold, and the little angels played with her. And when she was fourteen years of age, the Virgin Mary called her one day and said: \"Dear child, I am about to make a long journey, so take into thy keeping the keys of the thirteen doors of heaven. Twelve of these thou mayest open, and behold the glory which is within them, but the thirteenth, to which this little key belongs, is forbidden thee. Beware of opening it, or thou wilt bring misery on thyself.\" The girl promised to be obedient, and when the Virgin Mary was gone, she began to examine the dwellings of the kingdom of heaven. Each day she opened one of them, until she had made the round of the twelve. In each of them sat one of the Apostles in the midst of a great light, and she rejoiced in all the magnificence and splendour, and the little angels who always accompanied her rejoiced with her. Then the forbidden door alone remained, and she felt a great desire to know what could be hidden behind it, and said to the angels: \"I will not quite open it, and I will not go inside it, but I will unlock it so that we can just see a little through the opening.\" - \"Oh no,\" said the little angels, \"that would be a sin. The Virgin Mary has forbidden it, and it might easily cause thy unhappiness.\" Then she was silent, but the desire in her heart was not stilled, but gnawed there and tormented her, and let her have no rest. And once when the angels had all gone out, she thought: \"Now I am quite alone, and I could peep in. If I do it, no one will ever know.\" She sought out the key, and when she had got it in her hand, she put it in the lock, and when she had put it in, she turned it round as well. Then the door sprang open, and she saw there the Trinity sitting in fire and splendour. She stayed there awhile, and looked at everything in amazement; then she touched the light a little with her finger, and her finger became quite golden. Immediately a great fear fell on her. She shut the door violently, and ran away. Her terror too would not quit her, let her do what she might, and her heart beat continually and would not be still; the gold too stayed on her finger, and would not go away, let her rub it and wash it never so much.\\n\\nIt was not long before the Virgin Mary came back from her journey. She called the girl before her, and asked to have the keys of heaven back. When the maiden gave her the bunch, the Virgin looked into her eyes and said: \"Hast thou not opened the thirteenth door also?\" - \"No,\" she replied. Then she laid her hand on the girl\\'s heart, and felt how it beat and beat, and saw right well that she had disobeyed her order and had opened the door. Then she said once again: \"Art thou certain that thou hast not done it?\" - \"Yes,\" said the girl, for the second time. Then she perceived the finger which had become golden from touching the fire of heaven, and saw well that the child had sinned, and said for the third time: \"Hast thou not done it?\" - \"No,\" said the girl for the third time. Then said the Virgin Mary: \"Thou hast not obeyed me, and besides that thou hast lied, thou art no longer worthy to be in heaven.\"\\n\\nThen the girl fell into a deep sleep, and when she awoke she lay on the earth below, and in the midst of a wilderness. She wanted to cry out, but she could bring forth no sound. She sprang up and wanted to run away, but whithersoever she turned herself, she was continually held back by thick hedges of thorns through which she could not break. In the desert, in which she was imprisoned, there stood an old hollow tree, and this had to be her dwelling-place. Into this she crept when night came, and here she slept. Here, too, she found a shelter from storm and rain, but it was a miserable life, and bitterly did she weep when she remembered how happy she had been in heaven, and how the angels had played with her. Roots and wild berries were her only food, and for these she sought as far as she could go. In the autumn she picked up the fallen nuts and leaves, and carried them into the hole. The nuts were her food in winter, and when snow and ice came, she crept amongst the leaves like a poor little animal that she might not freeze. Before long her clothes were all torn, and one bit of them after another fell off her. As soon, however, as the sun shone warm again, she went out and sat in front of the tree, and her long hair covered her on all sides like a mantle. Thus she sat year after year, and felt the pain and the misery of the world.\\n\\nOne day, when the trees were once more clothed in fresh green, the King of the country was hunting in the forest, and followed a roe, and as it had fled into the thicket which shut in this part of the forest, he got off his horse, tore the bushes asunder, and cut himself a path with his sword. When he had at last forced his way through, he saw a wonderfully beautiful maiden sitting under the tree; and she sat there and was entirely covered with her golden hair down to her very feet. He stood still and looked at her full of surprise, then he spoke to her and said: \"Who art thou? Why art thou sitting here in the wilderness?\" But she gave no answer, for she could not open her mouth. The King continued: \"Wilt thou go with me to my castle?\" Then she just nodded her head a little. The King took her in his arms, carried her to his horse, and rode home with her, and when he reached the royal castle he caused her to be dressed in beautiful garments, and gave her all things in abundance. Although she could not speak, she was still so beautiful and charming that he began to love her with all his heart, and it was not long before he married her.\\n\\nAfter a year or so had passed, the Queen brought a son into the world. Thereupon the Virgin Mary appeared to her in the night when she lay in her bed alone, and said: \"If thou wilt tell the truth and confess that thou didst unlock the forbidden door, I will open thy mouth and give thee back thy speech, but if thou perseverest in thy sin, and deniest obstinately, I will take thy new-born child away with me.\" Then the queen was permitted to answer, but she remained hard, and said: \"No, I did not open the forbidden door,\" and the Virgin Mary took the new-born child from her arms, and vanished with it. Next morning when the child was not to be found, it was whispered among the people that the Queen was a man-eater, and had killed her own child. She heard all this and could say nothing to the contrary, but the King would not believe it, for he loved her so much.\\n\\nWhen a year had gone by the Queen again bore a son, and in the night the Virgin Mary again came to her, and said: \"If thou wilt confess that thou openedst the forbidden door, I will give thee thy child back and untie thy tongue; but if you continuest in sin and deniest it, I will take away with me this new child also.\" Then the Queen again said: \"No, I did not open the forbidden door;\" and the Virgin took the child out of her arms, and away with her to heaven. Next morning, when this child also had disappeared, the people declared quite loudly that the Queen had devoured it, and the King\\'s councillors demanded that she should be brought to justice. The King, however, loved her so dearly that he would not believe it, and commanded the councillors under pain of death not to say any more about it.\\n\\nThe following year the Queen gave birth to a beautiful little daughter, and for the third time the Virgin Mary appeared to her in the night and said: \"Follow me.\" She took the Queen by the hand and led her to heaven, and showed her there her two eldest children, who smiled at her, and were playing with the ball of the world. When the Queen rejoiced thereat, the Virgin Mary said: \"Is thy heart not yet softened? If thou wilt own that thou openedst the forbidden door, I will give thee back thy two little sons.\" But for the third time the Queen answered: \"No, I did not open the forbidden door.\" Then the Virgin let her sink down to earth once more, and took from her likewise her third child.\\n\\nNext morning, when the loss was reported abroad, all the people cried loudly: \"The Queen is a man-eater. She must be judged,\" and the King was no longer able to restrain his councillors. Thereupon a trial was held, and as she could not answer, and defend herself, she was condemned to be burnt alive. The wood was got together, and when she was fast bound to the stake, and the fire began to burn round about her, the hard ice of pride melted, her heart was moved by repentance, and she thought: \"If I could but confess before my death that I opened the door.\" Then her voice came back to her, and she cried out loudly: \"Yes, Mary, I did it,\" and straight-way rain fell from the sky and extinguished the flames of fire, and a light broke forth above her, and the Virgin Mary descended with the two little sons by her side, and the new-born daughter in her arms. She spoke kindly to her, and said: \"He who repents his sin and acknowledges it, is forgiven.\" Then she gave her the three children, untied her tongue, and granted her happiness for her whole life.']"
      ]
     },
     "execution_count": 24,
     "metadata": {},
     "output_type": "execute_result"
    }
   ],
   "source": [
    "dataset[\"Story\"][:3]"
   ]
  },
  {
   "cell_type": "code",
   "execution_count": 25,
   "metadata": {},
   "outputs": [
    {
     "name": "stdout",
     "output_type": "stream",
     "text": [
      "Dataset({\n",
      "    features: ['input_ids', 'attention_mask', 'overflow_to_sample_mapping'],\n",
      "    num_rows: 369\n",
      "})\n",
      "Dataset({\n",
      "    features: ['input_ids', 'attention_mask', 'overflow_to_sample_mapping'],\n",
      "    num_rows: 90\n",
      "})\n"
     ]
    }
   ],
   "source": [
    "ds = dataset.train_test_split(test_size=0.2, seed=42)\n",
    "\n",
    "# Use remove_columns to drop the columns that don't have the same number of rows as the tokenized columns\n",
    "# https://discuss.huggingface.co/t/how-to-use-map-or-similar-when-one-row-is-mapped-to-multiple-rows/8374\n",
    "\n",
    "train_dataset = ds[\"train\"].map(tokenize_batch, remove_columns=dataset.column_names, batched=True)\n",
    "train_dataset.set_format(\"pt\", columns=[\"input_ids\"], output_all_columns=True)\n",
    "print(train_dataset)\n",
    "test_dataset = ds[\"test\"].map(tokenize_batch, remove_columns=dataset.column_names, batched=True)\n",
    "test_dataset.set_format(\"pt\", columns=[\"input_ids\"], output_all_columns=True)\n",
    "print(test_dataset)"
   ]
  },
  {
   "cell_type": "code",
   "execution_count": 26,
   "metadata": {},
   "outputs": [
    {
     "data": {
      "text/plain": [
       "tensor([[   32,  3595,  4898,  ...,   290,   750,   407],\n",
       "        [ 2328,  5223,   546,  ...,   257,  4320,    11],\n",
       "        [  475,  1115,  5527,  ..., 50256, 50256, 50256],\n",
       "        ...,\n",
       "        [   11,   290,   788,  ..., 50256, 50256, 50256],\n",
       "        [   32,  1499,   805,  ..., 50256, 50256, 50256],\n",
       "        [ 1858,   373,  1752,  ..., 50256, 50256, 50256]])"
      ]
     },
     "execution_count": 26,
     "metadata": {},
     "output_type": "execute_result"
    }
   ],
   "source": [
    "train_dataset[\"input_ids\"][:10]"
   ]
  },
  {
   "cell_type": "code",
   "execution_count": 27,
   "metadata": {},
   "outputs": [
    {
     "data": {
      "text/plain": [
       "torch.Size([369, 1024])"
      ]
     },
     "execution_count": 27,
     "metadata": {},
     "output_type": "execute_result"
    }
   ],
   "source": [
    "train_dataset[\"input_ids\"].shape"
   ]
  },
  {
   "cell_type": "markdown",
   "metadata": {},
   "source": [
    "[HuggingFace: Causal language modeling](https://huggingface.co/docs/transformers/en/tasks/language_modeling)"
   ]
  },
  {
   "cell_type": "markdown",
   "metadata": {},
   "source": [
    "[HuggingFace course: Fine-tune a pretrained model](https://huggingface.co/docs/transformers/en/training)"
   ]
  },
  {
   "cell_type": "code",
   "execution_count": 28,
   "metadata": {},
   "outputs": [
    {
     "data": {
      "text/plain": [
       "device(type='cuda')"
      ]
     },
     "execution_count": 28,
     "metadata": {},
     "output_type": "execute_result"
    }
   ],
   "source": [
    "device = torch.device(\n",
    "    \"cuda\" if torch.cuda.is_available()\n",
    "    else \"mps\" if torch.backends.mps.is_available()\n",
    "    else \"cpu\"\n",
    ")\n",
    "device"
   ]
  },
  {
   "cell_type": "code",
   "execution_count": 29,
   "metadata": {},
   "outputs": [],
   "source": [
    "model = transformers.AutoModelForCausalLM.from_pretrained(model_id).to(device)"
   ]
  },
  {
   "cell_type": "code",
   "execution_count": 30,
   "metadata": {},
   "outputs": [
    {
     "data": {
      "text/plain": [
       "torch.Size([2, 1024])"
      ]
     },
     "execution_count": 30,
     "metadata": {},
     "output_type": "execute_result"
    }
   ],
   "source": [
    "train_dataset[:2][\"input_ids\"].shape"
   ]
  },
  {
   "cell_type": "code",
   "execution_count": 31,
   "metadata": {},
   "outputs": [
    {
     "data": {
      "text/plain": [
       "'A poor wood-cutter lived with his wife and three daughters in a little hut on the edge of a lonely forest. One morning as he was about to go to his work, he said to his wife, \"Let my dinner be brought into the forest to me by my eldest daughter, or I shall never get my work done, and in order that she may not miss her way,\" he added, \"I will take a bag of millet with me and strew the seeds on the'"
      ]
     },
     "execution_count": 31,
     "metadata": {},
     "output_type": "execute_result"
    }
   ],
   "source": [
    "tokenizer.decode(train_dataset[\"input_ids\"][0][:100])"
   ]
  },
  {
   "cell_type": "code",
   "execution_count": 32,
   "metadata": {},
   "outputs": [
    {
     "data": {
      "text/plain": [
       "' The manworkingburningter, in his wife and two children in the small house in the outskirts of the forest hill.\\n day, he was walking to leave to work house, he saw, himself wife, \"I me wife be dinner to the house.\" be.\" the wife son.\" who to will be be my dinner done.\" and I the to I will be be the work of and said. \"I will not my few of woodlet and me and putow it milk of the ground'"
      ]
     },
     "execution_count": 32,
     "metadata": {},
     "output_type": "execute_result"
    }
   ],
   "source": [
    "# We can send inputs shorter than the model's context lengths (1024)\n",
    "res = model(train_dataset[\"input_ids\"][0][:100].to(device))\n",
    "tokenizer.decode(res.logits.argmax(dim=-1))"
   ]
  },
  {
   "cell_type": "code",
   "execution_count": 33,
   "metadata": {},
   "outputs": [
    {
     "name": "stdout",
     "output_type": "stream",
     "text": [
      "input_ids shape: torch.Size([1, 2, 1024])\n",
      "attention_mask shape: torch.Size([1, 2, 1024])\n",
      "overflow_to_sample_mapping shape: torch.Size([1, 2])\n",
      "labels shape: torch.Size([1, 2, 1024])\n"
     ]
    }
   ],
   "source": [
    "data_collator = transformers.DataCollatorForLanguageModeling(tokenizer, mlm=False)\n",
    "out = data_collator([train_dataset[:2]])\n",
    "\n",
    "for key in out:\n",
    "    print(f\"{key} shape: {out[key].shape}\")\n",
    "\n",
    "assert torch.allclose(out[\"input_ids\"], train_dataset[:2][\"input_ids\"])\n",
    "\n",
    "# Note that labels are the same as input_ids\n",
    "assert torch.allclose(out[\"input_ids\"], out[\"labels\"])"
   ]
  },
  {
   "cell_type": "code",
   "execution_count": 34,
   "metadata": {},
   "outputs": [
    {
     "name": "stderr",
     "output_type": "stream",
     "text": [
      "/home/oleh.lokshyn/miniconda3/envs/tu/lib/python3.11/site-packages/datasets/load.py:1486: FutureWarning: The repository for karpathy/tiny_shakespeare contains custom code which must be executed to correctly load the dataset. You can inspect the repository content at https://hf.co/datasets/karpathy/tiny_shakespeare\n",
      "You can avoid this message in future by passing the argument `trust_remote_code=True`.\n",
      "Passing `trust_remote_code=True` will be mandatory to load this dataset from the next major release of `datasets`.\n",
      "  warnings.warn(\n"
     ]
    }
   ],
   "source": [
    "# https://huggingface.co/datasets/karpathy/tiny_shakespeare\n",
    "shakespeare_dataset_id = \"karpathy/tiny_shakespeare\"\n",
    "\n",
    "shakespeare = load_dataset(shakespeare_dataset_id)\n",
    "\n",
    "def tokenize_batch_shakespeare(examples):\n",
    "    return tokenizer(\n",
    "        examples[\"text\"],\n",
    "        truncation=True,\n",
    "        return_overflowing_tokens=True,\n",
    "        padding=\"max_length\",  # Defaults to the max length of the model\n",
    "        return_tensors=\"pt\"\n",
    "    )\n",
    "\n",
    "shakespeare_train = shakespeare[\"train\"].map(tokenize_batch_shakespeare, remove_columns=[\"text\"], batched=True)\n",
    "shakespeare_train.set_format(\"pt\", columns=[\"input_ids\"], output_all_columns=True)\n",
    "shakespeare_val = shakespeare[\"validation\"].map(tokenize_batch_shakespeare, remove_columns=[\"text\"], batched=True)\n",
    "shakespeare_val.set_format(\"pt\", columns=[\"input_ids\"], output_all_columns=True)\n",
    "shakespeare_test = shakespeare[\"test\"].map(tokenize_batch_shakespeare, remove_columns=[\"text\"], batched=True)\n",
    "shakespeare_test.set_format(\"pt\", columns=[\"input_ids\"], output_all_columns=True)\n"
   ]
  },
  {
   "cell_type": "code",
   "execution_count": 35,
   "metadata": {},
   "outputs": [
    {
     "data": {
      "text/plain": [
       "torch.Size([664, 1024])"
      ]
     },
     "execution_count": 35,
     "metadata": {},
     "output_type": "execute_result"
    }
   ],
   "source": [
    "all_train_datasets = concatenate_datasets([train_dataset, shakespeare_train])\n",
    "all_test_datasets = concatenate_datasets([test_dataset, shakespeare_val, shakespeare_test])\n",
    "\n",
    "all_train_datasets[\"input_ids\"].shape"
   ]
  },
  {
   "cell_type": "code",
   "execution_count": 36,
   "metadata": {},
   "outputs": [
    {
     "data": {
      "text/plain": [
       "GPT2LMHeadModel(\n",
       "  (transformer): GPT2Model(\n",
       "    (wte): Embedding(50257, 768)\n",
       "    (wpe): Embedding(1024, 768)\n",
       "    (drop): Dropout(p=0.1, inplace=False)\n",
       "    (h): ModuleList(\n",
       "      (0-5): 6 x GPT2Block(\n",
       "        (ln_1): LayerNorm((768,), eps=1e-05, elementwise_affine=True)\n",
       "        (attn): GPT2SdpaAttention(\n",
       "          (c_attn): Conv1D(nf=2304, nx=768)\n",
       "          (c_proj): Conv1D(nf=768, nx=768)\n",
       "          (attn_dropout): Dropout(p=0.1, inplace=False)\n",
       "          (resid_dropout): Dropout(p=0.1, inplace=False)\n",
       "        )\n",
       "        (ln_2): LayerNorm((768,), eps=1e-05, elementwise_affine=True)\n",
       "        (mlp): GPT2MLP(\n",
       "          (c_fc): Conv1D(nf=3072, nx=768)\n",
       "          (c_proj): Conv1D(nf=768, nx=3072)\n",
       "          (act): NewGELUActivation()\n",
       "          (dropout): Dropout(p=0.1, inplace=False)\n",
       "        )\n",
       "      )\n",
       "    )\n",
       "    (ln_f): LayerNorm((768,), eps=1e-05, elementwise_affine=True)\n",
       "  )\n",
       "  (lm_head): Linear(in_features=768, out_features=50257, bias=False)\n",
       ")"
      ]
     },
     "execution_count": 36,
     "metadata": {},
     "output_type": "execute_result"
    }
   ],
   "source": [
    "model = model.to(\"cpu\")\n",
    "model"
   ]
  },
  {
   "cell_type": "code",
   "execution_count": 37,
   "metadata": {},
   "outputs": [
    {
     "name": "stdout",
     "output_type": "stream",
     "text": [
      "Total number of training examples: 664\n",
      "Number of steps per epoch: 42\n",
      "Total number of steps: 210\n"
     ]
    },
    {
     "name": "stderr",
     "output_type": "stream",
     "text": [
      "/home/oleh.lokshyn/miniconda3/envs/tu/lib/python3.11/site-packages/torch/nn/parallel/_functions.py:68: UserWarning: Was asked to gather along dimension 0, but all input tensors were scalars; will instead unsqueeze and return a vector.\n",
      "  warnings.warn('Was asked to gather along dimension 0, but all '\n"
     ]
    },
    {
     "data": {
      "text/html": [
       "\n",
       "    <div>\n",
       "      \n",
       "      <progress value='105' max='105' style='width:300px; height:20px; vertical-align: middle;'></progress>\n",
       "      [105/105 00:45, Epoch 5/5]\n",
       "    </div>\n",
       "    <table border=\"1\" class=\"dataframe\">\n",
       "  <thead>\n",
       " <tr style=\"text-align: left;\">\n",
       "      <th>Epoch</th>\n",
       "      <th>Training Loss</th>\n",
       "      <th>Validation Loss</th>\n",
       "    </tr>\n",
       "  </thead>\n",
       "  <tbody>\n",
       "    <tr>\n",
       "      <td>1</td>\n",
       "      <td>3.747700</td>\n",
       "      <td>3.361568</td>\n",
       "    </tr>\n",
       "    <tr>\n",
       "      <td>2</td>\n",
       "      <td>3.603500</td>\n",
       "      <td>3.314357</td>\n",
       "    </tr>\n",
       "    <tr>\n",
       "      <td>3</td>\n",
       "      <td>3.540600</td>\n",
       "      <td>3.290583</td>\n",
       "    </tr>\n",
       "    <tr>\n",
       "      <td>4</td>\n",
       "      <td>3.502800</td>\n",
       "      <td>3.283373</td>\n",
       "    </tr>\n",
       "    <tr>\n",
       "      <td>5</td>\n",
       "      <td>3.486500</td>\n",
       "      <td>3.277186</td>\n",
       "    </tr>\n",
       "  </tbody>\n",
       "</table><p>"
      ],
      "text/plain": [
       "<IPython.core.display.HTML object>"
      ]
     },
     "metadata": {},
     "output_type": "display_data"
    },
    {
     "name": "stderr",
     "output_type": "stream",
     "text": [
      "/home/oleh.lokshyn/miniconda3/envs/tu/lib/python3.11/site-packages/torch/nn/parallel/_functions.py:68: UserWarning: Was asked to gather along dimension 0, but all input tensors were scalars; will instead unsqueeze and return a vector.\n",
      "  warnings.warn('Was asked to gather along dimension 0, but all '\n",
      "/home/oleh.lokshyn/miniconda3/envs/tu/lib/python3.11/site-packages/torch/nn/parallel/_functions.py:68: UserWarning: Was asked to gather along dimension 0, but all input tensors were scalars; will instead unsqueeze and return a vector.\n",
      "  warnings.warn('Was asked to gather along dimension 0, but all '\n",
      "/home/oleh.lokshyn/miniconda3/envs/tu/lib/python3.11/site-packages/torch/nn/parallel/_functions.py:68: UserWarning: Was asked to gather along dimension 0, but all input tensors were scalars; will instead unsqueeze and return a vector.\n",
      "  warnings.warn('Was asked to gather along dimension 0, but all '\n",
      "/home/oleh.lokshyn/miniconda3/envs/tu/lib/python3.11/site-packages/torch/nn/parallel/_functions.py:68: UserWarning: Was asked to gather along dimension 0, but all input tensors were scalars; will instead unsqueeze and return a vector.\n",
      "  warnings.warn('Was asked to gather along dimension 0, but all '\n",
      "/home/oleh.lokshyn/miniconda3/envs/tu/lib/python3.11/site-packages/torch/nn/parallel/_functions.py:68: UserWarning: Was asked to gather along dimension 0, but all input tensors were scalars; will instead unsqueeze and return a vector.\n",
      "  warnings.warn('Was asked to gather along dimension 0, but all '\n",
      "There were missing keys in the checkpoint model loaded: ['lm_head.weight'].\n"
     ]
    },
    {
     "data": {
      "text/plain": [
       "TrainOutput(global_step=105, training_loss=3.576228550502232, metrics={'train_runtime': 46.6013, 'train_samples_per_second': 71.243, 'train_steps_per_second': 2.253, 'total_flos': 867505211965440.0, 'train_loss': 3.576228550502232, 'epoch': 5.0})"
      ]
     },
     "execution_count": 37,
     "metadata": {},
     "output_type": "execute_result"
    }
   ],
   "source": [
    "training_args = transformers.TrainingArguments(\n",
    "    num_train_epochs=5,\n",
    "    output_dir=\"out/shakespeare_grim_gpt2\",\n",
    "    save_strategy=\"epoch\",\n",
    "    eval_strategy=\"epoch\",\n",
    "    logging_strategy=\"epoch\",\n",
    "    per_device_train_batch_size=16,\n",
    "    per_device_eval_batch_size=16,\n",
    "    bf16=True,\n",
    "    seed=13,\n",
    "    save_total_limit=3,\n",
    "    load_best_model_at_end=True,\n",
    "    \n",
    "    learning_rate=5e-5,\n",
    "    weight_decay=0.001,\n",
    ")\n",
    "\n",
    "trainer = transformers.Trainer(\n",
    "    model=model,\n",
    "    args=training_args,\n",
    "    train_dataset=all_train_datasets,\n",
    "    eval_dataset=all_test_datasets,\n",
    "    data_collator=data_collator,\n",
    ")\n",
    "\n",
    "steps_per_epoch = math.ceil(len(all_train_datasets) / training_args.per_device_train_batch_size)\n",
    "print(\"Total number of training examples:\", len(all_train_datasets))\n",
    "print(\"Number of steps per epoch:\", steps_per_epoch)\n",
    "print(\"Total number of steps:\", steps_per_epoch * training_args.num_train_epochs)\n",
    "\n",
    "trainer.train()"
   ]
  },
  {
   "cell_type": "code",
   "execution_count": 38,
   "metadata": {},
   "outputs": [
    {
     "name": "stderr",
     "output_type": "stream",
     "text": [
      "/home/oleh.lokshyn/miniconda3/envs/tu/lib/python3.11/site-packages/torch/nn/parallel/_functions.py:68: UserWarning: Was asked to gather along dimension 0, but all input tensors were scalars; will instead unsqueeze and return a vector.\n",
      "  warnings.warn('Was asked to gather along dimension 0, but all '\n"
     ]
    },
    {
     "data": {
      "text/html": [
       "\n",
       "    <div>\n",
       "      \n",
       "      <progress value='4' max='4' style='width:300px; height:20px; vertical-align: middle;'></progress>\n",
       "      [4/4 00:00]\n",
       "    </div>\n",
       "    "
      ],
      "text/plain": [
       "<IPython.core.display.HTML object>"
      ]
     },
     "metadata": {},
     "output_type": "display_data"
    },
    {
     "name": "stdout",
     "output_type": "stream",
     "text": [
      "Perplexity: 26.50\n"
     ]
    }
   ],
   "source": [
    "import math\n",
    "\n",
    "eval_results = trainer.evaluate()\n",
    "print(f\"Perplexity: {math.exp(eval_results['eval_loss']):.2f}\")"
   ]
  },
  {
   "cell_type": "code",
   "execution_count": 39,
   "metadata": {},
   "outputs": [],
   "source": [
    "generator = transformers.pipeline(\"text-generation\", model=model.to(\"cuda\"), tokenizer=tokenizer, device=device)"
   ]
  },
  {
   "cell_type": "code",
   "execution_count": 40,
   "metadata": {},
   "outputs": [],
   "source": [
    "name = \"Arthur\""
   ]
  },
  {
   "cell_type": "code",
   "execution_count": 41,
   "metadata": {},
   "outputs": [],
   "source": [
    "def gen(prompt):\n",
    "    print(generator(prompt, max_new_tokens=200)[0][\"generated_text\"])"
   ]
  },
  {
   "cell_type": "code",
   "execution_count": 42,
   "metadata": {},
   "outputs": [
    {
     "name": "stdout",
     "output_type": "stream",
     "text": [
      "A long time ago there lived a king named Arthur who was known for his love of outrageous wigs and gold, and had married a princess named Elizabeth who had been married long ago, who was known for his passion for animal breeding, and was known for his passion for animal breeding.\"\n",
      "He was then known to be so generous and compassionate that he was so much willing to fight his wickedness, even when the princess went on to conquer the world at night.\"\n",
      "\"For three years,\" said the king, \"we had a good time together.\"\n",
      "\"And when she went on to conquer her kingdom by the sword of the god,\" said the queen; \"it was the most beautiful time it's been here.\"\n",
      "The King's wife went on to the seaside in the hopes of rescuing the princess, but in the end the king was rescued and the king was given a reward to fight for the king.\"\n",
      "After three days at sea, and when Princess Elizabeth found out, she ordered that Edward should not marry her, she became terrified of that and was ready for battle.\n",
      "\n"
     ]
    }
   ],
   "source": [
    "gen(f\"A long time ago there lived a king named {name} who was known for his love of outrageous wigs\")"
   ]
  },
  {
   "cell_type": "code",
   "execution_count": 43,
   "metadata": {},
   "outputs": [
    {
     "name": "stdout",
     "output_type": "stream",
     "text": [
      "There was once a peasant named Arthur who owned a cat and was afraid of the big black wolf. He had been a hunter and hunted people by the wolf. But the wolf did not come to the nearest home and said that he saw a man with great wealth that was looking at it. When he saw the man, he went into an underground cellar which was a black hole. When he saw the man there stood a man and said \"Go into, you must be as handsome as I am\". At that time the man had become very jealous with the black hole. When he was inside, he wanted to get away and let it go. When he was out of town, he said, \"Where am I? I haven't gone outside for a while.\" The man gave the man a book which was written over a wood and cut into a piece in pieces. Then he gave the man a book which was called A Thousand Years of Men. Then he took the book and put it through his fingers. Then the man thought about it again and said, \"And with the knowledge of this\n"
     ]
    }
   ],
   "source": [
    "gen(f\"There was once a peasant named {name} who owned a cat and was afraid of the big black wolf\")"
   ]
  },
  {
   "cell_type": "code",
   "execution_count": null,
   "metadata": {},
   "outputs": [],
   "source": []
  }
 ],
 "metadata": {
  "kernelspec": {
   "display_name": "tu",
   "language": "python",
   "name": "python3"
  },
  "language_info": {
   "codemirror_mode": {
    "name": "ipython",
    "version": 3
   },
   "file_extension": ".py",
   "mimetype": "text/x-python",
   "name": "python",
   "nbconvert_exporter": "python",
   "pygments_lexer": "ipython3",
   "version": "3.11.10"
  }
 },
 "nbformat": 4,
 "nbformat_minor": 2
}
