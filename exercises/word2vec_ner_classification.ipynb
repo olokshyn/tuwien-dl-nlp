{
 "cells": [
  {
   "cell_type": "code",
   "execution_count": 1,
   "metadata": {},
   "outputs": [],
   "source": [
    "import re\n",
    "import random\n",
    "from itertools import islice\n",
    "import gc\n",
    "\n",
    "import torch\n",
    "import torch.nn.functional as F\n",
    "import numpy as np\n",
    "import datasets\n",
    "import gensim.downloader as api"
   ]
  },
  {
   "cell_type": "code",
   "execution_count": 2,
   "metadata": {},
   "outputs": [],
   "source": [
    "def set_seed(seed: int):\n",
    "    # Set seed for Python's random module\n",
    "    random.seed(seed)\n",
    "    \n",
    "    # Set seed for NumPy\n",
    "    np.random.seed(seed)\n",
    "    \n",
    "    # Set seed for PyTorch\n",
    "    torch.manual_seed(seed)\n",
    "    \n",
    "    # Set seed for CUDA (if using)\n",
    "    if torch.cuda.is_available():\n",
    "        torch.cuda.manual_seed(seed)\n",
    "        torch.cuda.manual_seed_all(seed)  # For multi-GPU setups\n",
    "        \n",
    "    # Make PyTorch deterministic (this can slow down the computation)\n",
    "    torch.backends.cudnn.deterministic = True\n",
    "    torch.backends.cudnn.benchmark = False\n",
    "\n",
    "# Example of usage\n",
    "set_seed(42)\n"
   ]
  },
  {
   "cell_type": "markdown",
   "metadata": {},
   "source": [
    "# Loading Word2Vec model"
   ]
  },
  {
   "cell_type": "code",
   "execution_count": 3,
   "metadata": {},
   "outputs": [
    {
     "name": "stdout",
     "output_type": "stream",
     "text": [
      "dict_keys(['fasttext-wiki-news-subwords-300', 'conceptnet-numberbatch-17-06-300', 'word2vec-ruscorpora-300', 'word2vec-google-news-300', 'glove-wiki-gigaword-50', 'glove-wiki-gigaword-100', 'glove-wiki-gigaword-200', 'glove-wiki-gigaword-300', 'glove-twitter-25', 'glove-twitter-50', 'glove-twitter-100', 'glove-twitter-200', '__testing_word2vec-matrix-synopsis'])\n"
     ]
    }
   ],
   "source": [
    "print(api.info()['models'].keys())\n",
    "\n",
    "word2vec_model = api.load('word2vec-google-news-300')"
   ]
  },
  {
   "cell_type": "markdown",
   "metadata": {},
   "source": [
    "A trained Word2Vec model is just a large collection of multi-dimensional vectors:\n",
    "\n",
    "1. All known words are saved in the vocabulary.\n",
    "1. There is one vector per each word in the vocabulary.\n",
    "1. Vectors must have many dimensions to represent all meaning of a word and relation to other words."
   ]
  },
  {
   "cell_type": "code",
   "execution_count": 4,
   "metadata": {},
   "outputs": [
    {
     "name": "stdout",
     "output_type": "stream",
     "text": [
      "Vocabulary size:\n"
     ]
    },
    {
     "data": {
      "text/plain": [
       "3000000"
      ]
     },
     "execution_count": 4,
     "metadata": {},
     "output_type": "execute_result"
    }
   ],
   "source": [
    "print(\"Vocabulary size:\")\n",
    "len(word2vec_model.key_to_index)"
   ]
  },
  {
   "cell_type": "code",
   "execution_count": 5,
   "metadata": {},
   "outputs": [
    {
     "name": "stdout",
     "output_type": "stream",
     "text": [
      "The model learns a 300-dimensional vector for each word:\n"
     ]
    },
    {
     "data": {
      "text/plain": [
       "(3000000, 300)"
      ]
     },
     "execution_count": 5,
     "metadata": {},
     "output_type": "execute_result"
    }
   ],
   "source": [
    "print(\"The model learns a 300-dimensional vector for each word:\")\n",
    "word2vec_model.vectors.shape"
   ]
  },
  {
   "cell_type": "markdown",
   "metadata": {},
   "source": [
    "# Using Word2Vec Embeddings"
   ]
  },
  {
   "cell_type": "code",
   "execution_count": 6,
   "metadata": {},
   "outputs": [
    {
     "data": {
      "text/plain": [
       "{'</s>': 0,\n",
       " 'in': 1,\n",
       " 'for': 2,\n",
       " 'that': 3,\n",
       " 'is': 4,\n",
       " 'on': 5,\n",
       " '##': 6,\n",
       " 'The': 7,\n",
       " 'with': 8,\n",
       " 'said': 9}"
      ]
     },
     "execution_count": 6,
     "metadata": {},
     "output_type": "execute_result"
    }
   ],
   "source": [
    "dict(islice(word2vec_model.key_to_index.items(), 10))"
   ]
  },
  {
   "cell_type": "code",
   "execution_count": 7,
   "metadata": {},
   "outputs": [
    {
     "data": {
      "text/plain": [
       "(300,)"
      ]
     },
     "execution_count": 7,
     "metadata": {},
     "output_type": "execute_result"
    }
   ],
   "source": [
    "word2vec_model['king'].shape"
   ]
  },
  {
   "cell_type": "markdown",
   "metadata": {},
   "source": [
    "To use Word2Vec model we need an efficient way of finding the representation vector for any given word.\n",
    "\n",
    "[torch.nn.Embedding](https://pytorch.org/docs/stable/generated/torch.nn.Embedding.html) selects a row of the matrix at a given index, very much like indexing in python lists.\n",
    "\n",
    "There is also a fun way of selecting matrix rows using one-hot encoded vectors:\n",
    "1. We need to retrieve a representation for the word \"in\".\n",
    "1. From above we see that the index for \"in\" is 1.\n",
    "1. One-hot 1 and get a 3,000,000-dimensional zero vector with 1 at position 1: [0, 1, 0, 0, ...]\n",
    "1. Now we can use a one-hot encoded vector multiplication with the matrix to retrieve the corresponding row:\n",
    "\n",
    "```\n",
    "[0, 1, 0, 0, ...] @ [\n",
    "    [a11, a12, ..., a1n],\n",
    "    [a21, a22, ..., a2n],\n",
    "    [a31, a32, ..., a3n],\n",
    "    ...\n",
    "    [am1, am2, ..., amn]\n",
    "]\n",
    "=\n",
    "[a21, a22, ..., a2n]\n",
    "```\n",
    "where n = 1,...300 and m=1,...3,000,000\n",
    "\n",
    "Note: if we combine many one-hot encoded vectors as rows then we can fetch representations of many words at once!\n",
    "Note: this is super inefficient since a matrix of one-hot encoded vectors is very sparse."
   ]
  },
  {
   "cell_type": "code",
   "execution_count": 8,
   "metadata": {},
   "outputs": [],
   "source": [
    "embeddings = torch.nn.Embedding.from_pretrained(torch.tensor(word2vec_model.vectors))"
   ]
  },
  {
   "cell_type": "code",
   "execution_count": 9,
   "metadata": {},
   "outputs": [
    {
     "name": "stdout",
     "output_type": "stream",
     "text": [
      "One-hot encoded vector shape: torch.Size([3000000])\n",
      "One-hot encoder vector sums to: tensor(1)\n",
      "Embeddings matrix shape: torch.Size([3000000, 300])\n",
      "Shape of the matrix multiply between the one-hot encoded vector and embeddings: torch.Size([300])\n"
     ]
    }
   ],
   "source": [
    "test_one_hot_vec = F.one_hot(\n",
    "    torch.tensor([word2vec_model.key_to_index[\"king\"]]), num_classes=len(word2vec_model.key_to_index)\n",
    ")[0]\n",
    "print(\"One-hot encoded vector shape:\", test_one_hot_vec.shape)\n",
    "print(\"One-hot encoder vector sums to:\", test_one_hot_vec.sum())\n",
    "print(\"Embeddings matrix shape:\", embeddings.weight.shape)\n",
    "test_vec = test_one_hot_vec.type(torch.float32) @ embeddings.weight\n",
    "print(\"Shape of the matrix multiply between the one-hot encoded vector and embeddings:\", test_vec.shape)\n",
    "assert torch.allclose(test_vec, torch.tensor(word2vec_model[\"king\"]))"
   ]
  },
  {
   "cell_type": "code",
   "execution_count": 10,
   "metadata": {},
   "outputs": [],
   "source": [
    "test_vec2 = embeddings(torch.tensor([word2vec_model.key_to_index[\"king\"]]))\n",
    "assert torch.allclose(test_vec2, torch.tensor(word2vec_model[\"king\"]))\n",
    "assert torch.allclose(test_vec, test_vec2)"
   ]
  },
  {
   "cell_type": "code",
   "execution_count": 11,
   "metadata": {},
   "outputs": [
    {
     "name": "stdout",
     "output_type": "stream",
     "text": [
      "One-hot encoded batch shape: torch.Size([2, 3000000])\n",
      "One-hot encoded batch sums to along rows: tensor([1, 1])\n",
      "Embeddings matrix shape: torch.Size([3000000, 300])\n",
      "Shape of the matrix multiply between the one-hot encoded batch and embeddings: torch.Size([2, 300])\n"
     ]
    }
   ],
   "source": [
    "test_one_hot_batch = F.one_hot(\n",
    "    torch.tensor([word2vec_model.key_to_index[\"student\"], word2vec_model.key_to_index[\"university\"]]),\n",
    "    num_classes=len(word2vec_model.key_to_index),\n",
    ")\n",
    "print(f\"One-hot encoded batch shape:\", test_one_hot_batch.shape)\n",
    "print(f\"One-hot encoded batch sums to along rows:\", test_one_hot_batch.sum(axis=-1))\n",
    "print(\"Embeddings matrix shape:\", embeddings.weight.shape)\n",
    "test_batch = test_one_hot_batch.type(torch.float32) @ embeddings.weight\n",
    "print(\"Shape of the matrix multiply between the one-hot encoded batch and embeddings:\", test_batch.shape)\n",
    "assert torch.allclose(test_batch[0], torch.tensor(word2vec_model[\"student\"]))\n",
    "assert torch.allclose(test_batch[1], torch.tensor(word2vec_model[\"university\"]))"
   ]
  },
  {
   "cell_type": "code",
   "execution_count": 12,
   "metadata": {},
   "outputs": [],
   "source": [
    "test_batch2 = embeddings(\n",
    "    torch.tensor([word2vec_model.key_to_index[\"student\"], word2vec_model.key_to_index[\"university\"]])\n",
    ")\n",
    "assert torch.allclose(test_batch2[0], torch.tensor(word2vec_model[\"student\"]))\n",
    "assert torch.allclose(test_batch2[1], torch.tensor(word2vec_model[\"university\"]))\n",
    "assert torch.allclose(test_batch, test_batch2)"
   ]
  },
  {
   "cell_type": "code",
   "execution_count": 13,
   "metadata": {},
   "outputs": [
    {
     "data": {
      "text/plain": [
       "0"
      ]
     },
     "execution_count": 13,
     "metadata": {},
     "output_type": "execute_result"
    }
   ],
   "source": [
    "del embeddings\n",
    "gc.collect()"
   ]
  },
  {
   "cell_type": "markdown",
   "metadata": {},
   "source": [
    "# Loading the CoNLL-2003 dataset"
   ]
  },
  {
   "cell_type": "code",
   "execution_count": 14,
   "metadata": {},
   "outputs": [
    {
     "name": "stderr",
     "output_type": "stream",
     "text": [
      "/home/olokshyn/anaconda3/envs/nlp/lib/python3.11/site-packages/datasets/load.py:1486: FutureWarning: The repository for conll2003 contains custom code which must be executed to correctly load the dataset. You can inspect the repository content at https://hf.co/datasets/conll2003\n",
      "You can avoid this message in future by passing the argument `trust_remote_code=True`.\n",
      "Passing `trust_remote_code=True` will be mandatory to load this dataset from the next major release of `datasets`.\n",
      "  warnings.warn(\n"
     ]
    },
    {
     "data": {
      "text/plain": [
       "{'id': '0',\n",
       " 'tokens': ['EU',\n",
       "  'rejects',\n",
       "  'German',\n",
       "  'call',\n",
       "  'to',\n",
       "  'boycott',\n",
       "  'British',\n",
       "  'lamb',\n",
       "  '.'],\n",
       " 'pos_tags': [22, 42, 16, 21, 35, 37, 16, 21, 7],\n",
       " 'chunk_tags': [11, 21, 11, 12, 21, 22, 11, 12, 0],\n",
       " 'ner_tags': [3, 0, 7, 0, 0, 0, 7, 0, 0]}"
      ]
     },
     "execution_count": 14,
     "metadata": {},
     "output_type": "execute_result"
    }
   ],
   "source": [
    "dataset = datasets.load_dataset(\"conll2003\")\n",
    "label_names = dataset[\"train\"].features[\"ner_tags\"].feature.names\n",
    "# ner_tags = {\"O\": 0, \"B-PER\": 1, \"I-PER\": 2, \"B-ORG\": 3, \"I-ORG\": 4, \"B-LOC\": 5, \"I-LOC\": 6, \"B-MISC\": 7, \"I-MISC\": 8}\n",
    "# assert {x: i for i, x in enumerate(label_names)} == ner_tags\n",
    "dataset[\"train\"][0]"
   ]
  },
  {
   "cell_type": "code",
   "execution_count": 15,
   "metadata": {},
   "outputs": [
    {
     "data": {
      "text/plain": [
       "{'id': ['0', '1', '2'],\n",
       " 'tokens': [['EU',\n",
       "   'rejects',\n",
       "   'German',\n",
       "   'call',\n",
       "   'to',\n",
       "   'boycott',\n",
       "   'British',\n",
       "   'lamb',\n",
       "   '.'],\n",
       "  ['Peter', 'Blackburn'],\n",
       "  ['BRUSSELS', '1996-08-22']],\n",
       " 'pos_tags': [[22, 42, 16, 21, 35, 37, 16, 21, 7], [22, 22], [22, 11]],\n",
       " 'chunk_tags': [[11, 21, 11, 12, 21, 22, 11, 12, 0], [11, 12], [11, 12]],\n",
       " 'ner_tags': [[3, 0, 7, 0, 0, 0, 7, 0, 0], [1, 2], [5, 0]]}"
      ]
     },
     "execution_count": 15,
     "metadata": {},
     "output_type": "execute_result"
    }
   ],
   "source": [
    "examples = dataset[\"train\"][:3]\n",
    "examples"
   ]
  },
  {
   "cell_type": "code",
   "execution_count": 16,
   "metadata": {},
   "outputs": [
    {
     "name": "stdout",
     "output_type": "stream",
     "text": [
      "KeyError: 'yappie'\n"
     ]
    }
   ],
   "source": [
    "try:\n",
    "    # When a word is not in the vocabulary, it throws KeyError\n",
    "    word2vec_model.key_to_index['yappie']\n",
    "except KeyError as e:\n",
    "    print(f\"KeyError: {e}\")"
   ]
  },
  {
   "cell_type": "code",
   "execution_count": 17,
   "metadata": {},
   "outputs": [
    {
     "data": {
      "text/plain": [
       "0"
      ]
     },
     "execution_count": 17,
     "metadata": {},
     "output_type": "execute_result"
    }
   ],
   "source": [
    "# We should use .get() instead of [key] to handle missing keys\n",
    "word2vec_model.key_to_index.get('yappie', 0)"
   ]
  },
  {
   "cell_type": "code",
   "execution_count": 18,
   "metadata": {},
   "outputs": [
    {
     "name": "stdout",
     "output_type": "stream",
     "text": [
      "KeyError: 'to'\n"
     ]
    }
   ],
   "source": [
    "try:\n",
    "    # Some very frequent words are removed from the vocabulary\n",
    "    word2vec_model.key_to_index['to']\n",
    "except KeyError as e:\n",
    "    print(f\"KeyError: {e}\")"
   ]
  },
  {
   "cell_type": "code",
   "execution_count": 19,
   "metadata": {},
   "outputs": [
    {
     "data": {
      "text/plain": [
       "[[119923, 11500, 156694, 315, 0, 8059, 130603, 18927, 0, 0],\n",
       " [84925, 761934, 0, 0, 0, 0, 0, 0, 0, 0],\n",
       " [902198, 0, 0, 0, 0, 0, 0, 0, 0, 0]]"
      ]
     },
     "execution_count": 19,
     "metadata": {},
     "output_type": "execute_result"
    }
   ],
   "source": [
    "def tokenize(\n",
    "    tokens: list[str],\n",
    "    lower: bool = True,\n",
    "    pad_to_length: int | None = None,\n",
    "    truncate: int | None = None,\n",
    ") -> list[int]:\n",
    "\n",
    "    if lower:\n",
    "        tokens = [token.lower() for token in tokens]\n",
    "    ids = [word2vec_model.key_to_index.get(token, 0) for token in tokens]\n",
    "    if truncate:\n",
    "        ids = ids[:truncate]\n",
    "    if pad_to_length and len(ids) < pad_to_length:\n",
    "        target_len = min(pad_to_length, truncate or pad_to_length)\n",
    "        ids = ids + [0] * (target_len - len(ids))\n",
    "    return ids\n",
    "\n",
    "\n",
    "[tokenize(x, lower=True, pad_to_length=10, truncate=20) for x in examples[\"tokens\"]]"
   ]
  },
  {
   "cell_type": "code",
   "execution_count": 20,
   "metadata": {},
   "outputs": [
    {
     "data": {
      "text/plain": [
       "[[3, 0, 7, 0, 0, 0, 7, 0, 0, 0],\n",
       " [1, 2, 0, 0, 0, 0, 0, 0, 0, 0],\n",
       " [5, 0, 0, 0, 0, 0, 0, 0, 0, 0]]"
      ]
     },
     "execution_count": 20,
     "metadata": {},
     "output_type": "execute_result"
    }
   ],
   "source": [
    "def align_labels(\n",
    "    labels: list[str],\n",
    "    pad_to_length: int | None = None,\n",
    "    truncate: int | None = None,\n",
    ") -> list[int]:\n",
    "\n",
    "    if truncate:\n",
    "        labels = labels[:truncate]\n",
    "    if pad_to_length and len(labels) < pad_to_length:\n",
    "        target_len = min(pad_to_length, truncate or pad_to_length)\n",
    "        labels = labels + [0] * (target_len - len(labels))\n",
    "    return labels\n",
    "\n",
    "\n",
    "[align_labels(x, pad_to_length=10, truncate=20) for x in examples[\"ner_tags\"]]"
   ]
  },
  {
   "cell_type": "code",
   "execution_count": 21,
   "metadata": {},
   "outputs": [
    {
     "data": {
      "text/plain": [
       "[{'id': '0',\n",
       "  'tokens': ['EU',\n",
       "   'rejects',\n",
       "   'German',\n",
       "   'call',\n",
       "   'to',\n",
       "   'boycott',\n",
       "   'British',\n",
       "   'lamb',\n",
       "   '.'],\n",
       "  'pos_tags': [22, 42, 16, 21, 35, 37, 16, 21, 7],\n",
       "  'chunk_tags': [11, 21, 11, 12, 21, 22, 11, 12, 0],\n",
       "  'ner_tags': [3, 0, 7, 0, 0, 0, 7, 0, 0]},\n",
       " {'id': '1',\n",
       "  'tokens': ['Peter', 'Blackburn'],\n",
       "  'pos_tags': [22, 22],\n",
       "  'chunk_tags': [11, 12],\n",
       "  'ner_tags': [1, 2]}]"
      ]
     },
     "execution_count": 21,
     "metadata": {},
     "output_type": "execute_result"
    }
   ],
   "source": [
    "test_batch_size = 20\n",
    "test_data_subset = list(islice(iter(dataset[\"train\"]), test_batch_size))\n",
    "test_data_subset[:2]"
   ]
  },
  {
   "cell_type": "code",
   "execution_count": 22,
   "metadata": {},
   "outputs": [
    {
     "name": "stdout",
     "output_type": "stream",
     "text": [
      "input shape: torch.Size([20, 40])\n",
      "labels shape: torch.Size([20, 40])\n",
      "tensor([ 1611, 11500,  1760,   315,     0,  8059,   882, 18927,     0,     0,\n",
      "            0,     0,     0,     0,     0,     0,     0,     0,     0,     0,\n",
      "            0,     0,     0,     0,     0,     0,     0,     0,     0,     0,\n",
      "            0,     0,     0,     0,     0,     0,     0,     0,     0,     0])\n",
      "[1611, 11500, 1760, 315, 0, 8059, 882, 18927, 0]\n",
      "tensor([3, 0, 7, 0, 0, 0, 7, 0, 0, 0, 0, 0, 0, 0, 0, 0, 0, 0, 0, 0, 0, 0, 0, 0,\n",
      "        0, 0, 0, 0, 0, 0, 0, 0, 0, 0, 0, 0, 0, 0, 0, 0])\n",
      "[3, 0, 7, 0, 0, 0, 7, 0, 0]\n"
     ]
    }
   ],
   "source": [
    "def collate_fn(examples: list[dict]):\n",
    "    max_size = max(len(x[\"tokens\"]) for x in examples)\n",
    "    tokens = [tokenize(x[\"tokens\"], lower=False, pad_to_length=max_size) for x in examples]\n",
    "    labels = [align_labels(x[\"ner_tags\"], pad_to_length=max_size) for x in examples]\n",
    "    return {\"input_ids\": torch.tensor(tokens), \"labels\": torch.tensor(labels)}\n",
    "\n",
    "\n",
    "test_batch = collate_fn(test_data_subset)\n",
    "print(\"input shape:\", test_batch[\"input_ids\"].shape)\n",
    "print(\"labels shape:\", test_batch[\"labels\"].shape)\n",
    "max_size = max(len(x[\"tokens\"]) for x in test_data_subset)\n",
    "assert test_batch[\"input_ids\"].shape == (test_batch_size, max_size)\n",
    "assert test_batch[\"labels\"].shape == (test_batch_size, max_size)\n",
    "print(test_batch[\"input_ids\"][0])\n",
    "print([word2vec_model.key_to_index.get(x, 0) for x in dataset[\"train\"][0][\"tokens\"]])\n",
    "print(test_batch[\"labels\"][0])\n",
    "print(dataset[\"train\"][0][\"ner_tags\"])"
   ]
  },
  {
   "cell_type": "code",
   "execution_count": 23,
   "metadata": {},
   "outputs": [
    {
     "name": "stdout",
     "output_type": "stream",
     "text": [
      "torch.Size([32, 47]) torch.Size([32, 47])\n",
      "torch.Size([32, 44]) torch.Size([32, 44])\n",
      "torch.Size([32, 16]) torch.Size([32, 16])\n",
      "torch.Size([32, 46]) torch.Size([32, 46])\n",
      "torch.Size([32, 40]) torch.Size([32, 40])\n",
      "torch.Size([32, 44]) torch.Size([32, 44])\n",
      "torch.Size([32, 37]) torch.Size([32, 37])\n",
      "torch.Size([32, 39]) torch.Size([32, 39])\n",
      "torch.Size([32, 36]) torch.Size([32, 36])\n",
      "torch.Size([32, 52]) torch.Size([32, 52])\n"
     ]
    }
   ],
   "source": [
    "train_loader = torch.utils.data.DataLoader(dataset[\"train\"], batch_size=32, collate_fn=collate_fn)\n",
    "val_loader = torch.utils.data.DataLoader(dataset[\"validation\"], batch_size=32, collate_fn=collate_fn)\n",
    "test_loader = torch.utils.data.DataLoader(dataset[\"test\"], batch_size=32, collate_fn=collate_fn)\n",
    "\n",
    "for batch in islice(train_loader, 10):\n",
    "    print(batch[\"input_ids\"].shape, batch[\"labels\"].shape)"
   ]
  },
  {
   "cell_type": "markdown",
   "metadata": {},
   "source": [
    "# Model training"
   ]
  },
  {
   "cell_type": "code",
   "execution_count": 24,
   "metadata": {},
   "outputs": [
    {
     "name": "stdout",
     "output_type": "stream",
     "text": [
      "Epoch 1, Train Loss: 1.6165, Val Loss: 1.2478\n",
      "Epoch 2, Train Loss: 1.0419, Val Loss: 0.8364\n",
      "Epoch 3, Train Loss: 0.7021, Val Loss: 0.5678\n",
      "Epoch 4, Train Loss: 0.4862, Val Loss: 0.4030\n",
      "Epoch 5, Train Loss: 0.3553, Val Loss: 0.3040\n",
      "Epoch 6, Train Loss: 0.2759, Val Loss: 0.2433\n",
      "Epoch 7, Train Loss: 0.2261, Val Loss: 0.2045\n",
      "Epoch 8, Train Loss: 0.1935, Val Loss: 0.1788\n",
      "Epoch 9, Train Loss: 0.1714, Val Loss: 0.1612\n",
      "Epoch 10, Train Loss: 0.1559, Val Loss: 0.1488\n",
      "Epoch 11, Train Loss: 0.1448, Val Loss: 0.1398\n",
      "Epoch 12, Train Loss: 0.1366, Val Loss: 0.1333\n",
      "Epoch 13, Train Loss: 0.1306, Val Loss: 0.1285\n",
      "Epoch 14, Train Loss: 0.1260, Val Loss: 0.1249\n",
      "Epoch 15, Train Loss: 0.1225, Val Loss: 0.1222\n",
      "Epoch 16, Train Loss: 0.1198, Val Loss: 0.1202\n",
      "Epoch 17, Train Loss: 0.1177, Val Loss: 0.1187\n",
      "Epoch 18, Train Loss: 0.1161, Val Loss: 0.1175\n",
      "Epoch 19, Train Loss: 0.1149, Val Loss: 0.1166\n",
      "Epoch 20, Train Loss: 0.1139, Val Loss: 0.1160\n"
     ]
    }
   ],
   "source": [
    "class NERClassifier(torch.nn.Module):\n",
    "    def __init__(self, embed_dim: int, tags: list[str]):\n",
    "        super().__init__()\n",
    "        self.tags = tags\n",
    "        self.embedding = torch.nn.Embedding.from_pretrained(torch.tensor(word2vec_model.vectors))\n",
    "        self.linear = torch.nn.Linear(embed_dim, len(self.tags))\n",
    "\n",
    "    def forward(self, x):\n",
    "        x = self.embedding(x)\n",
    "        x = self.linear(x)\n",
    "        return x\n",
    "    \n",
    "    # See: https://pytorch.org/docs/stable/notes/autograd.html#locally-disable-grad-doc\n",
    "    @torch.inference_mode\n",
    "    def predict(self, input_text):\n",
    "        words = re.split(\"\\s+\", re.sub(r'[\\(\\)\\[\\]\\?\"“]', \"\", input_text))\n",
    "        tokens = tokenize(words, lower=False)\n",
    "        input_ids = torch.tensor([tokens]).to(self.embedding.weight.device)\n",
    "        outputs = self(input_ids)\n",
    "        preds = torch.argmax(outputs, dim=-1)\n",
    "        labels = [self.tags[x.item()] for x in preds[0]]\n",
    "        return dict(zip(words, labels))\n",
    "\n",
    "\n",
    "# vocab_size = len(word2vec_model.key_to_index)\n",
    "embed_dim = 300\n",
    "num_tags = len(label_names)\n",
    "\n",
    "device = torch.device(\"cuda\")\n",
    "\n",
    "model = NERClassifier(embed_dim, label_names).to(device)\n",
    "criterion = torch.nn.CrossEntropyLoss()\n",
    "# Adam has many hyperparameters - play with it!\n",
    "# Try other optimizers as well!\n",
    "optimizer = torch.optim.Adam(model.parameters())\n",
    "\n",
    "# Train the model\n",
    "# NOTE: always track the validation accuracy to see when it diverges from the training accuracy!\n",
    "# This is a sign of overfitting!\n",
    "num_epochs = 20\n",
    "for epoch in range(num_epochs):\n",
    "    train_loss = 0\n",
    "    model.train()\n",
    "    for batch in train_loader:\n",
    "        input_ids = batch[\"input_ids\"].view(-1).to(device)\n",
    "        labels = batch[\"labels\"].view(-1).to(device)\n",
    "        optimizer.zero_grad()\n",
    "        outputs = model(input_ids)\n",
    "        loss = criterion(outputs.view(-1, num_tags), labels.view(-1))\n",
    "        # loss must be a scalar for loss.backward() to work!\n",
    "        loss.backward()\n",
    "        optimizer.step()\n",
    "        train_loss += loss.item()\n",
    "\n",
    "    val_loss = 0\n",
    "    model.eval()\n",
    "    with torch.inference_mode():\n",
    "        for batch in val_loader:\n",
    "            input_ids = batch[\"input_ids\"].to(device)\n",
    "            labels = batch[\"labels\"].to(device)\n",
    "            outputs = model(input_ids.to(device))\n",
    "            loss = criterion(outputs.view(-1, num_tags), labels.view(-1))\n",
    "            val_loss += loss.item()\n",
    "    print(f\"Epoch {epoch+1}, Train Loss: {train_loss / len(train_loader):.4f}, Val Loss: {val_loss / len(val_loader):.4f}\")"
   ]
  },
  {
   "cell_type": "markdown",
   "metadata": {},
   "source": [
    "[torch.nn.CrossEntropyLoss](https://pytorch.org/docs/stable/generated/torch.nn.CrossEntropyLoss.html) does `softmax` for you:\n",
    "\n",
    "> The input is expected to contain the unnormalized logits for each class (which do not need to be positive or sum to 1, in general)."
   ]
  },
  {
   "cell_type": "code",
   "execution_count": 25,
   "metadata": {},
   "outputs": [
    {
     "name": "stdout",
     "output_type": "stream",
     "text": [
      "              precision    recall  f1-score   support\n",
      "\n",
      "           O       0.98      0.99      0.99     29346\n",
      "       B-PER       0.78      0.75      0.76      1780\n",
      "       I-PER       0.62      0.65      0.63      1133\n",
      "       B-ORG       0.65      0.70      0.67      1297\n",
      "       I-ORG       0.56      0.42      0.48       664\n",
      "       B-LOC       0.85      0.80      0.83      1795\n",
      "       I-LOC       0.67      0.48      0.56       244\n",
      "      B-MISC       0.81      0.75      0.78       864\n",
      "      I-MISC       0.76      0.53      0.63       304\n",
      "\n",
      "    accuracy                           0.93     37427\n",
      "   macro avg       0.74      0.67      0.70     37427\n",
      "weighted avg       0.93      0.93      0.93     37427\n",
      "\n"
     ]
    },
    {
     "data": {
      "image/png": "[encoded data removed]",
      "text/plain": [
       "<Figure size 1000x1000 with 2 Axes>"
      ]
     },
     "metadata": {},
     "output_type": "display_data"
    }
   ],
   "source": [
    "from sklearn.metrics import classification_report, confusion_matrix\n",
    "import matplotlib.pyplot as plt\n",
    "import seaborn as sns\n",
    "\n",
    "\n",
    "val_preds = []\n",
    "val_labels = []\n",
    "model.eval()\n",
    "for batch in val_loader:\n",
    "    with torch.inference_mode():\n",
    "        input_ids = batch[\"input_ids\"]\n",
    "        labels = batch[\"labels\"]\n",
    "        outputs = model(input_ids.to(device)).to(\"cpu\")\n",
    "\n",
    "        # outpus shape: (batch_size, seq_len, num_tags)\n",
    "        # Contains log probabilities for each tag. We need to take the tag with the highest probability.\n",
    "        # preds shape: (batch_size, seq_len)\n",
    "        preds = torch.argmax(outputs, dim=-1)\n",
    "\n",
    "        assert preds.shape == input_ids.shape\n",
    "        assert preds.shape == labels.shape\n",
    "        # Remove unknown words and padding\n",
    "        flat_inputs = input_ids.view(-1)\n",
    "        flat_preds = preds.view(-1)\n",
    "        flat_labels = labels.view(-1)\n",
    "        flat_preds = [pred for pred, input_id in zip(flat_preds, flat_inputs) if input_id != 0]\n",
    "        flat_labels = [label for label, input_id in zip(flat_labels, flat_inputs) if input_id != 0]\n",
    "\n",
    "        val_preds.extend(flat_preds)\n",
    "        val_labels.extend(flat_labels)\n",
    "\n",
    "# Confusion Matrix and Classification Report\n",
    "print(classification_report(val_labels, val_preds, target_names=label_names))\n",
    "conf_mat = confusion_matrix(val_labels, val_preds)\n",
    "fig, ax = plt.subplots(figsize=(10, 10))\n",
    "sns.heatmap(\n",
    "    conf_mat,\n",
    "    xticklabels=label_names,\n",
    "    yticklabels=label_names,\n",
    "    annot=True,\n",
    "    fmt=\"d\",\n",
    "    # Use this to ignore the correct predictions along the diagonal when coloring the confusion matrix\n",
    "    mask=np.eye(len(conf_mat), dtype=bool),\n",
    "    cmap=\"Reds\"\n",
    ")\n",
    "plt.ylabel(\"True\")\n",
    "plt.xlabel(\"Predicted\")\n",
    "plt.title(\"Confusion matrix\")\n",
    "plt.show()"
   ]
  },
  {
   "cell_type": "markdown",
   "metadata": {},
   "source": [
    "# Testing"
   ]
  },
  {
   "cell_type": "code",
   "execution_count": 26,
   "metadata": {},
   "outputs": [
    {
     "data": {
      "text/plain": [
       "{'The': 'O',\n",
       " 'UN': 'B-ORG',\n",
       " 'peacekeeping': 'O',\n",
       " 'mission': 'O',\n",
       " 'UNIFIL': 'B-ORG',\n",
       " 'has': 'O',\n",
       " 'been': 'O',\n",
       " 'operating': 'O',\n",
       " 'along': 'O',\n",
       " 'the': 'O',\n",
       " 'Blue': 'B-ORG',\n",
       " 'Line”': 'O',\n",
       " 'which': 'O',\n",
       " 'separates': 'O',\n",
       " 'Lebanon': 'B-LOC',\n",
       " 'and': 'O',\n",
       " 'Israel': 'B-LOC',\n",
       " 'since': 'O',\n",
       " '1970s,': 'O',\n",
       " 'its': 'O',\n",
       " 'mandate': 'O',\n",
       " 'was': 'O',\n",
       " 'just': 'O',\n",
       " 'renewed': 'O',\n",
       " 'for': 'O',\n",
       " 'another': 'O',\n",
       " 'year': 'O',\n",
       " 'by': 'O',\n",
       " 'Security': 'I-ORG',\n",
       " 'Council.': 'O',\n",
       " 'But': 'O',\n",
       " 'what': 'O',\n",
       " 'is': 'O',\n",
       " 'it': 'O',\n",
       " 'doing': 'O',\n",
       " 'amid': 'O',\n",
       " 'escalating': 'O',\n",
       " 'conflict': 'O',\n",
       " 'between': 'O',\n",
       " 'Hezbollah': 'B-ORG',\n",
       " 'Defense': 'O',\n",
       " 'Forces': 'I-ORG',\n",
       " 'IDF': 'B-ORG'}"
      ]
     },
     "execution_count": 26,
     "metadata": {},
     "output_type": "execute_result"
    }
   ],
   "source": [
    "model.predict(\"\"\"The UN peacekeeping mission UNIFIL has been operating along the “Blue Line” \n",
    "which separates Lebanon and Israel since the 1970s, and its mandate was just renewed for another year \n",
    "by the UN Security Council. But what is UNIFIL and what is it doing amid the escalating conflict \n",
    "between Hezbollah and Israel Defense Forces (IDF)?\"\"\")"
   ]
  },
  {
   "cell_type": "code",
   "execution_count": 27,
   "metadata": {},
   "outputs": [
    {
     "data": {
      "text/plain": [
       "{'Approximately': 'O',\n",
       " '60': 'O',\n",
       " 'percent': 'O',\n",
       " 'of': 'O',\n",
       " 'Austrian': 'B-MISC',\n",
       " 'territory': 'O',\n",
       " 'is': 'O',\n",
       " 'mountainous': 'O',\n",
       " 'and': 'O',\n",
       " 'belongs': 'O',\n",
       " 'to': 'O',\n",
       " 'the': 'O',\n",
       " 'Eastern': 'B-LOC',\n",
       " 'Alps': 'I-ORG',\n",
       " 'Tyrol': 'I-ORG',\n",
       " 'Central': 'B-ORG',\n",
       " 'Alps,': 'O',\n",
       " 'Hohe': 'I-PER',\n",
       " 'Tauern': 'O',\n",
       " 'Niedere': 'I-PER',\n",
       " 'Tauern,': 'O',\n",
       " 'Northern': 'B-ORG',\n",
       " 'Calcareous': 'O',\n",
       " 'or': 'O',\n",
       " 'Limestone': 'B-ORG',\n",
       " 'Southern': 'B-ORG',\n",
       " 'Wienerwald.': 'O',\n",
       " 'The': 'O',\n",
       " 'Bohemian': 'I-ORG',\n",
       " 'Massif': 'I-ORG',\n",
       " 'in': 'O',\n",
       " 'Upper': 'O',\n",
       " 'Lower': 'O',\n",
       " 'Austria,': 'O',\n",
       " 'north': 'O',\n",
       " 'Danube.': 'O'}"
      ]
     },
     "execution_count": 27,
     "metadata": {},
     "output_type": "execute_result"
    }
   ],
   "source": [
    "model.predict(\"\"\"Approximately 60 percent of Austrian territory is mountainous \n",
    "and belongs to the Eastern Alps (Tyrol Central Alps, Hohe Tauern and Niedere Tauern,\n",
    "Northern Calcareous or Limestone Alps, Southern Calcareous Alps and Wienerwald). \n",
    "The Bohemian Massif is in Upper and Lower Austria, north of the Danube.\"\"\")"
   ]
  },
  {
   "cell_type": "code",
   "execution_count": 28,
   "metadata": {},
   "outputs": [
    {
     "data": {
      "text/plain": [
       "{'Schwarzenegger': 'B-PER',\n",
       " 'began': 'O',\n",
       " 'lifting': 'O',\n",
       " 'weights': 'O',\n",
       " 'at': 'O',\n",
       " 'age': 'O',\n",
       " '15': 'O',\n",
       " 'and': 'O',\n",
       " 'won': 'O',\n",
       " 'the': 'O',\n",
       " 'Mr.': 'O',\n",
       " 'Universe': 'I-LOC',\n",
       " 'title': 'O',\n",
       " 'aged': 'O',\n",
       " '20,': 'O',\n",
       " 'subsequently': 'O',\n",
       " 'Olympia': 'B-LOC',\n",
       " 'seven': 'O',\n",
       " 'times.': 'O',\n",
       " 'He': 'O',\n",
       " 'is': 'O',\n",
       " 'tied': 'O',\n",
       " 'with': 'O',\n",
       " 'Phil': 'B-PER',\n",
       " 'Heath': 'B-PER',\n",
       " 'for': 'O',\n",
       " 'joint-second': 'O',\n",
       " 'number': 'O',\n",
       " 'of': 'O',\n",
       " 'all-time': 'O',\n",
       " 'wins,': 'O',\n",
       " 'behind': 'O',\n",
       " 'Ronnie': 'B-PER',\n",
       " 'Coleman': 'I-PER',\n",
       " 'Lee': 'B-PER',\n",
       " 'Haney,': 'O',\n",
       " 'who': 'O',\n",
       " 'are': 'O',\n",
       " 'joint-first': 'O',\n",
       " 'eight': 'O',\n",
       " 'wins': 'O',\n",
       " 'each.': 'O',\n",
       " 'widely': 'O',\n",
       " 'regarded': 'O',\n",
       " 'as': 'O',\n",
       " 'one': 'O',\n",
       " 'of,': 'O',\n",
       " 'if': 'O',\n",
       " 'not': 'O',\n",
       " 'greatest,': 'O',\n",
       " 'bodybuilders': 'O',\n",
       " 'all-time,': 'O',\n",
       " 'has': 'O',\n",
       " 'written': 'O',\n",
       " 'many': 'O',\n",
       " 'books': 'O',\n",
       " 'articles': 'O',\n",
       " 'about': 'O',\n",
       " 'it': 'O'}"
      ]
     },
     "execution_count": 28,
     "metadata": {},
     "output_type": "execute_result"
    }
   ],
   "source": [
    "model.predict(\"\"\"Schwarzenegger began lifting weights at age 15 and won the Mr. Universe title aged 20, \n",
    "and subsequently the Mr. Olympia title seven times. He is tied with Phil Heath for the \n",
    "joint-second number of all-time Mr. Olympia wins, behind Ronnie Coleman and Lee Haney, \n",
    "who are joint-first with eight wins each. He is widely regarded as one of, \n",
    "if not the greatest, bodybuilders of all-time, and has written many books and articles about it\"\"\")"
   ]
  },
  {
   "cell_type": "code",
   "execution_count": null,
   "metadata": {},
   "outputs": [],
   "source": []
  }
 ],
 "metadata": {
  "kernelspec": {
   "display_name": "nlp",
   "language": "python",
   "name": "python3"
  },
  "language_info": {
   "codemirror_mode": {
    "name": "ipython",
    "version": 3
   },
   "file_extension": ".py",
   "mimetype": "text/x-python",
   "name": "python",
   "nbconvert_exporter": "python",
   "pygments_lexer": "ipython3",
   "version": "3.11.10"
  }
 },
 "nbformat": 4,
 "nbformat_minor": 2
}
