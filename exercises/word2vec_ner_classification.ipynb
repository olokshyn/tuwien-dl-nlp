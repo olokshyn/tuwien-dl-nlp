{
 "cells": [
  {
   "cell_type": "code",
   "execution_count": 1,
   "metadata": {},
   "outputs": [],
   "source": [
    "import re\n",
    "import random\n",
    "from itertools import islice\n",
    "import gc\n",
    "\n",
    "import torch\n",
    "import torch.nn.functional as F\n",
    "import numpy as np\n",
    "import datasets\n",
    "import gensim.downloader as api"
   ]
  },
  {
   "cell_type": "code",
   "execution_count": 2,
   "metadata": {},
   "outputs": [],
   "source": [
    "def set_seed(seed: int):\n",
    "    # Set seed for Python's random module\n",
    "    random.seed(seed)\n",
    "    \n",
    "    # Set seed for NumPy\n",
    "    np.random.seed(seed)\n",
    "    \n",
    "    # Set seed for PyTorch\n",
    "    torch.manual_seed(seed)\n",
    "    \n",
    "    # Set seed for CUDA (if using)\n",
    "    if torch.cuda.is_available():\n",
    "        torch.cuda.manual_seed(seed)\n",
    "        torch.cuda.manual_seed_all(seed)  # For multi-GPU setups\n",
    "        \n",
    "    # Make PyTorch deterministic (this can slow down the computation)\n",
    "    torch.backends.cudnn.deterministic = True\n",
    "    torch.backends.cudnn.benchmark = False\n",
    "\n",
    "# Example of usage\n",
    "set_seed(42)\n"
   ]
  },
  {
   "cell_type": "markdown",
   "metadata": {},
   "source": [
    "# Loading Word2Vec model"
   ]
  },
  {
   "cell_type": "code",
   "execution_count": 3,
   "metadata": {},
   "outputs": [
    {
     "name": "stdout",
     "output_type": "stream",
     "text": [
      "dict_keys(['fasttext-wiki-news-subwords-300', 'conceptnet-numberbatch-17-06-300', 'word2vec-ruscorpora-300', 'word2vec-google-news-300', 'glove-wiki-gigaword-50', 'glove-wiki-gigaword-100', 'glove-wiki-gigaword-200', 'glove-wiki-gigaword-300', 'glove-twitter-25', 'glove-twitter-50', 'glove-twitter-100', 'glove-twitter-200', '__testing_word2vec-matrix-synopsis'])\n"
     ]
    }
   ],
   "source": [
    "print(api.info()['models'].keys())\n",
    "\n",
    "word2vec_model = api.load('word2vec-google-news-300')"
   ]
  },
  {
   "cell_type": "markdown",
   "metadata": {},
   "source": [
    "A trained Word2Vec model is just a large collection of multi-dimensional vectors:\n",
    "\n",
    "1. All known words are saved in the vocabulary.\n",
    "1. There is one vector per each word in the vocabulary.\n",
    "1. Vectors must have many dimensions to represent all meaning of a word and relation to other words."
   ]
  },
  {
   "cell_type": "code",
   "execution_count": 4,
   "metadata": {},
   "outputs": [
    {
     "name": "stdout",
     "output_type": "stream",
     "text": [
      "Vocabulary size:\n"
     ]
    },
    {
     "data": {
      "text/plain": [
       "3000000"
      ]
     },
     "execution_count": 4,
     "metadata": {},
     "output_type": "execute_result"
    }
   ],
   "source": [
    "print(\"Vocabulary size:\")\n",
    "len(word2vec_model.key_to_index)"
   ]
  },
  {
   "cell_type": "code",
   "execution_count": 5,
   "metadata": {},
   "outputs": [
    {
     "name": "stdout",
     "output_type": "stream",
     "text": [
      "The model learns a 300-dimensional vector for each word:\n"
     ]
    },
    {
     "data": {
      "text/plain": [
       "(3000000, 300)"
      ]
     },
     "execution_count": 5,
     "metadata": {},
     "output_type": "execute_result"
    }
   ],
   "source": [
    "print(\"The model learns a 300-dimensional vector for each word:\")\n",
    "word2vec_model.vectors.shape"
   ]
  },
  {
   "cell_type": "markdown",
   "metadata": {},
   "source": [
    "# Using Word2Vec Embeddings"
   ]
  },
  {
   "cell_type": "code",
   "execution_count": 6,
   "metadata": {},
   "outputs": [
    {
     "data": {
      "text/plain": [
       "{'</s>': 0,\n",
       " 'in': 1,\n",
       " 'for': 2,\n",
       " 'that': 3,\n",
       " 'is': 4,\n",
       " 'on': 5,\n",
       " '##': 6,\n",
       " 'The': 7,\n",
       " 'with': 8,\n",
       " 'said': 9}"
      ]
     },
     "execution_count": 6,
     "metadata": {},
     "output_type": "execute_result"
    }
   ],
   "source": [
    "dict(islice(word2vec_model.key_to_index.items(), 10))"
   ]
  },
  {
   "cell_type": "code",
   "execution_count": 7,
   "metadata": {},
   "outputs": [
    {
     "data": {
      "text/plain": [
       "(300,)"
      ]
     },
     "execution_count": 7,
     "metadata": {},
     "output_type": "execute_result"
    }
   ],
   "source": [
    "word2vec_model['king'].shape"
   ]
  },
  {
   "cell_type": "markdown",
   "metadata": {},
   "source": [
    "To use Word2Vec model we need an efficient way of finding the representation vector for any given word.\n",
    "\n",
    "[torch.nn.Embedding](https://pytorch.org/docs/stable/generated/torch.nn.Embedding.html) selects a row of the matrix at a given index, very much like indexing in python lists.\n",
    "\n",
    "There is also a fun way of selecting matrix rows using one-hot encoded vectors:\n",
    "1. We need to retrieve a representation for the word \"in\".\n",
    "1. From above we see that the index for \"in\" is 1.\n",
    "1. One-hot 1 and get a 3,000,000-dimensional zero vector with 1 at position 1: [0, 1, 0, 0, ...]\n",
    "1. Now we can use a one-hot encoded vector multiplication with the matrix to retrieve the corresponding row:\n",
    "\n",
    "```\n",
    "[0, 1, 0, 0, ...] @ [\n",
    "    [a11, a12, ..., a1n],\n",
    "    [a21, a22, ..., a2n],\n",
    "    [a31, a32, ..., a3n],\n",
    "    ...\n",
    "    [am1, am2, ..., amn]\n",
    "]\n",
    "=\n",
    "[a21, a22, ..., a2n]\n",
    "```\n",
    "where n = 1,...300 and m=1,...3,000,000\n",
    "\n",
    "Note: if we combine many one-hot encoded vectors as rows then we can fetch representations of many words at once!\n",
    "Note: this is super inefficient since a matrix of one-hot encoded vectors is very sparse."
   ]
  },
  {
   "cell_type": "code",
   "execution_count": 8,
   "metadata": {},
   "outputs": [],
   "source": [
    "embeddings = torch.nn.Embedding.from_pretrained(torch.tensor(word2vec_model.vectors))"
   ]
  },
  {
   "cell_type": "code",
   "execution_count": 9,
   "metadata": {},
   "outputs": [
    {
     "name": "stdout",
     "output_type": "stream",
     "text": [
      "One-hot encoded vector shape: torch.Size([3000000])\n",
      "One-hot encoder vector sums to: tensor(1)\n",
      "Embeddings matrix shape: torch.Size([3000000, 300])\n",
      "Shape of the matrix multiply between the one-hot encoded vector and embeddings: torch.Size([300])\n"
     ]
    }
   ],
   "source": [
    "test_one_hot_vec = F.one_hot(\n",
    "    torch.tensor([word2vec_model.key_to_index[\"king\"]]), num_classes=len(word2vec_model.key_to_index)\n",
    ")[0]\n",
    "print(\"One-hot encoded vector shape:\", test_one_hot_vec.shape)\n",
    "print(\"One-hot encoder vector sums to:\", test_one_hot_vec.sum())\n",
    "print(\"Embeddings matrix shape:\", embeddings.weight.shape)\n",
    "test_vec = test_one_hot_vec.type(torch.float32) @ embeddings.weight\n",
    "print(\"Shape of the matrix multiply between the one-hot encoded vector and embeddings:\", test_vec.shape)\n",
    "assert torch.allclose(test_vec, torch.tensor(word2vec_model[\"king\"]))"
   ]
  },
  {
   "cell_type": "code",
   "execution_count": 10,
   "metadata": {},
   "outputs": [],
   "source": [
    "test_vec2 = embeddings(torch.tensor([word2vec_model.key_to_index[\"king\"]]))\n",
    "assert torch.allclose(test_vec2, torch.tensor(word2vec_model[\"king\"]))\n",
    "assert torch.allclose(test_vec, test_vec2)"
   ]
  },
  {
   "cell_type": "code",
   "execution_count": 11,
   "metadata": {},
   "outputs": [
    {
     "name": "stdout",
     "output_type": "stream",
     "text": [
      "One-hot encoded batch shape: torch.Size([2, 3000000])\n",
      "One-hot encoded batch sums to along rows: tensor([1, 1])\n",
      "Embeddings matrix shape: torch.Size([3000000, 300])\n",
      "Shape of the matrix multiply between the one-hot encoded batch and embeddings: torch.Size([2, 300])\n"
     ]
    }
   ],
   "source": [
    "test_one_hot_batch = F.one_hot(\n",
    "    torch.tensor([word2vec_model.key_to_index[\"student\"], word2vec_model.key_to_index[\"university\"]]),\n",
    "    num_classes=len(word2vec_model.key_to_index),\n",
    ")\n",
    "print(f\"One-hot encoded batch shape:\", test_one_hot_batch.shape)\n",
    "print(f\"One-hot encoded batch sums to along rows:\", test_one_hot_batch.sum(axis=-1))\n",
    "print(\"Embeddings matrix shape:\", embeddings.weight.shape)\n",
    "test_batch = test_one_hot_batch.type(torch.float32) @ embeddings.weight\n",
    "print(\"Shape of the matrix multiply between the one-hot encoded batch and embeddings:\", test_batch.shape)\n",
    "assert torch.allclose(test_batch[0], torch.tensor(word2vec_model[\"student\"]))\n",
    "assert torch.allclose(test_batch[1], torch.tensor(word2vec_model[\"university\"]))"
   ]
  },
  {
   "cell_type": "code",
   "execution_count": 12,
   "metadata": {},
   "outputs": [],
   "source": [
    "test_batch2 = embeddings(\n",
    "    torch.tensor([word2vec_model.key_to_index[\"student\"], word2vec_model.key_to_index[\"university\"]])\n",
    ")\n",
    "assert torch.allclose(test_batch2[0], torch.tensor(word2vec_model[\"student\"]))\n",
    "assert torch.allclose(test_batch2[1], torch.tensor(word2vec_model[\"university\"]))\n",
    "assert torch.allclose(test_batch, test_batch2)"
   ]
  },
  {
   "cell_type": "code",
   "execution_count": 13,
   "metadata": {},
   "outputs": [
    {
     "data": {
      "text/plain": [
       "0"
      ]
     },
     "execution_count": 13,
     "metadata": {},
     "output_type": "execute_result"
    }
   ],
   "source": [
    "del embeddings\n",
    "gc.collect()"
   ]
  },
  {
   "cell_type": "markdown",
   "metadata": {},
   "source": [
    "# Loading the CoNLL-2003 dataset"
   ]
  },
  {
   "cell_type": "code",
   "execution_count": 14,
   "metadata": {},
   "outputs": [
    {
     "name": "stderr",
     "output_type": "stream",
     "text": [
      "/home/olokshyn/anaconda3/envs/nlp/lib/python3.11/site-packages/datasets/load.py:1486: FutureWarning: The repository for conll2003 contains custom code which must be executed to correctly load the dataset. You can inspect the repository content at https://hf.co/datasets/conll2003\n",
      "You can avoid this message in future by passing the argument `trust_remote_code=True`.\n",
      "Passing `trust_remote_code=True` will be mandatory to load this dataset from the next major release of `datasets`.\n",
      "  warnings.warn(\n"
     ]
    },
    {
     "data": {
      "text/plain": [
       "{'id': '0',\n",
       " 'tokens': ['EU',\n",
       "  'rejects',\n",
       "  'German',\n",
       "  'call',\n",
       "  'to',\n",
       "  'boycott',\n",
       "  'British',\n",
       "  'lamb',\n",
       "  '.'],\n",
       " 'pos_tags': [22, 42, 16, 21, 35, 37, 16, 21, 7],\n",
       " 'chunk_tags': [11, 21, 11, 12, 21, 22, 11, 12, 0],\n",
       " 'ner_tags': [3, 0, 7, 0, 0, 0, 7, 0, 0]}"
      ]
     },
     "execution_count": 14,
     "metadata": {},
     "output_type": "execute_result"
    }
   ],
   "source": [
    "dataset = datasets.load_dataset(\"conll2003\")\n",
    "label_names = dataset[\"train\"].features[\"ner_tags\"].feature.names\n",
    "# ner_tags = {\"O\": 0, \"B-PER\": 1, \"I-PER\": 2, \"B-ORG\": 3, \"I-ORG\": 4, \"B-LOC\": 5, \"I-LOC\": 6, \"B-MISC\": 7, \"I-MISC\": 8}\n",
    "# assert {x: i for i, x in enumerate(label_names)} == ner_tags\n",
    "dataset[\"train\"][0]"
   ]
  },
  {
   "cell_type": "code",
   "execution_count": 15,
   "metadata": {},
   "outputs": [
    {
     "data": {
      "text/plain": [
       "{'id': ['0', '1', '2'],\n",
       " 'tokens': [['EU',\n",
       "   'rejects',\n",
       "   'German',\n",
       "   'call',\n",
       "   'to',\n",
       "   'boycott',\n",
       "   'British',\n",
       "   'lamb',\n",
       "   '.'],\n",
       "  ['Peter', 'Blackburn'],\n",
       "  ['BRUSSELS', '1996-08-22']],\n",
       " 'pos_tags': [[22, 42, 16, 21, 35, 37, 16, 21, 7], [22, 22], [22, 11]],\n",
       " 'chunk_tags': [[11, 21, 11, 12, 21, 22, 11, 12, 0], [11, 12], [11, 12]],\n",
       " 'ner_tags': [[3, 0, 7, 0, 0, 0, 7, 0, 0], [1, 2], [5, 0]]}"
      ]
     },
     "execution_count": 15,
     "metadata": {},
     "output_type": "execute_result"
    }
   ],
   "source": [
    "examples = dataset[\"train\"][:3]\n",
    "examples"
   ]
  },
  {
   "cell_type": "code",
   "execution_count": 16,
   "metadata": {},
   "outputs": [
    {
     "name": "stdout",
     "output_type": "stream",
     "text": [
      "KeyError: 'yappie'\n"
     ]
    }
   ],
   "source": [
    "try:\n",
    "    # When a word is not in the vocabulary, it throws KeyError\n",
    "    word2vec_model.key_to_index['yappie']\n",
    "except KeyError as e:\n",
    "    print(f\"KeyError: {e}\")"
   ]
  },
  {
   "cell_type": "code",
   "execution_count": 17,
   "metadata": {},
   "outputs": [
    {
     "data": {
      "text/plain": [
       "0"
      ]
     },
     "execution_count": 17,
     "metadata": {},
     "output_type": "execute_result"
    }
   ],
   "source": [
    "# We should use .get() instead of [key] to handle missing keys\n",
    "word2vec_model.key_to_index.get('yappie', 0)"
   ]
  },
  {
   "cell_type": "code",
   "execution_count": 18,
   "metadata": {},
   "outputs": [
    {
     "name": "stdout",
     "output_type": "stream",
     "text": [
      "KeyError: 'to'\n"
     ]
    }
   ],
   "source": [
    "try:\n",
    "    # Some very frequent words are removed from the vocabulary\n",
    "    word2vec_model.key_to_index['to']\n",
    "except KeyError as e:\n",
    "    print(f\"KeyError: {e}\")"
   ]
  },
  {
   "cell_type": "code",
   "execution_count": 19,
   "metadata": {},
   "outputs": [
    {
     "name": "stdout",
     "output_type": "stream",
     "text": [
      "[9, 2, 2]\n"
     ]
    },
    {
     "data": {
      "text/plain": [
       "[{'input_ids': [1611, 11500, 1760, 315, 0, 8059, 882, 18927, 0, 0],\n",
       "  'attention_mask': [1, 1, 1, 1, 1, 1, 1, 1, 1, 0],\n",
       "  'labels': [3, 0, 7, 0, 0, 0, 7, 0, 0, 0]},\n",
       " {'input_ids': [1918, 9039, 0, 0, 0, 0, 0, 0, 0, 0],\n",
       "  'attention_mask': [1, 1, 0, 0, 0, 0, 0, 0, 0, 0],\n",
       "  'labels': [1, 2, 0, 0, 0, 0, 0, 0, 0, 0]},\n",
       " {'input_ids': [24412, 0, 0, 0, 0, 0, 0, 0, 0, 0],\n",
       "  'attention_mask': [1, 1, 0, 0, 0, 0, 0, 0, 0, 0],\n",
       "  'labels': [5, 0, 0, 0, 0, 0, 0, 0, 0, 0]}]"
      ]
     },
     "execution_count": 19,
     "metadata": {},
     "output_type": "execute_result"
    }
   ],
   "source": [
    "def tokenize(\n",
    "    tokens: list[str],\n",
    "    labels: list[str] | None = None,\n",
    "    *,\n",
    "    pad_to_length: int | None = None,\n",
    "    truncate: int | None = None,\n",
    ") -> list[int]:\n",
    "    ids = [word2vec_model.key_to_index.get(token, 0) for token in tokens]\n",
    "    if truncate:\n",
    "        ids = ids[:truncate]\n",
    "        if labels:\n",
    "            labels = labels[:truncate]\n",
    "    attention_mask = [1] * len(ids)\n",
    "    if pad_to_length and len(ids) < pad_to_length:\n",
    "        target_len = min(pad_to_length, truncate or pad_to_length)\n",
    "        num_to_pad = target_len - len(ids)\n",
    "        ids = ids + [0] * num_to_pad\n",
    "        attention_mask = attention_mask + [0] * num_to_pad\n",
    "        if labels:\n",
    "            labels = labels + [0] * num_to_pad\n",
    "    return {\"input_ids\": ids, \"attention_mask\": attention_mask, \"labels\": labels}\n",
    "\n",
    "print([len(tokens) for tokens in examples[\"tokens\"]])\n",
    "\n",
    "[tokenize(x, labels, pad_to_length=10, truncate=20) for x, labels in zip(examples[\"tokens\"], examples[\"ner_tags\"])]"
   ]
  },
  {
   "cell_type": "code",
   "execution_count": 20,
   "metadata": {},
   "outputs": [
    {
     "data": {
      "text/plain": [
       "[{'id': '0',\n",
       "  'tokens': ['EU',\n",
       "   'rejects',\n",
       "   'German',\n",
       "   'call',\n",
       "   'to',\n",
       "   'boycott',\n",
       "   'British',\n",
       "   'lamb',\n",
       "   '.'],\n",
       "  'pos_tags': [22, 42, 16, 21, 35, 37, 16, 21, 7],\n",
       "  'chunk_tags': [11, 21, 11, 12, 21, 22, 11, 12, 0],\n",
       "  'ner_tags': [3, 0, 7, 0, 0, 0, 7, 0, 0]},\n",
       " {'id': '1',\n",
       "  'tokens': ['Peter', 'Blackburn'],\n",
       "  'pos_tags': [22, 22],\n",
       "  'chunk_tags': [11, 12],\n",
       "  'ner_tags': [1, 2]}]"
      ]
     },
     "execution_count": 20,
     "metadata": {},
     "output_type": "execute_result"
    }
   ],
   "source": [
    "test_batch_size = 20\n",
    "test_data_subset = list(islice(iter(dataset[\"train\"]), test_batch_size))\n",
    "test_data_subset[:2]"
   ]
  },
  {
   "cell_type": "code",
   "execution_count": 21,
   "metadata": {},
   "outputs": [
    {
     "name": "stdout",
     "output_type": "stream",
     "text": [
      "Using device: cuda\n"
     ]
    }
   ],
   "source": [
    "device = torch.device(\"cpu\")\n",
    "if torch.cuda.is_available():\n",
    "    device = torch.device(\"cuda\")\n",
    "elif torch.backends.mps.is_available():\n",
    "    device = torch.device(\"mps\")\n",
    "\n",
    "print(f\"Using device: {device}\")"
   ]
  },
  {
   "cell_type": "code",
   "execution_count": 22,
   "metadata": {},
   "outputs": [
    {
     "name": "stdout",
     "output_type": "stream",
     "text": [
      "input shape: torch.Size([20, 40])\n",
      "labels shape: torch.Size([20, 40])\n",
      "tensor([ 1611, 11500,  1760,   315,     0,  8059,   882, 18927,     0,     0,\n",
      "            0,     0,     0,     0,     0,     0,     0,     0,     0,     0,\n",
      "            0,     0,     0,     0,     0,     0,     0,     0,     0,     0,\n",
      "            0,     0,     0,     0,     0,     0,     0,     0,     0,     0],\n",
      "       device='cuda:0')\n",
      "[1611, 11500, 1760, 315, 0, 8059, 882, 18927, 0]\n",
      "tensor([3, 0, 7, 0, 0, 0, 7, 0, 0, 0, 0, 0, 0, 0, 0, 0, 0, 0, 0, 0, 0, 0, 0, 0,\n",
      "        0, 0, 0, 0, 0, 0, 0, 0, 0, 0, 0, 0, 0, 0, 0, 0], device='cuda:0')\n",
      "[3, 0, 7, 0, 0, 0, 7, 0, 0]\n",
      "tensor([1, 1, 1, 1, 1, 1, 1, 1, 1, 0, 0, 0, 0, 0, 0, 0, 0, 0, 0, 0, 0, 0, 0, 0,\n",
      "        0, 0, 0, 0, 0, 0, 0, 0, 0, 0, 0, 0, 0, 0, 0, 0], device='cuda:0',\n",
      "       dtype=torch.int16)\n"
     ]
    }
   ],
   "source": [
    "def collate_fn(examples: list[dict]):\n",
    "    max_size = max(len(x[\"tokens\"]) for x in examples)\n",
    "    tokenized = [tokenize(x[\"tokens\"], x[\"ner_tags\"], pad_to_length=max_size) for x in examples]\n",
    "    input_ids = torch.tensor([x[\"input_ids\"] for x in tokenized], device=device)\n",
    "    attention_mask = torch.tensor([x[\"attention_mask\"] for x in tokenized], dtype=torch.int16, device=device)\n",
    "    labels = torch.tensor([x[\"labels\"] for x in tokenized], dtype=torch.int64, device=device)\n",
    "    return {\"input_ids\":input_ids, \"labels\": labels, \"attention_mask\": attention_mask}\n",
    "\n",
    "\n",
    "test_batch = collate_fn(test_data_subset)\n",
    "print(\"input shape:\", test_batch[\"input_ids\"].shape)\n",
    "print(\"labels shape:\", test_batch[\"labels\"].shape)\n",
    "max_size = max(len(x[\"tokens\"]) for x in test_data_subset)\n",
    "assert test_batch[\"input_ids\"].shape == (test_batch_size, max_size)\n",
    "assert test_batch[\"labels\"].shape == (test_batch_size, max_size)\n",
    "print(test_batch[\"input_ids\"][0])\n",
    "print([word2vec_model.key_to_index.get(x, 0) for x in dataset[\"train\"][0][\"tokens\"]])\n",
    "print(test_batch[\"labels\"][0])\n",
    "print(dataset[\"train\"][0][\"ner_tags\"])\n",
    "print(test_batch[\"attention_mask\"][0])"
   ]
  },
  {
   "cell_type": "code",
   "execution_count": 23,
   "metadata": {},
   "outputs": [
    {
     "name": "stdout",
     "output_type": "stream",
     "text": [
      "torch.Size([32, 47]) torch.Size([32, 47])\n",
      "torch.Size([32, 44]) torch.Size([32, 44])\n",
      "torch.Size([32, 16]) torch.Size([32, 16])\n",
      "torch.Size([32, 46]) torch.Size([32, 46])\n",
      "torch.Size([32, 40]) torch.Size([32, 40])\n",
      "torch.Size([32, 44]) torch.Size([32, 44])\n",
      "torch.Size([32, 37]) torch.Size([32, 37])\n",
      "torch.Size([32, 39]) torch.Size([32, 39])\n",
      "torch.Size([32, 36]) torch.Size([32, 36])\n",
      "torch.Size([32, 52]) torch.Size([32, 52])\n"
     ]
    }
   ],
   "source": [
    "# Reduce this if you run out of GPU memory\n",
    "batch_size = 32\n",
    "\n",
    "train_loader = torch.utils.data.DataLoader(dataset[\"train\"], batch_size=batch_size, collate_fn=collate_fn)\n",
    "val_loader = torch.utils.data.DataLoader(dataset[\"validation\"], batch_size=batch_size, collate_fn=collate_fn)\n",
    "test_loader = torch.utils.data.DataLoader(dataset[\"test\"], batch_size=batch_size, collate_fn=collate_fn)\n",
    "\n",
    "for batch in islice(train_loader, 10):\n",
    "    print(batch[\"input_ids\"].shape, batch[\"labels\"].shape)"
   ]
  },
  {
   "cell_type": "markdown",
   "metadata": {},
   "source": [
    "# Model training"
   ]
  },
  {
   "cell_type": "code",
   "execution_count": 24,
   "metadata": {},
   "outputs": [
    {
     "name": "stdout",
     "output_type": "stream",
     "text": [
      "Epoch 1, Train Loss: 1.8103, Val Loss: 1.6384\n",
      "Epoch 2, Train Loss: 1.5977, Val Loss: 1.5418\n",
      "Epoch 3, Train Loss: 1.5209, Val Loss: 1.4842\n",
      "Epoch 4, Train Loss: 1.4700, Val Loss: 1.4446\n",
      "Epoch 5, Train Loss: 1.4346, Val Loss: 1.4175\n",
      "Epoch 6, Train Loss: 1.4104, Val Loss: 1.3993\n",
      "Epoch 7, Train Loss: 1.3940, Val Loss: 1.3871\n",
      "Epoch 8, Train Loss: 1.3827, Val Loss: 1.3788\n",
      "Epoch 9, Train Loss: 1.3749, Val Loss: 1.3731\n",
      "Epoch 10, Train Loss: 1.3693, Val Loss: 1.3691\n",
      "Epoch 11, Train Loss: 1.3653, Val Loss: 1.3663\n",
      "Epoch 12, Train Loss: 1.3623, Val Loss: 1.3642\n",
      "Epoch 13, Train Loss: 1.3600, Val Loss: 1.3627\n",
      "Epoch 14, Train Loss: 1.3583, Val Loss: 1.3616\n",
      "Epoch 15, Train Loss: 1.3570, Val Loss: 1.3607\n",
      "Epoch 16, Train Loss: 1.3559, Val Loss: 1.3601\n",
      "Epoch 17, Train Loss: 1.3550, Val Loss: 1.3596\n",
      "Epoch 18, Train Loss: 1.3543, Val Loss: 1.3592\n",
      "Epoch 19, Train Loss: 1.3537, Val Loss: 1.3589\n",
      "Epoch 20, Train Loss: 1.3532, Val Loss: 1.3586\n"
     ]
    }
   ],
   "source": [
    "class NERClassifier(torch.nn.Module):\n",
    "    def __init__(self, embed_dim: int, tags: list[str]):\n",
    "        super().__init__()\n",
    "        self.tags = tags\n",
    "        self.embedding = torch.nn.Embedding.from_pretrained(torch.tensor(word2vec_model.vectors))\n",
    "        self.linear = torch.nn.Linear(embed_dim, len(self.tags))\n",
    "\n",
    "    def forward(self, x):\n",
    "        x = self.embedding(x)\n",
    "        x = self.linear(x)\n",
    "        return x\n",
    "    \n",
    "    # See: https://pytorch.org/docs/stable/notes/autograd.html#locally-disable-grad-doc\n",
    "    @torch.inference_mode\n",
    "    def predict(self, input_text):\n",
    "        words = re.split(\"\\s+\", re.sub(r'[\\(\\)\\[\\]\\?\"“]', \"\", input_text))\n",
    "        tokens = tokenize(words)[\"input_ids\"]\n",
    "        input_ids = torch.tensor([tokens], device=self.embedding.weight.device)\n",
    "        outputs = self(input_ids)\n",
    "        preds = torch.argmax(outputs, dim=-1)\n",
    "        labels = [self.tags[x.item()] for x in preds[0]]\n",
    "        return dict(zip(words, labels))\n",
    "\n",
    "\n",
    "embed_dim = word2vec_model.vectors.shape[1]\n",
    "assert embed_dim == 300\n",
    "\n",
    "model = NERClassifier(embed_dim, label_names).to(device)\n",
    "criterion = torch.nn.CrossEntropyLoss()\n",
    "# Adam has many hyperparameters - play with it!\n",
    "# Try other optimizers as well!\n",
    "optimizer = torch.optim.Adam(model.parameters())\n",
    "\n",
    "# Train the model\n",
    "# NOTE: always track the validation accuracy to see when it diverges from the training accuracy!\n",
    "# This is a sign of overfitting!\n",
    "num_epochs = 20\n",
    "for epoch in range(num_epochs):\n",
    "    train_loss = 0\n",
    "    model.train()\n",
    "    for batch in train_loader:\n",
    "        input_ids = batch[\"input_ids\"]\n",
    "        labels = batch[\"labels\"]\n",
    "        attention_mask = batch[\"attention_mask\"]\n",
    "        optimizer.zero_grad()\n",
    "        outputs = model(input_ids)\n",
    "        outputs = outputs * attention_mask.unsqueeze(-1)\n",
    "        loss = criterion(outputs.reshape(-1, len(label_names)), labels.reshape(-1))\n",
    "        # loss must be a scalar for loss.backward() to work!\n",
    "        loss.backward()\n",
    "        optimizer.step()\n",
    "        train_loss += loss.item()\n",
    "\n",
    "    val_loss = 0\n",
    "    model.eval()\n",
    "    with torch.inference_mode():\n",
    "        for batch in val_loader:\n",
    "            input_ids = batch[\"input_ids\"]\n",
    "            labels = batch[\"labels\"]\n",
    "            attention_mask = batch[\"attention_mask\"]\n",
    "            outputs = model(input_ids)\n",
    "            outputs = outputs * attention_mask.unsqueeze(-1)\n",
    "            loss = criterion(outputs.reshape(-1, len(label_names)), labels.reshape(-1))\n",
    "            val_loss += loss.item()\n",
    "    print(f\"Epoch {epoch+1}, Train Loss: {train_loss / len(train_loader):.4f}, Val Loss: {val_loss / len(val_loader):.4f}\")"
   ]
  },
  {
   "cell_type": "markdown",
   "metadata": {},
   "source": [
    "[torch.nn.CrossEntropyLoss](https://pytorch.org/docs/stable/generated/torch.nn.CrossEntropyLoss.html) does `softmax` for you:\n",
    "\n",
    "> The input is expected to contain the unnormalized logits for each class (which do not need to be positive or sum to 1, in general)."
   ]
  },
  {
   "cell_type": "code",
   "execution_count": 25,
   "metadata": {},
   "outputs": [
    {
     "name": "stdout",
     "output_type": "stream",
     "text": [
      "              precision    recall  f1-score   support\n",
      "\n",
      "           O       0.98      0.99      0.99     29346\n",
      "       B-PER       0.78      0.75      0.76      1780\n",
      "       I-PER       0.62      0.66      0.64      1133\n",
      "       B-ORG       0.65      0.70      0.68      1297\n",
      "       I-ORG       0.56      0.44      0.49       664\n",
      "       B-LOC       0.86      0.80      0.83      1795\n",
      "       I-LOC       0.69      0.41      0.51       244\n",
      "      B-MISC       0.81      0.74      0.77       864\n",
      "      I-MISC       0.77      0.53      0.63       304\n",
      "\n",
      "    accuracy                           0.93     37427\n",
      "   macro avg       0.75      0.67      0.70     37427\n",
      "weighted avg       0.93      0.93      0.93     37427\n",
      "\n"
     ]
    },
    {
     "data": {
      "image/png": "[encoded data removed]",
      "text/plain": [
       "<Figure size 1000x1000 with 2 Axes>"
      ]
     },
     "metadata": {},
     "output_type": "display_data"
    }
   ],
   "source": [
    "from sklearn.metrics import classification_report, confusion_matrix\n",
    "import matplotlib.pyplot as plt\n",
    "import seaborn as sns\n",
    "\n",
    "\n",
    "val_preds = []\n",
    "val_labels = []\n",
    "model.eval()\n",
    "with torch.inference_mode():\n",
    "    for batch in val_loader:\n",
    "        input_ids = batch[\"input_ids\"]\n",
    "        labels = batch[\"labels\"]\n",
    "        attention_mask = batch[\"attention_mask\"]\n",
    "        outputs = model(input_ids)\n",
    "\n",
    "        # outpus shape: (batch_size, seq_len, num_tags)\n",
    "        # Contains log probabilities for each tag. We need to take the tag with the highest probability.\n",
    "        # preds shape: (batch_size, seq_len)\n",
    "        preds = torch.argmax(outputs, dim=-1)\n",
    "        # Make sure that padding gets the 'O' tag for which index is 0.\n",
    "        # This can be simplified to just preds *= attention_mask, but below words for non-zero indexes (for future).\n",
    "        preds = preds * attention_mask + (1 - attention_mask) * 0\n",
    "\n",
    "        assert preds.shape == input_ids.shape\n",
    "        assert preds.shape == labels.shape\n",
    "        # Remove unknown words and padding\n",
    "        flat_inputs = input_ids.view(-1).cpu()\n",
    "        flat_preds = preds.view(-1).cpu()\n",
    "        flat_labels = labels.view(-1).cpu()\n",
    "        flat_preds = [pred.item() for pred, input_id in zip(flat_preds, flat_inputs) if input_id != 0]\n",
    "        flat_labels = [label.item() for label, input_id in zip(flat_labels, flat_inputs) if input_id != 0]\n",
    "\n",
    "        val_preds.extend(flat_preds)\n",
    "        val_labels.extend(flat_labels)\n",
    "\n",
    "# Confusion Matrix and Classification Report\n",
    "print(classification_report(val_labels, val_preds, target_names=label_names))\n",
    "conf_mat = confusion_matrix(val_labels, val_preds)\n",
    "fig, ax = plt.subplots(figsize=(10, 10))\n",
    "sns.heatmap(\n",
    "    conf_mat,\n",
    "    xticklabels=label_names,\n",
    "    yticklabels=label_names,\n",
    "    annot=True,\n",
    "    fmt=\"d\",\n",
    "    # Use this to ignore the correct predictions along the diagonal when coloring the confusion matrix\n",
    "    mask=np.eye(len(conf_mat), dtype=bool),\n",
    "    cmap=\"Reds\"\n",
    ")\n",
    "plt.ylabel(\"True\")\n",
    "plt.xlabel(\"Predicted\")\n",
    "plt.title(\"Confusion matrix\")\n",
    "plt.show()"
   ]
  },
  {
   "cell_type": "markdown",
   "metadata": {},
   "source": [
    "# Testing"
   ]
  },
  {
   "cell_type": "code",
   "execution_count": 26,
   "metadata": {},
   "outputs": [
    {
     "data": {
      "text/plain": [
       "{'Apple': 'B-ORG',\n",
       " 'collaborates': 'O',\n",
       " 'with': 'O',\n",
       " 'healthcare': 'O',\n",
       " 'organizations': 'O',\n",
       " 'worldwide,': 'O',\n",
       " 'including': 'O',\n",
       " 'a': 'O',\n",
       " 'significant': 'O',\n",
       " 'partnership': 'O',\n",
       " 'Stanford': 'B-ORG',\n",
       " 'University': 'O',\n",
       " 'on': 'O',\n",
       " 'the': 'O',\n",
       " 'Heart': 'B-MISC',\n",
       " 'Study,': 'O',\n",
       " 'which': 'O',\n",
       " 'uses': 'O',\n",
       " 'Watch': 'O',\n",
       " 'to': 'O',\n",
       " 'detect': 'O',\n",
       " 'irregular': 'O',\n",
       " 'heart': 'O',\n",
       " 'rhythms,': 'O',\n",
       " 'helping': 'O',\n",
       " 'users': 'O',\n",
       " 'catch': 'O',\n",
       " 'early': 'O',\n",
       " 'signs': 'O',\n",
       " 'of': 'O',\n",
       " 'atrial': 'O',\n",
       " 'fibrillation.': 'O',\n",
       " 'This': 'O',\n",
       " 'collaboration': 'O',\n",
       " 'is': 'O',\n",
       " 'among': 'O',\n",
       " 'largest': 'O',\n",
       " 'virtual': 'O',\n",
       " 'cardiac': 'O',\n",
       " 'studies': 'O',\n",
       " 'globally.': 'O',\n",
       " 'Apple,': 'O',\n",
       " 'co-founded': 'O',\n",
       " 'by': 'O',\n",
       " 'Steve': 'B-PER',\n",
       " 'Jobs,': 'O',\n",
       " 'has': 'O',\n",
       " 'teamed': 'O',\n",
       " 'up': 'O',\n",
       " 'Singapore’s': 'O',\n",
       " 'Health': 'O',\n",
       " 'Promotion': 'I-ORG',\n",
       " 'Board': 'I-ORG',\n",
       " 'for': 'O',\n",
       " 'LumiHealth': 'O',\n",
       " 'initiative,': 'O',\n",
       " 'wellness': 'O',\n",
       " 'program': 'O',\n",
       " 'encouraging': 'O',\n",
       " 'in': 'O',\n",
       " 'Singapore': 'B-LOC',\n",
       " 'adopt': 'O',\n",
       " 'healthier': 'O',\n",
       " 'lifestyle': 'O',\n",
       " 'habits': 'O',\n",
       " 'through': 'O',\n",
       " 'personalized': 'O',\n",
       " 'reminders': 'O',\n",
       " 'and': 'O',\n",
       " 'incentives.': 'O',\n",
       " '': 'O'}"
      ]
     },
     "execution_count": 26,
     "metadata": {},
     "output_type": "execute_result"
    }
   ],
   "source": [
    "model.predict(\"\"\"Apple collaborates with healthcare organizations worldwide, including a significant partnership with Stanford University\n",
    "on the Apple Heart Study, which uses Apple Watch to detect irregular heart rhythms,\n",
    "helping users catch early signs of atrial fibrillation. This collaboration is among the largest virtual cardiac studies globally.\n",
    "Apple, co-founded by Steve Jobs, has teamed up with Singapore’s Health Promotion Board for the LumiHealth initiative,\n",
    "a wellness program encouraging Apple Watch users in Singapore to adopt healthier lifestyle habits through personalized reminders and incentives.\n",
    "\"\"\")"
   ]
  },
  {
   "cell_type": "code",
   "execution_count": 27,
   "metadata": {},
   "outputs": [
    {
     "data": {
      "text/plain": [
       "{'Approximately': 'O',\n",
       " '60': 'O',\n",
       " 'percent': 'O',\n",
       " 'of': 'O',\n",
       " 'Austrian': 'B-MISC',\n",
       " 'territory': 'O',\n",
       " 'is': 'O',\n",
       " 'mountainous': 'O',\n",
       " 'and': 'O',\n",
       " 'belongs': 'O',\n",
       " 'to': 'O',\n",
       " 'the': 'O',\n",
       " 'Eastern': 'B-MISC',\n",
       " 'Alps': 'I-ORG',\n",
       " 'Tyrol': 'I-ORG',\n",
       " 'Central': 'B-ORG',\n",
       " 'Alps,': 'O',\n",
       " 'Hohe': 'I-PER',\n",
       " 'Tauern': 'O',\n",
       " 'Niedere': 'I-PER',\n",
       " 'Tauern,': 'O',\n",
       " 'Northern': 'B-ORG',\n",
       " 'Calcareous': 'O',\n",
       " 'or': 'O',\n",
       " 'Limestone': 'B-ORG',\n",
       " 'Southern': 'B-ORG',\n",
       " 'Wienerwald.': 'O',\n",
       " 'The': 'O',\n",
       " 'Bohemian': 'I-ORG',\n",
       " 'Massif': 'I-ORG',\n",
       " 'in': 'O',\n",
       " 'Upper': 'O',\n",
       " 'Lower': 'O',\n",
       " 'Austria,': 'O',\n",
       " 'north': 'O',\n",
       " 'Danube.': 'O'}"
      ]
     },
     "execution_count": 27,
     "metadata": {},
     "output_type": "execute_result"
    }
   ],
   "source": [
    "model.predict(\"\"\"Approximately 60 percent of Austrian territory is mountainous \n",
    "and belongs to the Eastern Alps (Tyrol Central Alps, Hohe Tauern and Niedere Tauern,\n",
    "Northern Calcareous or Limestone Alps, Southern Calcareous Alps and Wienerwald). \n",
    "The Bohemian Massif is in Upper and Lower Austria, north of the Danube.\"\"\")"
   ]
  },
  {
   "cell_type": "code",
   "execution_count": 28,
   "metadata": {},
   "outputs": [
    {
     "data": {
      "text/plain": [
       "{'Schwarzenegger': 'B-PER',\n",
       " 'began': 'O',\n",
       " 'lifting': 'O',\n",
       " 'weights': 'O',\n",
       " 'at': 'O',\n",
       " 'age': 'O',\n",
       " '15': 'O',\n",
       " 'and': 'O',\n",
       " 'won': 'O',\n",
       " 'the': 'O',\n",
       " 'Mr.': 'O',\n",
       " 'Universe': 'I-LOC',\n",
       " 'title': 'O',\n",
       " 'aged': 'O',\n",
       " '20,': 'O',\n",
       " 'subsequently': 'O',\n",
       " 'Olympia': 'B-LOC',\n",
       " 'seven': 'O',\n",
       " 'times.': 'O',\n",
       " 'He': 'O',\n",
       " 'is': 'O',\n",
       " 'tied': 'O',\n",
       " 'with': 'O',\n",
       " 'Phil': 'B-PER',\n",
       " 'Heath': 'B-PER',\n",
       " 'for': 'O',\n",
       " 'joint-second': 'O',\n",
       " 'number': 'O',\n",
       " 'of': 'O',\n",
       " 'all-time': 'O',\n",
       " 'wins,': 'O',\n",
       " 'behind': 'O',\n",
       " 'Ronnie': 'B-PER',\n",
       " 'Coleman': 'I-PER',\n",
       " 'Lee': 'B-PER',\n",
       " 'Haney,': 'O',\n",
       " 'who': 'O',\n",
       " 'are': 'O',\n",
       " 'joint-first': 'O',\n",
       " 'eight': 'O',\n",
       " 'wins': 'O',\n",
       " 'each.': 'O',\n",
       " 'widely': 'O',\n",
       " 'regarded': 'O',\n",
       " 'as': 'O',\n",
       " 'one': 'O',\n",
       " 'of,': 'O',\n",
       " 'if': 'O',\n",
       " 'not': 'O',\n",
       " 'greatest,': 'O',\n",
       " 'bodybuilders': 'O',\n",
       " 'all-time,': 'O',\n",
       " 'has': 'O',\n",
       " 'written': 'O',\n",
       " 'many': 'O',\n",
       " 'books': 'O',\n",
       " 'articles': 'O',\n",
       " 'about': 'O',\n",
       " 'it': 'O'}"
      ]
     },
     "execution_count": 28,
     "metadata": {},
     "output_type": "execute_result"
    }
   ],
   "source": [
    "model.predict(\"\"\"Schwarzenegger began lifting weights at age 15 and won the Mr. Universe title aged 20, \n",
    "and subsequently the Mr. Olympia title seven times. He is tied with Phil Heath for the \n",
    "joint-second number of all-time Mr. Olympia wins, behind Ronnie Coleman and Lee Haney, \n",
    "who are joint-first with eight wins each. He is widely regarded as one of, \n",
    "if not the greatest, bodybuilders of all-time, and has written many books and articles about it\"\"\")"
   ]
  },
  {
   "cell_type": "code",
   "execution_count": null,
   "metadata": {},
   "outputs": [],
   "source": []
  }
 ],
 "metadata": {
  "kernelspec": {
   "display_name": "nlp",
   "language": "python",
   "name": "python3"
  },
  "language_info": {
   "codemirror_mode": {
    "name": "ipython",
    "version": 3
   },
   "file_extension": ".py",
   "mimetype": "text/x-python",
   "name": "python",
   "nbconvert_exporter": "python",
   "pygments_lexer": "ipython3",
   "version": "3.11.10"
  }
 },
 "nbformat": 4,
 "nbformat_minor": 2
}
