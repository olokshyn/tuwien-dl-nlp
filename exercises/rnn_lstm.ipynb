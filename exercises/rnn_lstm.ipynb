{
 "cells": [
  {
   "cell_type": "code",
   "execution_count": 3,
   "metadata": {},
   "outputs": [],
   "source": [
    "import gc\n",
    "from functools import partial\n",
    "\n",
    "import torch\n",
    "import torch.nn as nn\n",
    "from torch.utils.data import DataLoader, Subset\n",
    "from transformers import GPT2Tokenizer\n",
    "from datasets import load_dataset\n",
    "import matplotlib.pyplot as plt"
   ]
  },
  {
   "cell_type": "code",
   "execution_count": 4,
   "metadata": {},
   "outputs": [
    {
     "data": {
      "application/vnd.jupyter.widget-view+json": {
       "model_id": "4a61be80911449a6bdb7b2c9d658c40f",
       "version_major": 2,
       "version_minor": 0
      },
      "text/plain": [
       "Resolving data files:   0%|          | 0/1024 [00:00<?, ?it/s]"
      ]
     },
     "metadata": {},
     "output_type": "display_data"
    },
    {
     "data": {
      "application/vnd.jupyter.widget-view+json": {
       "model_id": "13f8e19c9d9b4b33840d89720a0cf2db",
       "version_major": 2,
       "version_minor": 0
      },
      "text/plain": [
       "Resolving data files:   0%|          | 0/512 [00:00<?, ?it/s]"
      ]
     },
     "metadata": {},
     "output_type": "display_data"
    },
    {
     "data": {
      "application/vnd.jupyter.widget-view+json": {
       "model_id": "691e913dbc7141d3bdd02fa51c8ae200",
       "version_major": 2,
       "version_minor": 0
      },
      "text/plain": [
       "Loading dataset shards:   0%|          | 0/76 [00:00<?, ?it/s]"
      ]
     },
     "metadata": {},
     "output_type": "display_data"
    }
   ],
   "source": [
    "dataset = load_dataset(\"allenai/c4\", \"realnewslike\")\n",
    "subset = Subset(dataset[\"train\"], torch.arange(1000))"
   ]
  },
  {
   "cell_type": "code",
   "execution_count": 5,
   "metadata": {},
   "outputs": [
    {
     "data": {
      "text/plain": [
       "torch.nn.modules.rnn.LSTM"
      ]
     },
     "execution_count": 5,
     "metadata": {},
     "output_type": "execute_result"
    }
   ],
   "source": [
    "# https://github.com/pytorch/pytorch/blob/aa7be72cc55244978ddaf760338dab6b9cf977a1/torch/nn/modules/rnn.py#L631\n",
    "torch.nn.LSTM"
   ]
  },
  {
   "cell_type": "code",
   "execution_count": 6,
   "metadata": {},
   "outputs": [],
   "source": [
    "tokenizer = GPT2Tokenizer.from_pretrained('gpt2')\n",
    "if tokenizer.pad_token is None:\n",
    "    tokenizer.pad_token = tokenizer.eos_token"
   ]
  },
  {
   "cell_type": "code",
   "execution_count": 7,
   "metadata": {},
   "outputs": [
    {
     "data": {
      "text/plain": [
       "{'input_ids': torch.Size([100, 9999]),\n",
       " 'targets': torch.Size([100, 9999]),\n",
       " 'attention_mask': torch.Size([100, 9999])}"
      ]
     },
     "execution_count": 7,
     "metadata": {},
     "output_type": "execute_result"
    }
   ],
   "source": [
    "drop_characters = {',', 'the', 'a'}\n",
    "\n",
    "def preprocess_batched_text(batch, max_length: int = 10000):\n",
    "    # print(\"Max len:\", max_length)\n",
    "    text_batch = []\n",
    "    for text in batch[\"text\"]:\n",
    "        text_batch.append(''.join([x for x in text if x not in drop_characters]))\n",
    "    max_length = min(max(len(x) for x in text_batch), max_length)\n",
    "    encodings = tokenizer(\n",
    "        text_batch,\n",
    "        max_length=max_length,\n",
    "        truncation=True,\n",
    "        padding=\"max_length\",\n",
    "        return_tensors=\"pt\",\n",
    "    )\n",
    "    input_ids = encodings.input_ids.squeeze(0)\n",
    "    return {\n",
    "        \"input_ids\": input_ids[:, :-1],\n",
    "        \"targets\": input_ids[:, 1:],\n",
    "        \"attention_mask\": encodings.attention_mask.squeeze(0)[:, :-1],\n",
    "    }\n",
    "\n",
    "res = preprocess_batched_text(subset[:100])\n",
    "{key: value.shape for key, value in res.items()}"
   ]
  },
  {
   "cell_type": "code",
   "execution_count": 8,
   "metadata": {},
   "outputs": [],
   "source": [
    "def collate_fn(examples: list[dict], max_length: int):\n",
    "    text = [x['text'] for x in examples]\n",
    "    return preprocess_batched_text({'text': text}, max_length=max_length)"
   ]
  },
  {
   "cell_type": "code",
   "execution_count": 9,
   "metadata": {},
   "outputs": [],
   "source": [
    "class LSTMModel(nn.Module):\n",
    "    def __init__(self, vocab_size, embedding_dim, hidden_dim):\n",
    "        super().__init__()\n",
    "        self.embedding = nn.Embedding(vocab_size, embedding_dim)\n",
    "        self.lstm = nn.LSTM(embedding_dim, hidden_dim, batch_first=True)\n",
    "        self.linear = nn.Linear(hidden_dim, vocab_size)\n",
    "\n",
    "    def forward(self, x, hidden=None):\n",
    "        x = self.embedding(x)\n",
    "        x, hidden = self.lstm(x, hidden)\n",
    "        x = self.linear(x)\n",
    "        return x, hidden\n",
    "\n",
    "def train(model, dataloader, criterion, optimizer, epochs, device):\n",
    "    model.to(device)\n",
    "    model.train()\n",
    "\n",
    "    targets = None\n",
    "    input_ids = None\n",
    "    output = None\n",
    "    loss = None\n",
    "\n",
    "    total_loss = 0\n",
    "    total_examples = 0\n",
    "    average_loss = 0\n",
    "    perplexity = 0\n",
    "    grad_norms = []\n",
    "    for epoch in range(epochs):\n",
    "        \n",
    "        for batch_idx, batch in enumerate(dataloader):\n",
    "            optimizer.zero_grad()\n",
    "            del targets\n",
    "            del input_ids\n",
    "            del output\n",
    "            del loss\n",
    "\n",
    "            gc.collect()\n",
    "            torch.cuda.empty_cache()\n",
    "            torch.mps.empty_cache()\n",
    "\n",
    "            targets = batch['targets'].contiguous().to(device)\n",
    "            input_ids = batch['input_ids'].contiguous().to(device)\n",
    "            # Forward pass\n",
    "            output, _ = model(input_ids)\n",
    "            loss = criterion(output.view(-1, model.linear.out_features), targets.view(-1))\n",
    "\n",
    "            # Backward and optimize\n",
    "            loss.backward()\n",
    "            total_norm = 0\n",
    "            for p in model.parameters():\n",
    "                param_norm = p.grad.data.norm(2)\n",
    "                total_norm += param_norm.item() ** 2\n",
    "            total_norm = total_norm ** 0.5\n",
    "            grad_norms.append(total_norm)\n",
    "\n",
    "            total_loss += loss.item() * input_ids.size(0)\n",
    "            total_examples += input_ids.size(0)\n",
    "            optimizer.step()\n",
    "\n",
    "            if batch_idx % 10 == 0:\n",
    "                average_loss = total_loss / total_examples\n",
    "                perplexity = torch.exp(torch.tensor(average_loss))\n",
    "                print(f'Epoch [{epoch+1}/{epochs}], Step [{batch_idx+1}/{len(dataloader)}], Loss: {loss.item():.4f}, Perplexity: {perplexity.item()}')\n",
    "        average_loss = total_loss / total_examples\n",
    "        perplexity = torch.exp(torch.tensor(average_loss))\n",
    "        print(f'Epoch [{epoch+1}/{epochs}], Loss: {loss.item():.4f}, Perplexity: {perplexity.item()}')\n",
    "    return average_loss, perplexity, grad_norms\n"
   ]
  },
  {
   "cell_type": "code",
   "execution_count": 10,
   "metadata": {},
   "outputs": [
    {
     "name": "stdout",
     "output_type": "stream",
     "text": [
      "Number of batches in an epoch: 500\n",
      "input_ids shape: torch.Size([2, 499])\n",
      "targets shape: torch.Size([2, 499])\n",
      "Epoch [1/2], Step [1/500], Loss: 10.8143, Perplexity: 49729.04296875\n",
      "Epoch [1/2], Step [11/500], Loss: 9.0177, Perplexity: 23828.669921875\n",
      "Epoch [1/2], Step [21/500], Loss: 4.6563, Perplexity: 7339.20458984375\n",
      "Epoch [1/2], Step [31/500], Loss: 7.7405, Perplexity: 3458.179443359375\n",
      "Epoch [1/2], Step [41/500], Loss: 7.7426, Perplexity: 1998.533935546875\n",
      "Epoch [1/2], Step [51/500], Loss: 7.4209, Perplexity: 1397.13623046875\n",
      "Epoch [1/2], Step [61/500], Loss: 5.1746, Perplexity: 994.0478515625\n",
      "Epoch [1/2], Step [71/500], Loss: 5.6142, Perplexity: 928.0446166992188\n",
      "Epoch [1/2], Step [81/500], Loss: 4.6567, Perplexity: 818.1487426757812\n",
      "Epoch [1/2], Step [91/500], Loss: 7.7528, Perplexity: 778.0662841796875\n",
      "Epoch [1/2], Step [101/500], Loss: 4.0855, Perplexity: 639.448486328125\n",
      "Epoch [1/2], Step [111/500], Loss: 4.4955, Perplexity: 550.564453125\n",
      "Epoch [1/2], Step [121/500], Loss: 7.4888, Perplexity: 531.086181640625\n",
      "Epoch [1/2], Step [131/500], Loss: 7.1756, Perplexity: 500.27716064453125\n",
      "Epoch [1/2], Step [141/500], Loss: 5.0315, Perplexity: 486.19427490234375\n",
      "Epoch [1/2], Step [151/500], Loss: 5.5545, Perplexity: 481.4023742675781\n",
      "Epoch [1/2], Step [161/500], Loss: 4.9595, Perplexity: 458.7416076660156\n",
      "Epoch [1/2], Step [171/500], Loss: 3.9669, Perplexity: 446.1765441894531\n",
      "Epoch [1/2], Step [181/500], Loss: 4.7440, Perplexity: 438.1837158203125\n",
      "Epoch [1/2], Step [191/500], Loss: 5.8016, Perplexity: 411.2035217285156\n",
      "Epoch [1/2], Step [201/500], Loss: 4.6100, Perplexity: 379.0211486816406\n",
      "Epoch [1/2], Step [211/500], Loss: 7.6047, Perplexity: 360.29144287109375\n",
      "Epoch [1/2], Step [221/500], Loss: 7.0318, Perplexity: 359.038818359375\n",
      "Epoch [1/2], Step [231/500], Loss: 5.4672, Perplexity: 358.08099365234375\n",
      "Epoch [1/2], Step [241/500], Loss: 4.6720, Perplexity: 353.2126159667969\n",
      "Epoch [1/2], Step [251/500], Loss: 3.7406, Perplexity: 346.5439147949219\n",
      "Epoch [1/2], Step [261/500], Loss: 5.5421, Perplexity: 351.2961120605469\n",
      "Epoch [1/2], Step [271/500], Loss: 6.7068, Perplexity: 346.1845397949219\n",
      "Epoch [1/2], Step [281/500], Loss: 7.0424, Perplexity: 343.44384765625\n",
      "Epoch [1/2], Step [291/500], Loss: 4.2405, Perplexity: 329.2088623046875\n",
      "Epoch [1/2], Step [301/500], Loss: 3.5214, Perplexity: 321.1075744628906\n",
      "Epoch [1/2], Step [311/500], Loss: 5.4761, Perplexity: 317.7469482421875\n",
      "Epoch [1/2], Step [321/500], Loss: 6.8198, Perplexity: 312.3746032714844\n",
      "Epoch [1/2], Step [331/500], Loss: 6.4005, Perplexity: 310.02069091796875\n",
      "Epoch [1/2], Step [341/500], Loss: 6.6090, Perplexity: 307.75640869140625\n",
      "Epoch [1/2], Step [351/500], Loss: 1.3675, Perplexity: 295.27447509765625\n",
      "Epoch [1/2], Step [361/500], Loss: 6.3397, Perplexity: 292.25872802734375\n",
      "Epoch [1/2], Step [371/500], Loss: 2.8985, Perplexity: 284.2206115722656\n",
      "Epoch [1/2], Step [381/500], Loss: 6.5752, Perplexity: 284.7558898925781\n",
      "Epoch [1/2], Step [391/500], Loss: 1.3680, Perplexity: 279.6995849609375\n",
      "Epoch [1/2], Step [401/500], Loss: 5.7976, Perplexity: 279.5736999511719\n",
      "Epoch [1/2], Step [411/500], Loss: 6.5035, Perplexity: 275.01025390625\n",
      "Epoch [1/2], Step [421/500], Loss: 6.4956, Perplexity: 266.58135986328125\n",
      "Epoch [1/2], Step [431/500], Loss: 4.5940, Perplexity: 262.361572265625\n",
      "Epoch [1/2], Step [441/500], Loss: 6.0490, Perplexity: 260.5314636230469\n",
      "Epoch [1/2], Step [451/500], Loss: 4.1213, Perplexity: 255.78414916992188\n",
      "Epoch [1/2], Step [461/500], Loss: 6.4846, Perplexity: 255.07102966308594\n",
      "Epoch [1/2], Step [471/500], Loss: 4.4982, Perplexity: 254.55209350585938\n",
      "Epoch [1/2], Step [481/500], Loss: 6.5142, Perplexity: 255.79537963867188\n",
      "Epoch [1/2], Step [491/500], Loss: 6.4349, Perplexity: 253.23875427246094\n",
      "Epoch [1/2], Loss: 3.7495, Perplexity: 250.21206665039062\n",
      "Epoch [2/2], Step [1/500], Loss: 4.3165, Perplexity: 249.61062622070312\n",
      "Epoch [2/2], Step [11/500], Loss: 4.8253, Perplexity: 246.98094177246094\n",
      "Epoch [2/2], Step [21/500], Loss: 3.1260, Perplexity: 242.96527099609375\n",
      "Epoch [2/2], Step [31/500], Loss: 6.2927, Perplexity: 240.96083068847656\n",
      "Epoch [2/2], Step [41/500], Loss: 6.4400, Perplexity: 237.82955932617188\n",
      "Epoch [2/2], Step [51/500], Loss: 6.3157, Perplexity: 234.9396514892578\n",
      "Epoch [2/2], Step [61/500], Loss: 4.2850, Perplexity: 230.10597229003906\n",
      "Epoch [2/2], Step [71/500], Loss: 4.6684, Perplexity: 229.91043090820312\n",
      "Epoch [2/2], Step [81/500], Loss: 3.9692, Perplexity: 227.96563720703125\n",
      "Epoch [2/2], Step [91/500], Loss: 6.8829, Perplexity: 227.6786346435547\n",
      "Epoch [2/2], Step [101/500], Loss: 3.4549, Perplexity: 222.27957153320312\n",
      "Epoch [2/2], Step [111/500], Loss: 3.8622, Perplexity: 217.60435485839844\n",
      "Epoch [2/2], Step [121/500], Loss: 6.5243, Perplexity: 216.54400634765625\n",
      "Epoch [2/2], Step [131/500], Loss: 6.3096, Perplexity: 214.40597534179688\n",
      "Epoch [2/2], Step [141/500], Loss: 4.3030, Perplexity: 213.25634765625\n",
      "Epoch [2/2], Step [151/500], Loss: 4.8269, Perplexity: 212.8782958984375\n",
      "Epoch [2/2], Step [161/500], Loss: 4.3345, Perplexity: 210.8258056640625\n",
      "Epoch [2/2], Step [171/500], Loss: 3.4352, Perplexity: 209.4761199951172\n",
      "Epoch [2/2], Step [181/500], Loss: 4.2825, Perplexity: 208.5953826904297\n",
      "Epoch [2/2], Step [191/500], Loss: 5.0159, Perplexity: 205.37953186035156\n",
      "Epoch [2/2], Step [201/500], Loss: 4.0411, Perplexity: 201.06829833984375\n",
      "Epoch [2/2], Step [211/500], Loss: 6.7116, Perplexity: 198.2272186279297\n",
      "Epoch [2/2], Step [221/500], Loss: 6.2419, Perplexity: 197.82411193847656\n",
      "Epoch [2/2], Step [231/500], Loss: 4.8682, Perplexity: 197.4591064453125\n",
      "Epoch [2/2], Step [241/500], Loss: 4.1622, Perplexity: 196.494873046875\n",
      "Epoch [2/2], Step [251/500], Loss: 3.3298, Perplexity: 195.11239624023438\n",
      "Epoch [2/2], Step [261/500], Loss: 4.9638, Perplexity: 195.66395568847656\n",
      "Epoch [2/2], Step [271/500], Loss: 5.9405, Perplexity: 194.59263610839844\n",
      "Epoch [2/2], Step [281/500], Loss: 6.2942, Perplexity: 193.9062957763672\n",
      "Epoch [2/2], Step [291/500], Loss: 3.7510, Perplexity: 191.0085906982422\n",
      "Epoch [2/2], Step [301/500], Loss: 3.0895, Perplexity: 189.185546875\n",
      "Epoch [2/2], Step [311/500], Loss: 4.9679, Perplexity: 188.26475524902344\n",
      "Epoch [2/2], Step [321/500], Loss: 6.1099, Perplexity: 186.87013244628906\n",
      "Epoch [2/2], Step [331/500], Loss: 5.6625, Perplexity: 186.05418395996094\n",
      "Epoch [2/2], Step [341/500], Loss: 5.9599, Perplexity: 185.32980346679688\n",
      "Epoch [2/2], Step [351/500], Loss: 1.2394, Perplexity: 182.3269500732422\n",
      "Epoch [2/2], Step [361/500], Loss: 5.5709, Perplexity: 181.30194091796875\n",
      "Epoch [2/2], Step [371/500], Loss: 2.5800, Perplexity: 179.1223907470703\n",
      "Epoch [2/2], Step [381/500], Loss: 5.7682, Perplexity: 178.9061737060547\n",
      "Epoch [2/2], Step [391/500], Loss: 1.2319, Perplexity: 177.43809509277344\n",
      "Epoch [2/2], Step [401/500], Loss: 5.3006, Perplexity: 177.16510009765625\n",
      "Epoch [2/2], Step [411/500], Loss: 5.8754, Perplexity: 175.73216247558594\n",
      "Epoch [2/2], Step [421/500], Loss: 5.8311, Perplexity: 173.2754364013672\n",
      "Epoch [2/2], Step [431/500], Loss: 4.1059, Perplexity: 171.8995361328125\n",
      "Epoch [2/2], Step [441/500], Loss: 5.4231, Perplexity: 171.12887573242188\n",
      "Epoch [2/2], Step [451/500], Loss: 3.7285, Perplexity: 169.55506896972656\n",
      "Epoch [2/2], Step [461/500], Loss: 5.8383, Perplexity: 169.04244995117188\n",
      "Epoch [2/2], Step [471/500], Loss: 3.9968, Perplexity: 168.65774536132812\n",
      "Epoch [2/2], Step [481/500], Loss: 5.9013, Perplexity: 168.81698608398438\n",
      "Epoch [2/2], Step [491/500], Loss: 5.8302, Perplexity: 167.9002685546875\n",
      "Epoch [2/2], Loss: 3.4193, Perplexity: 166.79690551757812\n"
     ]
    },
    {
     "data": {
      "image/png": "[encoded data removed]",
      "text/plain": [
       "<Figure size 1000x500 with 1 Axes>"
      ]
     },
     "metadata": {},
     "output_type": "display_data"
    }
   ],
   "source": [
    "device = torch.device('cuda' if torch.cuda.is_available() else 'mps' if torch.backends.mps.is_available() else 'cpu')\n",
    "\n",
    "max_length = 500\n",
    "batch_size = 2\n",
    "epochs = 2\n",
    "vocab_size = tokenizer.vocab_size\n",
    "embedding_dim = 128\n",
    "hidden_dim = 256\n",
    "\n",
    "train_loader = torch.utils.data.DataLoader(subset, batch_size=batch_size, collate_fn=partial(collate_fn, max_length=max_length))\n",
    "print(\"Number of batches in an epoch:\", len(train_loader))\n",
    "for batch in train_loader:\n",
    "    print(\"input_ids shape:\", batch['input_ids'].shape)\n",
    "    print(\"targets shape:\", batch['targets'].shape)\n",
    "    break\n",
    "\n",
    "model = LSTMModel(vocab_size, embedding_dim, hidden_dim)\n",
    "criterion = nn.CrossEntropyLoss()\n",
    "optimizer = torch.optim.Adam(model.parameters(), lr=0.001)\n",
    "\n",
    "loss, perplexity, grad_norms = train(model, train_loader, criterion, optimizer, epochs=epochs, device=device)\n",
    "\n",
    "plt.figure(figsize=(10, 5))\n",
    "plt.plot(grad_norms, label='Gradient Norm')\n",
    "plt.xlabel('Batch steps')\n",
    "plt.ylabel('Gradient Norm')\n",
    "plt.title('Gradient Norms During Training')\n",
    "plt.show()"
   ]
  },
  {
   "cell_type": "code",
   "execution_count": 11,
   "metadata": {},
   "outputs": [
    {
     "data": {
      "text/plain": [
       "(4.692819959640503, tensor(109.1606))"
      ]
     },
     "execution_count": 11,
     "metadata": {},
     "output_type": "execute_result"
    }
   ],
   "source": [
    "val_subset = Subset(dataset[\"validation\"], torch.arange(1000))\n",
    "val_loader = torch.utils.data.DataLoader(val_subset, batch_size=batch_size, collate_fn=partial(collate_fn, max_length=max_length))\n",
    "\n",
    "\n",
    "def evaluate_model(model, dataloader, criterion):\n",
    "    model.eval()  # Set model to evaluation mode\n",
    "    total_loss = 0\n",
    "    total_examples = 0\n",
    "    \n",
    "    with torch.no_grad():  # No need to track gradients during evaluation\n",
    "        for batch in dataloader:\n",
    "            # Prepare inputs and targets\n",
    "            targets = batch['targets'].contiguous().to(device)\n",
    "            input_ids = batch['input_ids'].contiguous().to(device)\n",
    "\n",
    "            # Forward pass\n",
    "            outputs, _ = model(input_ids)\n",
    "            outputs = outputs.reshape(-1, outputs.size(-1))\n",
    "            targets = targets.reshape(-1)\n",
    "\n",
    "            # Calculate loss\n",
    "            loss = criterion(outputs, targets)\n",
    "            total_loss += loss.item() * input_ids.size(0)\n",
    "            total_examples += input_ids.size(0)\n",
    "\n",
    "    average_loss = total_loss / total_examples\n",
    "    perplexity = torch.exp(torch.tensor(average_loss))\n",
    "    return average_loss, perplexity\n",
    "\n",
    "evaluate_model(model, val_loader, criterion)"
   ]
  },
  {
   "cell_type": "code",
   "execution_count": 12,
   "metadata": {},
   "outputs": [
    {
     "data": {
      "text/plain": [
       "torch.Size([499, 50257])"
      ]
     },
     "execution_count": 12,
     "metadata": {},
     "output_type": "execute_result"
    }
   ],
   "source": [
    "val_batch = next(iter(val_loader))\n",
    "preds, _ = model(val_batch['input_ids'][0].to(device))\n",
    "targets = val_batch['targets'][0].to(device)\n",
    "preds.shape"
   ]
  },
  {
   "cell_type": "code",
   "execution_count": 13,
   "metadata": {},
   "outputs": [
    {
     "data": {
      "text/plain": [
       "['uster',\n",
       " 'comprises',\n",
       " 'IBM',\n",
       " \"'s\",\n",
       " 'Op',\n",
       " 'ter',\n",
       " 'on',\n",
       " '-',\n",
       " 'bs',\n",
       " 'ed',\n",
       " 'e',\n",
       " 'Server',\n",
       " '325',\n",
       " 'server',\n",
       " 'n',\n",
       " 'd',\n",
       " 'systems',\n",
       " 'm',\n",
       " 'ng',\n",
       " 'ement',\n",
       " 'soft',\n",
       " 'w',\n",
       " 're',\n",
       " 'n',\n",
       " 'd',\n",
       " 'st',\n",
       " 'orge',\n",
       " 'devices',\n",
       " 'th',\n",
       " 't',\n",
       " 'c',\n",
       " 'n',\n",
       " 'run',\n",
       " 'Linux',\n",
       " 'n',\n",
       " 'd',\n",
       " 'Windows',\n",
       " 'oper',\n",
       " 'ting',\n",
       " 'systems',\n",
       " '.',\n",
       " 'Ċ',\n",
       " 'IB',\n",
       " 'M',\n",
       " 'on',\n",
       " 'Tues',\n",
       " 'dy',\n",
       " 'n',\n",
       " 'n',\n",
       " 'ounced',\n",
       " '',\n",
       " 'prep',\n",
       " 'ck',\n",
       " 'ged',\n",
       " 'n',\n",
       " 'd',\n",
       " 'pret',\n",
       " 'ested',\n",
       " 'cluster',\n",
       " 'th',\n",
       " 't',\n",
       " 'is',\n",
       " 'powered',\n",
       " 'by',\n",
       " 'Adv',\n",
       " 'n',\n",
       " 'ced',\n",
       " 'Micro',\n",
       " 'Devices',\n",
       " 'Inc',\n",
       " '.',\n",
       " 's',\n",
       " '64',\n",
       " '-',\n",
       " 'bit',\n",
       " 'Op',\n",
       " 'ter',\n",
       " 'on',\n",
       " 'processor',\n",
       " '.',\n",
       " 'Ċ',\n",
       " 'IB',\n",
       " 'M',\n",
       " 'of',\n",
       " 'Ar',\n",
       " 'mon',\n",
       " 'k',\n",
       " 'N',\n",
       " '.',\n",
       " 'Y',\n",
       " '.',\n",
       " 'is',\n",
       " 'combining',\n",
       " 'its',\n",
       " 'Op',\n",
       " 'ter',\n",
       " 'on',\n",
       " '-',\n",
       " 'bs',\n",
       " 'ed']"
      ]
     },
     "execution_count": 13,
     "metadata": {},
     "output_type": "execute_result"
    }
   ],
   "source": [
    "[x.replace('Ġ', '') for x in tokenizer.convert_ids_to_tokens(targets)][:100]"
   ]
  },
  {
   "cell_type": "code",
   "execution_count": 14,
   "metadata": {},
   "outputs": [
    {
     "data": {
      "text/plain": [
       "['l',\n",
       " 'âĢ',\n",
       " '-',\n",
       " 'the',\n",
       " '',\n",
       " 'n',\n",
       " 'the',\n",
       " 'n',\n",
       " 'old',\n",
       " 'ed',\n",
       " 'to',\n",
       " 'ch',\n",
       " 'the',\n",
       " '.',\n",
       " 'n',\n",
       " 'd',\n",
       " 'the',\n",
       " 'n',\n",
       " 'de',\n",
       " 'ement',\n",
       " '.',\n",
       " 'the',\n",
       " 'rd',\n",
       " 'to',\n",
       " 'd',\n",
       " 'the',\n",
       " 'te',\n",
       " '.',\n",
       " '.',\n",
       " 't',\n",
       " 'the',\n",
       " 'n',\n",
       " 'be',\n",
       " 'of',\n",
       " 'the',\n",
       " 'd',\n",
       " 'the',\n",
       " 'the',\n",
       " 'tion',\n",
       " 'the',\n",
       " '.',\n",
       " 'Ċ',\n",
       " 'The',\n",
       " 'âĢ',\n",
       " 'the',\n",
       " 'the',\n",
       " 'dy',\n",
       " '.',\n",
       " 'd',\n",
       " 'ounced',\n",
       " 'the',\n",
       " 'new',\n",
       " 'of',\n",
       " 'to',\n",
       " '.',\n",
       " 'd',\n",
       " 'the',\n",
       " 'the',\n",
       " 'the',\n",
       " 'n',\n",
       " 't',\n",
       " 'the',\n",
       " '',\n",
       " 'to',\n",
       " 'the',\n",
       " 'n',\n",
       " '.',\n",
       " '.',\n",
       " '.',\n",
       " '.',\n",
       " '.',\n",
       " 'Ċ',\n",
       " '.',\n",
       " 'the',\n",
       " 'old',\n",
       " '-',\n",
       " 'm',\n",
       " 'n',\n",
       " 'n',\n",
       " 'n',\n",
       " 'Ċ',\n",
       " 'The',\n",
       " 'âĢ',\n",
       " 'h',\n",
       " 'the',\n",
       " 'n',\n",
       " 'âĢ',\n",
       " 'the',\n",
       " 'tion',\n",
       " 'Ċ',\n",
       " '.',\n",
       " 'Ċ',\n",
       " '',\n",
       " 't',\n",
       " '',\n",
       " 'n',\n",
       " 'the',\n",
       " 'n',\n",
       " 'old',\n",
       " 'ed']"
      ]
     },
     "execution_count": 14,
     "metadata": {},
     "output_type": "execute_result"
    }
   ],
   "source": [
    "[x.replace('Ġ', '') for x in tokenizer.convert_ids_to_tokens(preds.argmax(dim=-1))][:100]"
   ]
  },
  {
   "cell_type": "code",
   "execution_count": null,
   "metadata": {},
   "outputs": [],
   "source": []
  }
 ],
 "metadata": {
  "kernelspec": {
   "display_name": "emb",
   "language": "python",
   "name": "python3"
  },
  "language_info": {
   "codemirror_mode": {
    "name": "ipython",
    "version": 3
   },
   "file_extension": ".py",
   "mimetype": "text/x-python",
   "name": "python",
   "nbconvert_exporter": "python",
   "pygments_lexer": "ipython3",
   "version": "3.11.9"
  }
 },
 "nbformat": 4,
 "nbformat_minor": 2
}
